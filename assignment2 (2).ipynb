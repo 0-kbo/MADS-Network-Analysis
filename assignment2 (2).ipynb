{
 "cells": [
  {
   "cell_type": "markdown",
   "metadata": {},
   "source": [
    "# Assignment 2\n",
    "### Last updated: June 23, 2022"
   ]
  },
  {
   "cell_type": "markdown",
   "metadata": {},
   "source": [
    "### Name: Kevin Borah\n",
    "\n",
    "### Uniqname: kborah\n",
    "\n",
    "## Instructions\n",
    "\n",
    "Please turn in:\n",
    "1. A Jupyter Notebook file. This file should show all of the required work, including code, results, visualizations (if any), and necessary comments to your code. Irrelevant code and results should be deleted prior to submission. This file is submitted automatically when you submit your notebook to be autograded. This is done in Assignment 2 -- Create. \n",
    "\n",
    "2. An HTML file of the Notebook. Submit this file in Assignment 2 - Submit. \n",
    "\n",
    "3. A PDF file of the Notebook. Submit this file in Assignment 2 - Submit.  \n",
    "\n",
    "### Before submitting, please select Kernel -> Restart & Run All.\n",
    "\n",
    "### Please do not remove any code outside of the Not Implemented Error sections. The autograder may need it. "
   ]
  },
  {
   "cell_type": "markdown",
   "metadata": {
    "colab_type": "text",
    "deletable": false,
    "editable": false,
    "id": "nrAhk44gtK3I",
    "nbgrader": {
     "cell_type": "markdown",
     "checksum": "ead8af1813b4572de266a75fa4385ffb",
     "grade": false,
     "grade_id": "cell-a2cdbb449cddef2c",
     "locked": true,
     "schema_version": 3,
     "solution": false
    }
   },
   "source": [
    "# Assignment 2"
   ]
  },
  {
   "cell_type": "code",
   "execution_count": 1,
   "metadata": {
    "colab": {
     "base_uri": "https://localhost:8080/",
     "height": 71
    },
    "colab_type": "code",
    "deletable": false,
    "editable": false,
    "id": "-Sr2f244Jiyy",
    "nbgrader": {
     "cell_type": "code",
     "checksum": "2211648c7b29d496dee3aa73c040c420",
     "grade": false,
     "grade_id": "cell-9ea4df2c6acc2d1c",
     "locked": true,
     "schema_version": 3,
     "solution": false
    },
    "outputId": "f6251f3d-ac5d-4668-9d11-1cfd2b3d397f"
   },
   "outputs": [],
   "source": [
    "import networkx as nx\n",
    "import pandas as pd\n",
    "import numpy as np\n",
    "\n",
    "import urllib\n",
    "import random\n",
    "import json\n",
    "import operator\n",
    "import random\n",
    "\n",
    "import matplotlib.pyplot as plt\n",
    "#import seaborn as sns"
   ]
  },
  {
   "cell_type": "markdown",
   "metadata": {
    "colab_type": "text",
    "deletable": false,
    "editable": false,
    "id": "1NFUZ5KgOq9V",
    "nbgrader": {
     "cell_type": "markdown",
     "checksum": "ae8ad9c002550eaa864082c334160132",
     "grade": false,
     "grade_id": "cell-05dc3fa78f64ab53",
     "locked": true,
     "schema_version": 3,
     "solution": false
    }
   },
   "source": [
    "## Dataset description\n",
    "\n",
    "In this assignment, you will explore several network generative models to understand how varying model parameters affects network structure. Our exploration will be based on a real-world dataset: \n",
    "\n",
    "[Astrophysics collaborations](http://www-personal.umich.edu/~mejn/netdata/astro-ph.zip): a network of coauthorships between scientists posting preprints on the Astrophysics E-Print Archive between Jan 1, 1995 and December 31, 1999. An edge exists between two researchers if they have co-authored at least one paper. \n",
    "\n",
    "Newman, M. E. (2001). The structure of scientific collaboration networks. Proceedings of the national academy of sciences, 98(2), 404-409.\n",
    "\n",
    "Let's load the graph from `assets/astro_phy.gml`."
   ]
  },
  {
   "cell_type": "code",
   "execution_count": 2,
   "metadata": {
    "colab": {},
    "colab_type": "code",
    "deletable": false,
    "id": "paO4QN2sscSk",
    "nbgrader": {
     "cell_type": "code",
     "checksum": "b0581331bed3113d4a82d7d75c8e1ec1",
     "grade": false,
     "grade_id": "cell-8a6be92ef6ef49a0",
     "locked": false,
     "schema_version": 3,
     "solution": true
    }
   },
   "outputs": [],
   "source": [
    "G = nx.read_gml('assets/astro_phy.gml')  # load the graph to G\n",
    "\n",
    "# YOUR CODE HERE\n",
    "# raise NotImplementedError()"
   ]
  },
  {
   "cell_type": "markdown",
   "metadata": {
    "colab_type": "text",
    "deletable": false,
    "editable": false,
    "id": "ueKMoYaLusq6",
    "nbgrader": {
     "cell_type": "markdown",
     "checksum": "27b4c344dc61ecc853414d7c747fb238",
     "grade": false,
     "grade_id": "cell-2adc9a420c42a541",
     "locked": true,
     "schema_version": 3,
     "solution": false
    }
   },
   "source": [
    "`plot_deg_distribution(G, z, log)` is a helper function that can plot the degree distribution of graph `G` using the NetworkX function `degree_histogram`. `z` is a zoom-in parameter. If $z \\ge 0$ is specified, a zoom-in plot will be presented and show only the first $z$ values in the node distribution array. If no $z$ is specified, the plot of the complete node distribution will be shown. `log` is a flag indicating whether to plot the node distribution in log-log scale. It is defaulted to `False`."
   ]
  },
  {
   "cell_type": "code",
   "execution_count": 3,
   "metadata": {
    "colab": {},
    "colab_type": "code",
    "deletable": false,
    "editable": false,
    "id": "8PuBuGDnQrWB",
    "nbgrader": {
     "cell_type": "code",
     "checksum": "902ca5b2a79ce9f75aa708dfe6bd83b5",
     "grade": false,
     "grade_id": "cell-881dea8f25649c74",
     "locked": true,
     "schema_version": 3,
     "solution": false
    }
   },
   "outputs": [],
   "source": [
    "class fig_wrapper:\n",
    "    def __init__(self):\n",
    "        self.img = None\n",
    "        self.log = False\n",
    "        self.x = []\n",
    "        self.y = []\n",
    "\n",
    "def plot_deg_distribution(G, z=-1, log=False):\n",
    "    wrapper = fig_wrapper()\n",
    "    freq = nx.degree_histogram(G);\n",
    "    x = [i for i in range(len(freq))]\n",
    "    if log:\n",
    "        wrapper.log = True\n",
    "        freq = [np.log(f+1) for f in freq]\n",
    "        x = [np.log(i+1) for i in x]\n",
    "        fig, ax = plt.subplots(figsize = (5, 4))\n",
    "        ax.scatter(x=x, y=freq, color='#fc7930',s=5);\n",
    "        ax.set_title(\"log-log scale\")\n",
    "        wrapper.img = ax\n",
    "        wrapper.x = x\n",
    "        wrapper.y = freq\n",
    "        return wrapper\n",
    "    if z < 0:\n",
    "        fig, ax = plt.subplots(figsize = (5, 4))\n",
    "        ax.scatter(x=x, y=freq, color='#fc7930',s=5);\n",
    "        ax.set_title(\"linear scale\")\n",
    "    else:\n",
    "        fig, ax = plt.subplots(figsize = (5, 4))\n",
    "        ax.scatter(x=x[:20], y=freq[:20], color='#fc7930',s=5);  # zoom in\n",
    "        ax.set_title(\"zoom-in\")\n",
    "    wrapper.img = ax\n",
    "    wrapper.x = x\n",
    "    wrapper.y = freq\n",
    "    print(wrapper)\n",
    "    return wrapper"
   ]
  },
  {
   "cell_type": "markdown",
   "metadata": {
    "colab_type": "text",
    "deletable": false,
    "editable": false,
    "id": "G52T8FtSvJ-n",
    "nbgrader": {
     "cell_type": "markdown",
     "checksum": "35f3b69c54a6af41c85ff5b10b3fb4d8",
     "grade": false,
     "grade_id": "cell-bda0196dccedea42",
     "locked": true,
     "schema_version": 3,
     "solution": false
    }
   },
   "source": [
    "--- \n",
    "\n",
    "## Part 1. Modeling the real astrophysics collaboration network\n"
   ]
  },
  {
   "cell_type": "markdown",
   "metadata": {
    "colab_type": "text",
    "deletable": false,
    "editable": false,
    "id": "V34X8_bHwK1v",
    "nbgrader": {
     "cell_type": "markdown",
     "checksum": "cdee4ddaf418f874dc90ade9bbfcbe1e",
     "grade": false,
     "grade_id": "cell-db6011e87ad393c8",
     "locked": true,
     "schema_version": 3,
     "solution": false
    }
   },
   "source": [
    "### Q1. Degree distribution of the astrophysics collaboration network\n",
    "#### 1.1 (1 point, Autograded) Plot the node degree distribution of the astrophysics collaboration network in log-log scale using the function `plot_deg_distribution(G, z, log)` provided above."
   ]
  },
  {
   "cell_type": "code",
   "execution_count": 4,
   "metadata": {
    "colab": {
     "base_uri": "https://localhost:8080/",
     "height": 265
    },
    "colab_type": "code",
    "deletable": false,
    "id": "8QznQ8ghJt-6",
    "nbgrader": {
     "cell_type": "code",
     "checksum": "340952b2054d307f019c2ae3e0c9f200",
     "grade": false,
     "grade_id": "cell-fa06c7fbbb3dcdac",
     "locked": false,
     "schema_version": 3,
     "solution": true
    },
    "outputId": "4fb4f45d-bacf-426d-bcbb-d08c0a63348d"
   },
   "outputs": [
    {
     "data": {
      "image/png": "[encoded data removed]",
      "text/plain": [
       "<Figure size 360x288 with 1 Axes>"
      ]
     },
     "metadata": {
      "needs_background": "light"
     },
     "output_type": "display_data"
    }
   ],
   "source": [
    "ans = plot_deg_distribution(G, log = True)  # assign the return value of plot_deg_distribution(G, z, log) here\n",
    "# YOUR CODE HERE\n",
    "# raise NotImplementedError()"
   ]
  },
  {
   "cell_type": "code",
   "execution_count": 5,
   "metadata": {
    "deletable": false,
    "editable": false,
    "nbgrader": {
     "cell_type": "code",
     "checksum": "0140e9ab813e1f55e3bd896d9a5f0e9b",
     "grade": true,
     "grade_id": "cell-d793d0c49235c66f",
     "locked": true,
     "points": 1,
     "schema_version": 3,
     "solution": false
    }
   },
   "outputs": [],
   "source": [
    "#hidden tests for Question 1.1 are within this cell"
   ]
  },
  {
   "cell_type": "markdown",
   "metadata": {
    "deletable": false,
    "editable": false,
    "nbgrader": {
     "cell_type": "markdown",
     "checksum": "d908d7f2065ab60f38eb18343198e315",
     "grade": false,
     "grade_id": "cell-f92a95f68e6a2678",
     "locked": true,
     "schema_version": 3,
     "solution": false
    }
   },
   "source": [
    "#### 1.2 (1 point, Autograded) Does the distribution look more like a power law distribution or a normal distribution?\n",
    "> Indicate the distribution by assigning either of the two strings to `distribution_more_like`:\n",
    "> - `\"power law\"`\n",
    "> - `\"normal\"`"
   ]
  },
  {
   "cell_type": "code",
   "execution_count": 6,
   "metadata": {
    "deletable": false,
    "nbgrader": {
     "cell_type": "code",
     "checksum": "43cf66fe90f5f54d5956eb0479363ac1",
     "grade": false,
     "grade_id": "cell-50e046a492109b71",
     "locked": false,
     "schema_version": 3,
     "solution": true
    }
   },
   "outputs": [],
   "source": [
    "distribution_more_like = \"power law\"  # a string with the value \"power law\" or \"normal\"\n",
    "\n",
    "# YOUR CODE HERE\n",
    "# raise NotImplementedError()"
   ]
  },
  {
   "cell_type": "code",
   "execution_count": 7,
   "metadata": {
    "deletable": false,
    "editable": false,
    "nbgrader": {
     "cell_type": "code",
     "checksum": "b4753d78703ff8438f81ab4f57b509f7",
     "grade": true,
     "grade_id": "cell-59b561d552514817",
     "locked": true,
     "points": 1,
     "schema_version": 3,
     "solution": false
    }
   },
   "outputs": [],
   "source": [
    "#hidden tests for Question 1.2 are within this cell"
   ]
  },
  {
   "cell_type": "markdown",
   "metadata": {
    "colab_type": "text",
    "deletable": false,
    "editable": false,
    "id": "0kBXRCmsvS57",
    "nbgrader": {
     "cell_type": "markdown",
     "checksum": "33f250d28654c46e24350df95dcbabe1",
     "grade": false,
     "grade_id": "cell-8fb95b59547a42fb",
     "locked": true,
     "schema_version": 3,
     "solution": false
    }
   },
   "source": [
    "### Q2. (2 points, Autograded) What is the transitivity and average clustering coefficient of this network?"
   ]
  },
  {
   "cell_type": "code",
   "execution_count": 8,
   "metadata": {
    "colab": {
     "base_uri": "https://localhost:8080/",
     "height": 34
    },
    "colab_type": "code",
    "deletable": false,
    "id": "HWonZFvqSGDA",
    "nbgrader": {
     "cell_type": "code",
     "checksum": "c89701210a08d48d3918cea643bb4f65",
     "grade": false,
     "grade_id": "cell-77cc5d397efa86ca",
     "locked": false,
     "schema_version": 3,
     "solution": true
    },
    "outputId": "8e26bf26-966a-4f42-a78c-3fdfcff507e6"
   },
   "outputs": [
    {
     "data": {
      "text/plain": [
       "(0.35974084901216435, 0.5959058646296254)"
      ]
     },
     "execution_count": 8,
     "metadata": {},
     "output_type": "execute_result"
    }
   ],
   "source": [
    "transitivity = nx.transitivity(G)        # transitivity value. This should be a float. \n",
    "average_clustering = nx.average_clustering(G)  # average clustering coefficient. This should be a float. \n",
    "\n",
    "# YOUR CODE HERE\n",
    "# raise NotImplementedError()\n",
    "transitivity, average_clustering"
   ]
  },
  {
   "cell_type": "code",
   "execution_count": 9,
   "metadata": {
    "deletable": false,
    "editable": false,
    "nbgrader": {
     "cell_type": "code",
     "checksum": "fe77501b6c2fc62b8c669446b47b168b",
     "grade": true,
     "grade_id": "cell-607f330408f4f150",
     "locked": true,
     "points": 2,
     "schema_version": 3,
     "solution": false
    }
   },
   "outputs": [],
   "source": [
    "#hidden tests for Question 2 are within this cell"
   ]
  },
  {
   "cell_type": "markdown",
   "metadata": {
    "deletable": false,
    "editable": false,
    "nbgrader": {
     "cell_type": "markdown",
     "checksum": "c169dc4e0ca67e10c3386445fc6558e0",
     "grade": false,
     "grade_id": "cell-8535a16f26e4cc0f",
     "locked": true,
     "schema_version": 3,
     "solution": false
    }
   },
   "source": [
    "### Q3. (3 points, Autograded) What is the maximum, minimum, mean, and standard deviation of the PageRank values of the nodes in $G$?"
   ]
  },
  {
   "cell_type": "code",
   "execution_count": 10,
   "metadata": {
    "deletable": false,
    "nbgrader": {
     "cell_type": "code",
     "checksum": "945507041649764d18890e20ac5bc5e1",
     "grade": false,
     "grade_id": "cell-0d5d7db7ea438911",
     "locked": false,
     "schema_version": 3,
     "solution": true
    }
   },
   "outputs": [
    {
     "data": {
      "text/plain": [
       "(0.0007549911273143324,\n",
       " 9.29080217842842e-06,\n",
       " 5.9858733389201475e-05,\n",
       " 4.8109295457371815e-05)"
      ]
     },
     "execution_count": 10,
     "metadata": {},
     "output_type": "execute_result"
    }
   ],
   "source": [
    "pagerank_dict = nx.pagerank(G)\n",
    "\n",
    "max_pgv = max(pagerank_dict.values())  # maximum PageRank value. This should be a float. \n",
    "min_pgv = min(pagerank_dict.values())  # minimum PageRank value. This should be a float. \n",
    "mean_pgv = np.array(list(pagerank_dict.values())).mean()  # mean of PageRank value. This should be a float. \n",
    "std_pgv = np.array(list(pagerank_dict.values())).std()  # standard deviation of PageRank value. This should be a float. \n",
    "\n",
    "max_pgv, min_pgv, mean_pgv, std_pgv\n",
    "# YOUR CODE HERE\n",
    "# raise NotImplementedError()"
   ]
  },
  {
   "cell_type": "code",
   "execution_count": 11,
   "metadata": {
    "deletable": false,
    "editable": false,
    "nbgrader": {
     "cell_type": "code",
     "checksum": "42ce30d83b695d49cd92216d357c6075",
     "grade": true,
     "grade_id": "cell-0136c88c872fd4a3",
     "locked": true,
     "points": 3,
     "schema_version": 3,
     "solution": false
    }
   },
   "outputs": [],
   "source": [
    "#hidden tests for Question 3 are within this cell"
   ]
  },
  {
   "cell_type": "markdown",
   "metadata": {
    "deletable": false,
    "editable": false,
    "nbgrader": {
     "cell_type": "markdown",
     "checksum": "a3fd73461638f818051bb2b749cb8bf7",
     "grade": false,
     "grade_id": "cell-c12af30fe7259332",
     "locked": true,
     "schema_version": 3,
     "solution": false
    }
   },
   "source": [
    "### Now that we have obtained some basic properties of the structure of network G, you will compare them with the properties of random networks with around the same number of nodes and edges using the various models we covered in lecture: the Erdős-Rényi model, the preferential attachment model, and a small world model. "
   ]
  },
  {
   "cell_type": "markdown",
   "metadata": {
    "colab_type": "text",
    "deletable": false,
    "editable": false,
    "id": "U9fQiTtsPp4z",
    "nbgrader": {
     "cell_type": "markdown",
     "checksum": "7134f5d0b1cd256d7bf46b101ecf71fa",
     "grade": false,
     "grade_id": "cell-281456885b741f1b",
     "locked": true,
     "schema_version": 3,
     "solution": false
    }
   },
   "source": [
    "### Erdős-Rényi Graph\n",
    "\n",
    "The NetworkX function `erdos_renyi_graph` with parameters $n$ and $p$ generates an Erdős-Rényi Graph with `n` nodes and where each pair of nodes is connected by an edge with probability `p`. If the parameter directed is set to `True`, the function generates a directed graph. Since in this case we want an undirected graph, you should set the parameter directed to `False`.\n",
    "\n",
    "An alternative function, `fast_gnp_random_graph` produces the same graph and has the same parameters as `erdos_renyi_graph`. However, `fast_gnp_random_graph`is faster when the expected number of edges is small (i.e. sparse graph). "
   ]
  },
  {
   "cell_type": "markdown",
   "metadata": {
    "colab_type": "text",
    "deletable": false,
    "editable": false,
    "id": "fzC0_nm4k2zC",
    "nbgrader": {
     "cell_type": "markdown",
     "checksum": "042bc0c6764b47a81e3190e80307deac",
     "grade": false,
     "grade_id": "cell-d5c72e44a5c38ffc",
     "locked": true,
     "schema_version": 3,
     "solution": false
    }
   },
   "source": [
    "### Q4. (4 points, Autograded) Use the function `fast_gnp_random_graph` to create a random graph $G_1$, such that $G_1$ has the same number of nodes as $G$ and the expected number of edges of $G_1$ is the same as the number of edges in $G$. Plot the node degree distribution of $G_1$.\n",
    "\n",
    "**Hint**: to pass the autograder, please make sure your plot is in linear scale."
   ]
  },
  {
   "cell_type": "code",
   "execution_count": 12,
   "metadata": {
    "deletable": false,
    "nbgrader": {
     "cell_type": "code",
     "checksum": "3f2da22ef3fed8dcf621449ff20025b1",
     "grade": false,
     "grade_id": "cell-4837ffba28f1f382",
     "locked": false,
     "schema_version": 3,
     "solution": true
    }
   },
   "outputs": [
    {
     "name": "stdout",
     "output_type": "stream",
     "text": [
      "<__main__.fig_wrapper object at 0x7fa071a843d0>\n"
     ]
    },
    {
     "data": {
      "image/png": "[encoded data removed]",
      "text/plain": [
       "<Figure size 360x288 with 1 Axes>"
      ]
     },
     "metadata": {
      "needs_background": "light"
     },
     "output_type": "display_data"
    }
   ],
   "source": [
    "random.seed(0)   # sync the autograder\n",
    "\n",
    "n = len(G.nodes)  # number of nodes. This should be an int. \n",
    "m = len(G.edges)  # number of edges. This should be an int. \n",
    "p = m / (n*(n-1)/2)  # probability of edges between nodes. This should be a float in [0,1]. \n",
    "# p = n/m\n",
    "G1 = nx.fast_gnp_random_graph(n,p)   # assign your networkx graph here.\n",
    "ans = plot_deg_distribution(G1)  # assign your return value of plot_deg_distribution(G1, z, log) here.\n",
    "\n",
    "# YOUR CODE HERE\n",
    "# raise NotImplementedError()"
   ]
  },
  {
   "cell_type": "code",
   "execution_count": 13,
   "metadata": {},
   "outputs": [
    {
     "data": {
      "text/plain": [
       "0.0007820585620868005"
      ]
     },
     "execution_count": 13,
     "metadata": {},
     "output_type": "execute_result"
    }
   ],
   "source": [
    "p"
   ]
  },
  {
   "cell_type": "code",
   "execution_count": 14,
   "metadata": {
    "deletable": false,
    "editable": false,
    "nbgrader": {
     "cell_type": "code",
     "checksum": "7683d862b2045666d11dc88245089821",
     "grade": true,
     "grade_id": "cell-a4138f547d418166",
     "locked": true,
     "points": 4,
     "schema_version": 3,
     "solution": false
    }
   },
   "outputs": [],
   "source": [
    "#hidden tests for Question 4 are within this cell"
   ]
  },
  {
   "cell_type": "markdown",
   "metadata": {
    "deletable": false,
    "editable": false,
    "nbgrader": {
     "cell_type": "markdown",
     "checksum": "ef2ce9f28533b749b8eb82ed9d8de65b",
     "grade": false,
     "grade_id": "cell-7b4aee0618445fbd",
     "locked": true,
     "schema_version": 3,
     "solution": false
    }
   },
   "source": [
    "### Q5. (2 points, Autograded) What is the transitivity and average clustering coefficient of $G_1$?"
   ]
  },
  {
   "cell_type": "code",
   "execution_count": 15,
   "metadata": {
    "deletable": false,
    "nbgrader": {
     "cell_type": "code",
     "checksum": "69d75735bbab86d850c5c78ec97b8328",
     "grade": false,
     "grade_id": "cell-3f076a1b85a63541",
     "locked": false,
     "schema_version": 3,
     "solution": true
    }
   },
   "outputs": [
    {
     "data": {
      "text/plain": [
       "(0.0007693775169860527, 0.0007734629507445311)"
      ]
     },
     "execution_count": 15,
     "metadata": {},
     "output_type": "execute_result"
    }
   ],
   "source": [
    "transitivity = nx.transitivity(G1)        # transitivity value. This should be a float. \n",
    "average_clustering = nx.average_clustering(G1)# clustering coefficient value. This should be a float. \n",
    "\n",
    "\n",
    "transitivity, average_clustering\n",
    "# YOUR CODE HERE\n",
    "# raise NotImplementedError()"
   ]
  },
  {
   "cell_type": "code",
   "execution_count": 16,
   "metadata": {
    "deletable": false,
    "editable": false,
    "nbgrader": {
     "cell_type": "code",
     "checksum": "d83152da5ff9a901ecd749bc7b6898e0",
     "grade": true,
     "grade_id": "cell-888da72e394d5003",
     "locked": true,
     "points": 2,
     "schema_version": 3,
     "solution": false
    }
   },
   "outputs": [],
   "source": [
    "#hidden tests for Question 5 are within this cell"
   ]
  },
  {
   "cell_type": "markdown",
   "metadata": {
    "deletable": false,
    "editable": false,
    "nbgrader": {
     "cell_type": "markdown",
     "checksum": "f0c2c1c878fc0eeed632dc68ad93700b",
     "grade": false,
     "grade_id": "cell-7be68355b84f52e7",
     "locked": true,
     "schema_version": 3,
     "solution": false
    }
   },
   "source": [
    "### Q6. (3 points, Autograded) What is the maximum, minimum, mean, and standard deviation of the PageRank values of the nodes in $G_1$?"
   ]
  },
  {
   "cell_type": "code",
   "execution_count": 17,
   "metadata": {
    "deletable": false,
    "nbgrader": {
     "cell_type": "code",
     "checksum": "0e37c8bbc8da9aacc403cb27400e14ab",
     "grade": false,
     "grade_id": "cell-856a328f9524132a",
     "locked": false,
     "schema_version": 3,
     "solution": true
    }
   },
   "outputs": [
    {
     "data": {
      "text/plain": [
       "(0.00012558604465734226,\n",
       " 1.7471614482930626e-05,\n",
       " 5.9858733389201475e-05,\n",
       " 1.4019238368068415e-05)"
      ]
     },
     "execution_count": 17,
     "metadata": {},
     "output_type": "execute_result"
    }
   ],
   "source": [
    "pagerank_dict = nx.pagerank(G1)\n",
    "\n",
    "max_pgv = max(pagerank_dict.values())  # maximum PageRank value. This should be a float. \n",
    "min_pgv = min(pagerank_dict.values())  # minimum PageRank value. This should be a float. \n",
    "mean_pgv = np.array(list(pagerank_dict.values())).mean()  # mean of PageRank value. This should be a float. \n",
    "std_pgv = np.array(list(pagerank_dict.values())).std()  # standard deviation of PageRank value. This should be a float. \n",
    "\n",
    "max_pgv, min_pgv, mean_pgv, std_pgv\n",
    "# YOUR CODE HERE\n",
    "# raise NotImplementedError()"
   ]
  },
  {
   "cell_type": "code",
   "execution_count": 18,
   "metadata": {
    "deletable": false,
    "editable": false,
    "nbgrader": {
     "cell_type": "code",
     "checksum": "952439fbb3db882f4f2578ce492106bb",
     "grade": true,
     "grade_id": "cell-a919d36056d96700",
     "locked": true,
     "points": 3,
     "schema_version": 3,
     "solution": false
    }
   },
   "outputs": [],
   "source": [
    "#hidden tests for Question 6 are within this cell"
   ]
  },
  {
   "cell_type": "markdown",
   "metadata": {
    "deletable": false,
    "editable": false,
    "nbgrader": {
     "cell_type": "markdown",
     "checksum": "5b3f2f78b5ff48b0b082681504b9a776",
     "grade": false,
     "grade_id": "cell-1e126cfffc3035e1",
     "locked": true,
     "schema_version": 3,
     "solution": false
    }
   },
   "source": [
    "### Preferential attachment model\n",
    "\n",
    "The function `barabasi_albert_graph(n, avg_m)` generates a random graph using the preferential attachment model with `n` nodes and where each arriving node attaches to `m` existing nodes. "
   ]
  },
  {
   "cell_type": "markdown",
   "metadata": {
    "colab_type": "text",
    "deletable": false,
    "editable": false,
    "id": "kmecSQ_2n-zY",
    "nbgrader": {
     "cell_type": "markdown",
     "checksum": "25b891ef1dac5f321f884b2c14978a0a",
     "grade": false,
     "grade_id": "cell-f9b4400233c7127e",
     "locked": true,
     "schema_version": 3,
     "solution": false
    }
   },
   "source": [
    "### Q7. (4 points, Autograded) Use the preferential attachment model to create a random graph $G_2$, such that $G_2$ has around the same number of nodes and edges as $G$. Plot the node degree distribution of $G_2$ in log-log scale.\n",
    "\n",
    "**Hint**: \n",
    "\n",
    "1. if you cannot find an integer value for the number of edges added by each node, just round down to an integer value.\n",
    "\n",
    "2. In the function `barabasi_albert_graph(n, avg_m)`, \n",
    "    - `n` is the number of nodes\n",
    "    - `avg_m` is the number of edges to attach from *a new node* to *existing nodes*. \n",
    "   Therefore, the total number of edges created by this function is around `n * avg_m`. We already know that $G_1$ has `m` edges. Therefore, using the variables we can calculate `avg_m`."
   ]
  },
  {
   "cell_type": "code",
   "execution_count": 19,
   "metadata": {
    "colab": {
     "base_uri": "https://localhost:8080/",
     "height": 265
    },
    "colab_type": "code",
    "deletable": false,
    "id": "glNw466rRoRW",
    "nbgrader": {
     "cell_type": "code",
     "checksum": "2e7bf5f93e8ad0a359fa18560a1d9bf0",
     "grade": false,
     "grade_id": "cell-90b89f713775ab40",
     "locked": false,
     "schema_version": 3,
     "solution": true
    },
    "outputId": "d0c31515-84b4-4e7c-9593-d69b9a9bbda9"
   },
   "outputs": [
    {
     "data": {
      "image/png": "[encoded data removed]",
      "text/plain": [
       "<Figure size 360x288 with 1 Axes>"
      ]
     },
     "metadata": {
      "needs_background": "light"
     },
     "output_type": "display_data"
    }
   ],
   "source": [
    "random.seed(0)  # sync for the autograder\n",
    "\n",
    "avg_m = int(m/n)  # average number of edges increased by each additional node. This should be an int. \n",
    "G2 = nx.barabasi_albert_graph(n,avg_m)     # assign your networkx graph here\n",
    "ans = plot_deg_distribution(G2,log=True)    # assign your return value of plot_deg_distribution(G, z, log) here\n",
    "\n",
    "# YOUR CODE HERE\n",
    "# raise NotImplementedError()"
   ]
  },
  {
   "cell_type": "code",
   "execution_count": 20,
   "metadata": {
    "deletable": false,
    "editable": false,
    "nbgrader": {
     "cell_type": "code",
     "checksum": "caeef2b5589a5cd7efb7147a93dbd4cc",
     "grade": true,
     "grade_id": "cell-e01e2380c19d2007",
     "locked": true,
     "points": 4,
     "schema_version": 3,
     "solution": false
    }
   },
   "outputs": [],
   "source": [
    "#hidden tests for Question 7 are within this cell"
   ]
  },
  {
   "cell_type": "markdown",
   "metadata": {
    "deletable": false,
    "editable": false,
    "nbgrader": {
     "cell_type": "markdown",
     "checksum": "ccb02f80f36ee70275d5436cc2beba90",
     "grade": false,
     "grade_id": "cell-e673df1be31f7936",
     "locked": true,
     "schema_version": 3,
     "solution": false
    }
   },
   "source": [
    "### Q8. (2 points, Autograded) What is the transitivity and average clustering coefficient of $G_2$?"
   ]
  },
  {
   "cell_type": "code",
   "execution_count": 21,
   "metadata": {
    "deletable": false,
    "nbgrader": {
     "cell_type": "code",
     "checksum": "a09bddd718cb7bb2ca2c5de1f138d0e0",
     "grade": false,
     "grade_id": "cell-9bc7aef4ce7bb3a8",
     "locked": false,
     "schema_version": 3,
     "solution": true
    }
   },
   "outputs": [
    {
     "data": {
      "text/plain": [
       "(0.00398438864176888, 0.005460554689061091)"
      ]
     },
     "execution_count": 21,
     "metadata": {},
     "output_type": "execute_result"
    }
   ],
   "source": [
    "transitivity = nx.transitivity(G2)        # transitivity value. This should be a float. \n",
    "average_clustering = nx.average_clustering(G2)# clustering coefficient value. This should be a float. \n",
    "\n",
    "\n",
    "transitivity, average_clustering\n",
    "# YOUR CODE HERE\n",
    "# raise NotImplementedError()"
   ]
  },
  {
   "cell_type": "code",
   "execution_count": 22,
   "metadata": {
    "deletable": false,
    "editable": false,
    "nbgrader": {
     "cell_type": "code",
     "checksum": "87f420d997406b9a9e62fa64759f80ba",
     "grade": true,
     "grade_id": "cell-4cb541326302a683",
     "locked": true,
     "points": 2,
     "schema_version": 3,
     "solution": false
    }
   },
   "outputs": [],
   "source": [
    "#hidden tests for Question 8 are within this cell"
   ]
  },
  {
   "cell_type": "markdown",
   "metadata": {
    "deletable": false,
    "editable": false,
    "nbgrader": {
     "cell_type": "markdown",
     "checksum": "988a545207e54516bd40dd7b379fd914",
     "grade": false,
     "grade_id": "cell-21d4188fde74d3a7",
     "locked": true,
     "schema_version": 3,
     "solution": false
    }
   },
   "source": [
    "### Q9. (3 points, Autograded) What is the maximum, minimum, mean, and standard deviation of the PageRank values of the nodes in $G_2$?"
   ]
  },
  {
   "cell_type": "code",
   "execution_count": 23,
   "metadata": {
    "deletable": false,
    "nbgrader": {
     "cell_type": "code",
     "checksum": "ae76751c41796936abac725d53c710a8",
     "grade": false,
     "grade_id": "cell-eeea15cff45d3e7e",
     "locked": false,
     "schema_version": 3,
     "solution": true
    }
   },
   "outputs": [
    {
     "data": {
      "text/plain": [
       "(0.0022206468767582343,\n",
       " 3.119632450192332e-05,\n",
       " 5.9858733389201475e-05,\n",
       " 6.771599585211252e-05)"
      ]
     },
     "execution_count": 23,
     "metadata": {},
     "output_type": "execute_result"
    }
   ],
   "source": [
    "pagerank_dict = nx.pagerank(G2)\n",
    "\n",
    "max_pgv = max(pagerank_dict.values())  # maximum PageRank value. This should be a float. \n",
    "min_pgv = min(pagerank_dict.values())  # minimum PageRank value. This should be a float. \n",
    "mean_pgv = np.array(list(pagerank_dict.values())).mean()  # mean of PageRank value. This should be a float. \n",
    "std_pgv = np.array(list(pagerank_dict.values())).std()  # standard deviation of PageRank value. This should be a float. \n",
    "\n",
    "max_pgv, min_pgv, mean_pgv, std_pgv\n",
    "# YOUR CODE HERE\n",
    "# raise NotImplementedError()"
   ]
  },
  {
   "cell_type": "code",
   "execution_count": 24,
   "metadata": {
    "deletable": false,
    "editable": false,
    "nbgrader": {
     "cell_type": "code",
     "checksum": "5c3fa56cabe04d3717d6c2e6e205b612",
     "grade": true,
     "grade_id": "cell-7153a4b84e18ea6b",
     "locked": true,
     "points": 3,
     "schema_version": 3,
     "solution": false
    }
   },
   "outputs": [],
   "source": [
    "#hidden tests for Question 9 are within this cell"
   ]
  },
  {
   "cell_type": "markdown",
   "metadata": {
    "colab_type": "text",
    "deletable": false,
    "editable": false,
    "id": "SLJaM60ZN1AE",
    "nbgrader": {
     "cell_type": "markdown",
     "checksum": "a8de6a49f26a8c23881685f7199afaf6",
     "grade": false,
     "grade_id": "cell-a7e1ab9982296c6a",
     "locked": true,
     "schema_version": 3,
     "solution": false
    }
   },
   "source": [
    "### Small world networks\n",
    "\n",
    "The function `nx.watts_strogatz_graph(n,k,p)` generates a small world network with `n` nodes. Initially, nodes are connected to their `k` nearest neighbors in a ring topology. Then each edge is rewired with probability `p`.\n"
   ]
  },
  {
   "cell_type": "markdown",
   "metadata": {
    "colab_type": "text",
    "deletable": false,
    "editable": false,
    "id": "mXDWdWBG491H",
    "nbgrader": {
     "cell_type": "markdown",
     "checksum": "4f134b00adbd1bd5e3a3e5a0cb517df6",
     "grade": false,
     "grade_id": "cell-33ef66a477ca0659",
     "locked": true,
     "schema_version": 3,
     "solution": false
    }
   },
   "source": [
    "### Q10. (4 points, Autograded) Create a small world network $G_3$ with the same number of nodes as network $G$ and with a number of edges that is as close as possible to the number of edges in network $G$.  Plot the node degree distribution of $G_3$ in log-log scale. Set $p=0.1$."
   ]
  },
  {
   "cell_type": "code",
   "execution_count": 25,
   "metadata": {
    "colab": {
     "base_uri": "https://localhost:8080/",
     "height": 269
    },
    "colab_type": "code",
    "deletable": false,
    "id": "Si8kGY0YOm-1",
    "nbgrader": {
     "cell_type": "code",
     "checksum": "092eb593d3e5ce449d2571553037a079",
     "grade": false,
     "grade_id": "cell-e81d1fe0394fb826",
     "locked": false,
     "schema_version": 3,
     "solution": true
    },
    "outputId": "78ad96b3-dc6b-4b70-86f1-c056b7f841e9"
   },
   "outputs": [
    {
     "data": {
      "image/png": "[encoded data removed]",
      "text/plain": [
       "<Figure size 360x288 with 1 Axes>"
      ]
     },
     "metadata": {
      "needs_background": "light"
     },
     "output_type": "display_data"
    }
   ],
   "source": [
    "random.seed(0)  # sync for autograder\n",
    "k = (m * 2) / n\n",
    "G3 = nx.watts_strogatz_graph(n,14,.1)       # your networkx graph\n",
    "ans = plot_deg_distribution(G3, log = True)      # assign your return value of plot_deg_distribution(G, z, log) here\n",
    "\n",
    "# YOUR CODE HERE\n",
    "# raise NotImplementedError()"
   ]
  },
  {
   "cell_type": "code",
   "execution_count": 26,
   "metadata": {
    "deletable": false,
    "editable": false,
    "nbgrader": {
     "cell_type": "code",
     "checksum": "8df7d9180b8609c0c929428555fd4875",
     "grade": true,
     "grade_id": "cell-b3b55edee5db5bab",
     "locked": true,
     "points": 4,
     "schema_version": 3,
     "solution": false
    }
   },
   "outputs": [],
   "source": [
    "#hidden tests for Question 10 are within this cell"
   ]
  },
  {
   "cell_type": "code",
   "execution_count": 27,
   "metadata": {},
   "outputs": [
    {
     "data": {
      "text/plain": [
       "12"
      ]
     },
     "execution_count": 27,
     "metadata": {},
     "output_type": "execute_result"
    }
   ],
   "source": [
    "int(k-1)"
   ]
  },
  {
   "cell_type": "code",
   "execution_count": 28,
   "metadata": {},
   "outputs": [
    {
     "data": {
      "text/plain": [
       "13.064288279660003"
      ]
     },
     "execution_count": 28,
     "metadata": {},
     "output_type": "execute_result"
    }
   ],
   "source": [
    "k1 = (2*m)/n\n",
    "k1"
   ]
  },
  {
   "cell_type": "markdown",
   "metadata": {
    "deletable": false,
    "editable": false,
    "nbgrader": {
     "cell_type": "markdown",
     "checksum": "8ce1c0b32dc182353ee0c7a1b837119c",
     "grade": false,
     "grade_id": "cell-0663f49f50d898b1",
     "locked": true,
     "schema_version": 3,
     "solution": false
    }
   },
   "source": [
    "### Q11. (2 points, Autograded) What is the transitivity and average clustering coefficient of $G_3$?"
   ]
  },
  {
   "cell_type": "code",
   "execution_count": 29,
   "metadata": {
    "deletable": false,
    "nbgrader": {
     "cell_type": "code",
     "checksum": "6256019b7311c2ff0b5e363fa1a153cd",
     "grade": false,
     "grade_id": "cell-e42fc8e5996ad3c5",
     "locked": false,
     "schema_version": 3,
     "solution": true
    }
   },
   "outputs": [
    {
     "data": {
      "text/plain": [
       "(0.5017513546551947, 0.5083507420821322)"
      ]
     },
     "execution_count": 29,
     "metadata": {},
     "output_type": "execute_result"
    }
   ],
   "source": [
    "transitivity = nx.transitivity(G3)        # transitivity value. This should be a float. \n",
    "average_clustering = nx.average_clustering(G3)# clustering coefficient value. This should be a float. \n",
    "\n",
    "\n",
    "transitivity, average_clustering\n",
    "# YOUR CODE HERE\n",
    "# raise NotImplementedError()"
   ]
  },
  {
   "cell_type": "code",
   "execution_count": 30,
   "metadata": {
    "deletable": false,
    "editable": false,
    "nbgrader": {
     "cell_type": "code",
     "checksum": "71e7b659cbda17e8ef3e96ff2c2799c7",
     "grade": true,
     "grade_id": "cell-d06481a392d74f32",
     "locked": true,
     "points": 2,
     "schema_version": 3,
     "solution": false
    }
   },
   "outputs": [],
   "source": [
    "#hidden tests for Question 11 are within this cell"
   ]
  },
  {
   "cell_type": "markdown",
   "metadata": {
    "deletable": false,
    "editable": false,
    "nbgrader": {
     "cell_type": "markdown",
     "checksum": "0558063f365986d5a26979f7d6680dc4",
     "grade": false,
     "grade_id": "cell-adf50e9f48809a5a",
     "locked": true,
     "schema_version": 3,
     "solution": false
    }
   },
   "source": [
    "### Q12. (3 points, Autograded) What is the maximum, minimum, mean, and standard deviation of the PageRank values of the nodes in $G_3$?"
   ]
  },
  {
   "cell_type": "code",
   "execution_count": 31,
   "metadata": {
    "deletable": false,
    "nbgrader": {
     "cell_type": "code",
     "checksum": "fc7da9339e2ea0c3248a5aa811615be9",
     "grade": false,
     "grade_id": "cell-090432da75dd73b1",
     "locked": false,
     "schema_version": 3,
     "solution": true
    }
   },
   "outputs": [
    {
     "data": {
      "text/plain": [
       "(8.081989949163038e-05,\n",
       " 4.546588374358631e-05,\n",
       " 5.985873338920148e-05,\n",
       " 4.003008930107026e-06)"
      ]
     },
     "execution_count": 31,
     "metadata": {},
     "output_type": "execute_result"
    }
   ],
   "source": [
    "pagerank_dict = nx.pagerank(G3)\n",
    "\n",
    "max_pgv = max(pagerank_dict.values())  # maximum PageRank value. This should be a float. \n",
    "min_pgv = min(pagerank_dict.values())  # minimum PageRank value. This should be a float. \n",
    "mean_pgv = np.array(list(pagerank_dict.values())).mean()  # mean of PageRank value. This should be a float. \n",
    "std_pgv = np.array(list(pagerank_dict.values())).std()  # standard deviation of PageRank value. This should be a float. \n",
    "\n",
    "max_pgv, min_pgv, mean_pgv, std_pgv\n",
    "# YOUR CODE HERE\n",
    "# raise NotImplementedError()"
   ]
  },
  {
   "cell_type": "code",
   "execution_count": 32,
   "metadata": {
    "deletable": false,
    "editable": false,
    "nbgrader": {
     "cell_type": "code",
     "checksum": "cd2ea761049cb0591be7b51e22ead602",
     "grade": true,
     "grade_id": "cell-b25640af8a68651b",
     "locked": true,
     "points": 3,
     "schema_version": 3,
     "solution": false
    }
   },
   "outputs": [],
   "source": [
    "#hidden tests for Question 12 are within this cell"
   ]
  },
  {
   "cell_type": "markdown",
   "metadata": {
    "colab_type": "text",
    "deletable": false,
    "editable": false,
    "id": "xsxudEFH5CWb",
    "nbgrader": {
     "cell_type": "markdown",
     "checksum": "2e3cd8d41126de7074a922b4d013ecf9",
     "grade": false,
     "grade_id": "cell-01d3dfb1928e1b93",
     "locked": true,
     "schema_version": 3,
     "solution": false
    }
   },
   "source": [
    "### Q13. (3 points, Autograded) Using the same values of `n` and `k` as you did for network $G_3$, generate a small world network using every $p$ in `np.linspace(0.1, 1, 10)` and compute the graph transitivity and average clustering coefficient. Plot a line graph for both attributes versus $p$.\n"
   ]
  },
  {
   "cell_type": "code",
   "execution_count": 33,
   "metadata": {
    "colab": {},
    "colab_type": "code",
    "deletable": false,
    "id": "lgiffLJP5Cs3",
    "nbgrader": {
     "cell_type": "code",
     "checksum": "08fb5c84d9215db59fc200ef7ef23717",
     "grade": false,
     "grade_id": "cell-58b4f4b63a49b9bd",
     "locked": false,
     "schema_version": 3,
     "solution": true
    }
   },
   "outputs": [],
   "source": [
    "tran = []  # assign your graph transitivity values as a numpy array to this variable.\n",
    "clus = []   # assign your average clustering coefficient values as a numpy array to this variable.\n",
    "\n",
    "for p in np.linspace(0.1, 1, 10):\n",
    "    G = nx.watts_strogatz_graph(n,int(k),p) \n",
    "    tran.append(nx.transitivity(G))\n",
    "    clus.append(nx.average_clustering(G))\n",
    "    \n",
    "tran = np.array(tran)\n",
    "clus = np.array(clus)\n",
    "\n",
    "\n",
    "\n",
    "# YOUR CODE HERE\n",
    "# raise NotImplementedError()\n"
   ]
  },
  {
   "cell_type": "code",
   "execution_count": 34,
   "metadata": {
    "deletable": false,
    "editable": false,
    "nbgrader": {
     "cell_type": "code",
     "checksum": "c27a5ba1312d09b87f44209ca34ab3e3",
     "grade": true,
     "grade_id": "cell-11df9d8f13602090",
     "locked": true,
     "points": 3,
     "schema_version": 3,
     "solution": false
    }
   },
   "outputs": [],
   "source": [
    "#hidden tests for Question 13 are within this cell"
   ]
  },
  {
   "cell_type": "markdown",
   "metadata": {},
   "source": [
    "### (2 points, Manually graded) Include the two plots here:"
   ]
  },
  {
   "cell_type": "code",
   "execution_count": 35,
   "metadata": {
    "colab": {
     "base_uri": "https://localhost:8080/",
     "height": 281
    },
    "colab_type": "code",
    "deletable": false,
    "id": "GEkTGfLbTy-O",
    "nbgrader": {
     "cell_type": "code",
     "checksum": "ad56ba2cc89672f38004f71c21c356d9",
     "grade": true,
     "grade_id": "cell-5a39dd7a401a93fe",
     "locked": false,
     "points": 0,
     "schema_version": 3,
     "solution": true
    },
    "outputId": "e25bb62a-b862-4b62-d598-267efb81cf51"
   },
   "outputs": [
    {
     "data": {
      "text/plain": [
       "[<matplotlib.lines.Line2D at 0x7fa061a0bc40>]"
      ]
     },
     "execution_count": 35,
     "metadata": {},
     "output_type": "execute_result"
    },
    {
     "data": {
      "image/png": "[encoded data removed]",
      "text/plain": [
       "<Figure size 1152x576 with 2 Axes>"
      ]
     },
     "metadata": {
      "needs_background": "light"
     },
     "output_type": "display_data"
    }
   ],
   "source": [
    "fig = plt.figure(figsize = (16,8))\n",
    "plt.subplot(121)\n",
    "plt.plot(tran, color = 'r')\n",
    "\n",
    "plt.subplot(122)\n",
    "plt.plot(clus, color = 'b')\n",
    "# plt.show()\n",
    "\n",
    "# YOUR CODE HERE\n",
    "# raise NotImplementedError()"
   ]
  },
  {
   "cell_type": "markdown",
   "metadata": {
    "deletable": false,
    "editable": false,
    "nbgrader": {
     "cell_type": "markdown",
     "checksum": "10ffed571b1f68bf15b8fe58b65ac0b1",
     "grade": false,
     "grade_id": "cell-4dcc011af0d85ab3",
     "locked": true,
     "schema_version": 3,
     "solution": false
    }
   },
   "source": [
    "### Q14. (2 points, Autograded) Compare the features of the simulated networks with the real network $G$ and think of the following questions:\n",
    "\n",
    "1. In terms of node degree distribution, which model should be most similar to the collaboration network?\n",
    "2. In terms of transitivity and average clustering coefficient, which model should best approximate the collaboration network?\n",
    "\n",
    "Indicate the solution of each question with one of the following strings:\n",
    "- \"Erdős-Rényi\"\n",
    "- \"preferential attachment model\"\n",
    "- \"small world network\"\n",
    "\n",
    "The questions are represented by `q1` and `q2`. For example, if you believe the answer to the first sub-question is Erdős-Rényi you should answer:\n",
    "```python\n",
    "q1 = \"Erdős-Rényi\"\n",
    "```"
   ]
  },
  {
   "cell_type": "code",
   "execution_count": 36,
   "metadata": {
    "deletable": false,
    "nbgrader": {
     "cell_type": "code",
     "checksum": "cb9f45eefa008c9a389bea9de558ac65",
     "grade": false,
     "grade_id": "cell-1caacd25d171e9f8",
     "locked": false,
     "schema_version": 3,
     "solution": true
    }
   },
   "outputs": [],
   "source": [
    "q1 = 'preferential attachment model' # This should be a string\n",
    "q2 = 'small world network' # This should be a string\n",
    "\n",
    "# YOUR CODE HERE\n",
    "# raise NotImplementedError()"
   ]
  },
  {
   "cell_type": "code",
   "execution_count": 37,
   "metadata": {
    "deletable": false,
    "editable": false,
    "nbgrader": {
     "cell_type": "code",
     "checksum": "c0a1bbc4f1637eb14ea7735e928941bf",
     "grade": true,
     "grade_id": "cell-b324984261fca304",
     "locked": true,
     "points": 2,
     "schema_version": 3,
     "solution": false
    }
   },
   "outputs": [],
   "source": [
    "#hidden tests for Question 14 are within this cell"
   ]
  },
  {
   "cell_type": "markdown",
   "metadata": {
    "deletable": false,
    "editable": false,
    "nbgrader": {
     "cell_type": "markdown",
     "checksum": "25f5bc2484785ab5b62255a389f9e158",
     "grade": false,
     "grade_id": "cell-5bbadad4864807ee",
     "locked": true,
     "schema_version": 3,
     "solution": false
    }
   },
   "source": [
    "---\n",
    "\n",
    "## Part 2. Clustering of the generative models\n",
    "\n",
    "In this part, you will explore the clustering coefficient and transitivity of the aforementioned generative models. Rather than making comparisons based on a single instance of each type of network, you will generate multiple random graphs and construct a distribution of the values. You will construct networks with relatively few nodes and edges to make the computation more efficient. The networks will have 100 nodes and around 425 edges. "
   ]
  },
  {
   "cell_type": "markdown",
   "metadata": {
    "deletable": false,
    "editable": false,
    "nbgrader": {
     "cell_type": "markdown",
     "checksum": "6bca75bd4ef75e3e908506e7f4932197",
     "grade": false,
     "grade_id": "cell-df07d4d84dcc71a0",
     "locked": true,
     "schema_version": 3,
     "solution": false
    }
   },
   "source": [
    "### Q15. (6 points, Autograded) Create 1000 random Erdős-Rényi graphs with `fast_gnp_random_graph` such that the networks have 100 nodes and are expected to have 425 edges.  For each graph, compute its transitivity and average clustering coefficient. Plot a histogram for both attributes.\n",
    "\n",
    "<font color='red'>**Note**</font>: for the plots, use the function `hist` and set the parameter `bins=50`."
   ]
  },
  {
   "cell_type": "code",
   "execution_count": 38,
   "metadata": {
    "deletable": false,
    "nbgrader": {
     "cell_type": "code",
     "checksum": "080efd9259b148d2d55225f8f9e596dc",
     "grade": false,
     "grade_id": "cell-51f4441cef9ef15e",
     "locked": false,
     "schema_version": 3,
     "solution": true
    }
   },
   "outputs": [
    {
     "data": {
      "text/plain": [
       "(array([ 2.,  0.,  3.,  1.,  2.,  4.,  5., 13.,  4., 13.,  8., 16., 17.,\n",
       "        28., 19., 23., 38., 33., 28., 49., 62., 54., 50., 36., 55., 49.,\n",
       "        46., 56., 43., 36., 31., 29., 26., 24., 19., 15., 10.,  9., 13.,\n",
       "         8.,  5.,  5.,  7.,  1.,  1.,  2.,  1.,  0.,  0.,  1.]),\n",
       " array([0.05672916, 0.05796086, 0.05919255, 0.06042425, 0.06165594,\n",
       "        0.06288764, 0.06411934, 0.06535103, 0.06658273, 0.06781443,\n",
       "        0.06904612, 0.07027782, 0.07150951, 0.07274121, 0.07397291,\n",
       "        0.0752046 , 0.0764363 , 0.07766799, 0.07889969, 0.08013139,\n",
       "        0.08136308, 0.08259478, 0.08382648, 0.08505817, 0.08628987,\n",
       "        0.08752156, 0.08875326, 0.08998496, 0.09121665, 0.09244835,\n",
       "        0.09368005, 0.09491174, 0.09614344, 0.09737513, 0.09860683,\n",
       "        0.09983853, 0.10107022, 0.10230192, 0.10353361, 0.10476531,\n",
       "        0.10599701, 0.1072287 , 0.1084604 , 0.1096921 , 0.11092379,\n",
       "        0.11215549, 0.11338718, 0.11461888, 0.11585058, 0.11708227,\n",
       "        0.11831397]),\n",
       " <BarContainer object of 50 artists>)"
      ]
     },
     "execution_count": 38,
     "metadata": {},
     "output_type": "execute_result"
    },
    {
     "data": {
      "image/png": "[encoded data removed]",
      "text/plain": [
       "<Figure size 864x288 with 2 Axes>"
      ]
     },
     "metadata": {
      "needs_background": "light"
     },
     "output_type": "display_data"
    }
   ],
   "source": [
    "random.seed(0)\n",
    "tran = []   # assign your graph transitivity values as a numpy array to this variable.\n",
    "clus = []  # assign your average clustering coefficient values as a numpy array to this variable.\n",
    "\n",
    "p = 425 / (100*(99)/2)\n",
    "\n",
    "for count, item in enumerate(range(1000)):\n",
    "    G = nx.fast_gnp_random_graph(100, p)\n",
    "    tran.append(nx.transitivity(G))\n",
    "    clus.append(nx.average_clustering(G))\n",
    "\n",
    "fig, axes = plt.subplots(1,2,figsize = (12, 4))\n",
    "axes[0].title.set_text(\"Transitivity\");         # plot transitivity in subplot 0\n",
    "axes[1].title.set_text(\"Average clustering\");   # plot average clustering in subplot 1\n",
    "\n",
    "tran = np.array(tran)\n",
    "clus = np.array(clus)\n",
    "\n",
    "axes[0].hist(tran, bins = 50)\n",
    "\n",
    "axes[1].hist(clus, bins = 50)\n",
    "\n",
    "# YOUR CODE HERE\n",
    "# raise NotImplementedError()\n"
   ]
  },
  {
   "cell_type": "code",
   "execution_count": 39,
   "metadata": {
    "deletable": false,
    "editable": false,
    "nbgrader": {
     "cell_type": "code",
     "checksum": "61354b0fa823216727323b4cc3ae3ca8",
     "grade": true,
     "grade_id": "cell-6c642dbedacbc8cd",
     "locked": true,
     "points": 6,
     "schema_version": 3,
     "solution": false
    }
   },
   "outputs": [],
   "source": [
    "#hidden tests for Question 15 are within this cell"
   ]
  },
  {
   "cell_type": "markdown",
   "metadata": {
    "deletable": false,
    "editable": false,
    "nbgrader": {
     "cell_type": "markdown",
     "checksum": "15d56c7ae5ab6d90dd1711743446fa71",
     "grade": false,
     "grade_id": "cell-62ca6d79366dbb1b",
     "locked": true,
     "schema_version": 3,
     "solution": false
    }
   },
   "source": [
    "### Q16. (6 points, Autograded) Create 1000 preferential attachment graphs with 100 nodes and each arriving node connecting to 4 existing nodes. For each graph, compute its transitivity and average clustering coefficient. Plot a histogram for both attributes."
   ]
  },
  {
   "cell_type": "code",
   "execution_count": 40,
   "metadata": {
    "deletable": false,
    "nbgrader": {
     "cell_type": "code",
     "checksum": "0cabc50d09c99e8982546b6bf8f844f3",
     "grade": false,
     "grade_id": "cell-ae1cdaa5464a5efe",
     "locked": false,
     "schema_version": 3,
     "solution": true
    }
   },
   "outputs": [
    {
     "data": {
      "text/plain": [
       "(array([ 2.,  2.,  1.,  1.,  6.,  8.,  5., 15., 17., 26., 29., 34., 40.,\n",
       "        40., 60., 46., 55., 70., 53., 47., 46., 54., 43., 47., 35., 48.,\n",
       "        31., 31., 16., 17., 16.,  5., 18.,  8.,  9.,  5.,  3.,  1.,  0.,\n",
       "         3.,  1.,  0.,  2.,  1.,  0.,  1.,  1.,  0.,  0.,  1.]),\n",
       " array([0.11000796, 0.11319281, 0.11637766, 0.11956251, 0.12274736,\n",
       "        0.1259322 , 0.12911705, 0.1323019 , 0.13548675, 0.1386716 ,\n",
       "        0.14185645, 0.14504129, 0.14822614, 0.15141099, 0.15459584,\n",
       "        0.15778069, 0.16096554, 0.16415038, 0.16733523, 0.17052008,\n",
       "        0.17370493, 0.17688978, 0.18007462, 0.18325947, 0.18644432,\n",
       "        0.18962917, 0.19281402, 0.19599887, 0.19918371, 0.20236856,\n",
       "        0.20555341, 0.20873826, 0.21192311, 0.21510796, 0.2182928 ,\n",
       "        0.22147765, 0.2246625 , 0.22784735, 0.2310322 , 0.23421705,\n",
       "        0.23740189, 0.24058674, 0.24377159, 0.24695644, 0.25014129,\n",
       "        0.25332614, 0.25651098, 0.25969583, 0.26288068, 0.26606553,\n",
       "        0.26925038]),\n",
       " <BarContainer object of 50 artists>)"
      ]
     },
     "execution_count": 40,
     "metadata": {},
     "output_type": "execute_result"
    },
    {
     "data": {
      "image/png": "[encoded data removed]",
      "text/plain": [
       "<Figure size 864x288 with 2 Axes>"
      ]
     },
     "metadata": {
      "needs_background": "light"
     },
     "output_type": "display_data"
    }
   ],
   "source": [
    "random.seed(0)\n",
    "\n",
    "tran = []   # assign your graph transitivity values as a numpy array to this variable.\n",
    "clus = []   # assign your average clustering coefficient values as a numpy array to this variable.\n",
    "\n",
    "for count, item in enumerate(range(1000)):\n",
    "    G = nx.barabasi_albert_graph(100, 4)\n",
    "    tran.append(nx.transitivity(G))\n",
    "    clus.append(nx.average_clustering(G))\n",
    "\n",
    "fig, axes = plt.subplots(1,2,figsize = (12, 4))\n",
    "axes[0].title.set_text(\"Transitivity\");         # plot transitivity in subplot 0\n",
    "axes[1].title.set_text(\"Average clustering\");   # plot average clustering in subplot 1\n",
    "\n",
    "tran = np.array(tran)\n",
    "clus = np.array(clus)\n",
    "\n",
    "axes[0].hist(tran, bins = 50)\n",
    "\n",
    "axes[1].hist(clus, bins = 50)\n",
    "# YOUR CODE HERE\n",
    "# raise NotImplementedError()"
   ]
  },
  {
   "cell_type": "code",
   "execution_count": 41,
   "metadata": {
    "deletable": false,
    "editable": false,
    "nbgrader": {
     "cell_type": "code",
     "checksum": "ae1f019a979bb048f45b51c4a61596a1",
     "grade": true,
     "grade_id": "cell-9edbca50fb09157d",
     "locked": true,
     "points": 6,
     "schema_version": 3,
     "solution": false
    }
   },
   "outputs": [],
   "source": [
    "#hidden tests for Question 16 are within this cell"
   ]
  },
  {
   "cell_type": "markdown",
   "metadata": {
    "colab_type": "text",
    "deletable": false,
    "editable": false,
    "id": "35s2o8UC6CD0",
    "nbgrader": {
     "cell_type": "markdown",
     "checksum": "ca73aae9b3d0fa3ca2fa56548c2b08e5",
     "grade": false,
     "grade_id": "cell-8e5e2097035af91e",
     "locked": true,
     "schema_version": 3,
     "solution": false
    }
   },
   "source": [
    "### Q17. (6 points, Autograded) Create 1000 small world graphs with 100 nodes, $k = 4$, and rewiring probability $p=0.1$. For each graph, compute its transitivity and average clustering coefficient. Plot a histogram for both attributes."
   ]
  },
  {
   "cell_type": "code",
   "execution_count": 42,
   "metadata": {
    "colab": {
     "base_uri": "https://localhost:8080/",
     "height": 281
    },
    "colab_type": "code",
    "deletable": false,
    "id": "BsuSp_Ce6QvQ",
    "nbgrader": {
     "cell_type": "code",
     "checksum": "d23b41e5d76a75b69937577cb870434a",
     "grade": false,
     "grade_id": "cell-3551b77e96046f8f",
     "locked": false,
     "schema_version": 3,
     "solution": true
    },
    "outputId": "f372e67d-ab2f-4dde-cd65-e5563cfe89c8"
   },
   "outputs": [
    {
     "data": {
      "text/plain": [
       "(array([ 1.,  2.,  0.,  1.,  3.,  0.,  3.,  3.,  3.,  2.,  7.,  5., 14.,\n",
       "        15., 18., 16., 25., 26., 35., 40., 32., 43., 31., 46., 45., 52.,\n",
       "        44., 58., 48., 41., 48., 49., 49., 48., 27., 25., 26., 21., 16.,\n",
       "         6.,  6.,  6.,  4.,  2.,  3.,  1.,  2.,  1.,  0.,  1.]),\n",
       " array([0.27666667, 0.28046667, 0.28426667, 0.28806667, 0.29186667,\n",
       "        0.29566667, 0.29946667, 0.30326667, 0.30706667, 0.31086667,\n",
       "        0.31466667, 0.31846667, 0.32226667, 0.32606667, 0.32986667,\n",
       "        0.33366667, 0.33746667, 0.34126667, 0.34506667, 0.34886667,\n",
       "        0.35266667, 0.35646667, 0.36026667, 0.36406667, 0.36786667,\n",
       "        0.37166667, 0.37546667, 0.37926667, 0.38306667, 0.38686667,\n",
       "        0.39066667, 0.39446667, 0.39826667, 0.40206667, 0.40586667,\n",
       "        0.40966667, 0.41346667, 0.41726667, 0.42106667, 0.42486667,\n",
       "        0.42866667, 0.43246667, 0.43626667, 0.44006667, 0.44386667,\n",
       "        0.44766667, 0.45146667, 0.45526667, 0.45906667, 0.46286667,\n",
       "        0.46666667]),\n",
       " <BarContainer object of 50 artists>)"
      ]
     },
     "execution_count": 42,
     "metadata": {},
     "output_type": "execute_result"
    },
    {
     "data": {
      "image/png": "[encoded data removed]",
      "text/plain": [
       "<Figure size 864x288 with 2 Axes>"
      ]
     },
     "metadata": {
      "needs_background": "light"
     },
     "output_type": "display_data"
    }
   ],
   "source": [
    "random.seed(0)\n",
    "\n",
    "tran = []   # assign your graph transitivity values as a numpy array to this variable.\n",
    "clus = []   # assign your average clustering coefficient values as a numpy array to this variable.\n",
    "\n",
    "for count, item in enumerate(range(1000)):\n",
    "    G = nx.watts_strogatz_graph(100, 4, 0.1)\n",
    "    tran.append(nx.transitivity(G))\n",
    "    clus.append(nx.average_clustering(G))\n",
    "    \n",
    "fig, axes = plt.subplots(1,2,figsize = (12, 4))\n",
    "axes[0].title.set_text(\"Transitivity\");         # plot transitivity in subplot 0\n",
    "axes[1].title.set_text(\"Average clustering\");   # plot average clustering in subplot 1\n",
    "\n",
    "tran = np.array(tran)\n",
    "clus = np.array(clus)\n",
    "\n",
    "axes[0].hist(tran, bins = 50)\n",
    "\n",
    "axes[1].hist(clus, bins = 50)\n",
    "\n",
    "# YOUR CODE HERE\n",
    "# raise NotImplementedError()"
   ]
  },
  {
   "cell_type": "code",
   "execution_count": 43,
   "metadata": {
    "deletable": false,
    "editable": false,
    "nbgrader": {
     "cell_type": "code",
     "checksum": "8fa4fe059b4b36626dd674bc0653be1a",
     "grade": true,
     "grade_id": "cell-9ee131fa4a7773d6",
     "locked": true,
     "points": 6,
     "schema_version": 3,
     "solution": false
    }
   },
   "outputs": [],
   "source": [
    "#hidden tests for Question 17 are within this cell"
   ]
  },
  {
   "cell_type": "markdown",
   "metadata": {
    "deletable": false,
    "editable": false,
    "nbgrader": {
     "cell_type": "markdown",
     "checksum": "324e18748ce5791e9c0df107140d3566",
     "grade": false,
     "grade_id": "cell-79222bac6685ef98",
     "locked": true,
     "schema_version": 3,
     "solution": false
    }
   },
   "source": [
    "### Q18. (10 points, Manually graded) Compare the distribution plots of clustering coefficient values across the different network generative models. \n",
    "\n",
    "### Which model gives the highest clustering coefficient values? \n",
    "\n",
    "### Which model gives the lowest clustering coefficient values? \n",
    "\n",
    "### Explain your results using the assumptions and mechanisms of the models.\n",
    "\n",
    "Your explanation should be of the form: \n",
    "\n",
    "Model X produces networks with the highest clustering coefficient because...\n",
    "\n",
    "Model Y produces networks with the lowest clustering coefficient because...\n"
   ]
  },
  {
   "cell_type": "markdown",
   "metadata": {
    "deletable": false,
    "nbgrader": {
     "cell_type": "markdown",
     "checksum": "a8bf5d7fd7b5a9812599696fc86cfd9d",
     "grade": true,
     "grade_id": "cell-e1f6cf6601da13ab",
     "locked": false,
     "points": 0,
     "schema_version": 3,
     "solution": true
    }
   },
   "source": [
    "The Small World Model produces networks with the highest clustering coefficient because that is its design. Small World Models being with a ring of n nodes connected to k nearest neighbors (100 nodes, connected to their 4 nearest neighbors, in our example).  With probability of .1, an edge gets detached and reattached elsewhere. With only 10% of edges being rewired, we maintain a decently high average clustering coefficient.\n",
    "\n",
    "The Erdős-Rényi Model produces the lowest clustering coefficient values as expected.  This model starts with n nodes and a parameter p, which represents the probability of creating an edge between each pair of nodes (100 nodes and roughly 9% in our case, respectively). With such a low probability of edges even being created in this model, it is expected that we would have a low average clustering coefficient. "
   ]
  },
  {
   "cell_type": "markdown",
   "metadata": {
    "colab_type": "text",
    "deletable": false,
    "editable": false,
    "id": "tWTroRrLVGAN",
    "nbgrader": {
     "cell_type": "markdown",
     "checksum": "527b725cb486a6c0c05fd7865a7a0658",
     "grade": false,
     "grade_id": "cell-9a54925f95fe04ca",
     "locked": true,
     "schema_version": 3,
     "solution": false
    }
   },
   "source": [
    "---\n",
    "## Part 3. Link prediction"
   ]
  },
  {
   "cell_type": "markdown",
   "metadata": {
    "colab_type": "text",
    "deletable": false,
    "editable": false,
    "id": "ypW3jn2udDpq",
    "nbgrader": {
     "cell_type": "markdown",
     "checksum": "e4242a29267f89ac34a013a6e993aa78",
     "grade": false,
     "grade_id": "cell-600024122657c791",
     "locked": true,
     "schema_version": 3,
     "solution": false
    }
   },
   "source": [
    "In this part, we are going to compare various link prediction features to predict if an edge exists in the astrophysics collaboration network. We will use the following features and their corresponding `NetworkX` functions (See [NetworkX link prediction documentation](https://networkx.github.io/documentation/networkx-1.9/reference/algorithms.link_prediction.html)).  \n",
    "\n",
    "- Resource Allocation Index --  `resource_allocation_index(G[, ebunch])`. \n",
    "- Jaccard Coefficient -- `jaccard_coefficient(G[, ebunch])`. \n",
    "- Adamic-Adar Index -- `adamic_adar_index(G[, ebunch])`.\n",
    "- Preferential Attachment Score -- `preferential_attachment(G[, ebunch])`. \n",
    "- Number of Common Neighbors -- This feature will be provided in our data set. \n",
    "\n",
    "The `assets/part3.csv` contains the set of pairs of nodes you will use for training and testing in the prediction task. Some of the pairs in `assets/part3.csv` are connected by an edge in the network and others are not. Our goal will be to predict which ones are connected using our link prediction features. \n",
    "\n",
    "The file contains 4 columns (`v1`, `v2`, `num`, `label`). Columns `v1` and `v2` represent pairs of nodes (v1,v2), `num` is the number of common neighbors between v1 and v2, and `label` is 1 if the edge (v1,v2) exists in the network and 0 otherwise. \n",
    "\n",
    "The astrophysics collaboration network `G` is fixed. That is, we will not make changes to the network. We will use the structure of the network to \"predict\" which pairs of nodes are connected (pretending we cannot simply check if the edge `(v1,v2)` exists in `G`). The intuition here is that we will pretend that these edges are not yet present in the network, and use the link prediction features to predict whether they will emerge. \n",
    "\n",
    "Caveats: \n",
    "\n",
    "Note that we are cheating slightly since we are using these edges to compute the link prediction features. Typically, if we are trying to predict edges that have not yet emerged, we cannot use them at all. \n",
    "\n",
    "As you may see, there is approximately the same number of positive and negative labels in the test dataset. This is artificially selected to facilitate the prediction task. In reality, this is rarely the case since in link prediction positive samples are far less common than negative ones.\n",
    "\n",
    "However, we will use this setup to illustrate the procedure. \n",
    "\n",
    "Let's begin by importing the libraries we will need. "
   ]
  },
  {
   "cell_type": "code",
   "execution_count": 44,
   "metadata": {
    "deletable": false,
    "editable": false,
    "nbgrader": {
     "cell_type": "code",
     "checksum": "9e1b9802cd81047668a09103922c22b0",
     "grade": false,
     "grade_id": "cell-3cdea0e74f485e2f",
     "locked": true,
     "schema_version": 3,
     "solution": false
    }
   },
   "outputs": [],
   "source": [
    "from sklearn.model_selection import train_test_split\n",
    "from sklearn.svm import LinearSVC\n",
    "from sklearn.naive_bayes import GaussianNB, MultinomialNB\n",
    "from sklearn.ensemble import RandomForestClassifier, AdaBoostClassifier\n",
    "from sklearn.metrics import f1_score\n",
    "import warnings\n",
    "warnings.filterwarnings('ignore')"
   ]
  },
  {
   "cell_type": "markdown",
   "metadata": {
    "deletable": false,
    "editable": false,
    "nbgrader": {
     "cell_type": "markdown",
     "checksum": "57b434496218911939d5406ceaad669b",
     "grade": false,
     "grade_id": "cell-64efd3860461d808",
     "locked": true,
     "schema_version": 3,
     "solution": false
    }
   },
   "source": [
    "Now let's load data from `part3.csv`, which contains the number of common neighbors and labels. \n",
    "### Q19.  (5 points, Manually graded) Expand the dataframe to include the other features and print part of the resulting dataframe. This may take some time. Print the top 10 rows of the dataframe. \n",
    "\n",
    "Recall that you should not change the network `G` in any way. "
   ]
  },
  {
   "cell_type": "code",
   "execution_count": 45,
   "metadata": {
    "colab": {},
    "colab_type": "code",
    "deletable": false,
    "id": "hgKU9McqUNSQ",
    "nbgrader": {
     "cell_type": "code",
     "checksum": "a2598f63c9d0d41a1f66fa23f1ec71d7",
     "grade": true,
     "grade_id": "cell-bfaaac233ca29693",
     "locked": false,
     "points": 0,
     "schema_version": 3,
     "solution": true
    }
   },
   "outputs": [
    {
     "name": "stdout",
     "output_type": "stream",
     "text": [
      "CPU times: user 48.5 s, sys: 115 ms, total: 48.6 s\n",
      "Wall time: 48.6 s\n"
     ]
    },
    {
     "data": {
      "text/html": [
       "<div>\n",
       "<style scoped>\n",
       "    .dataframe tbody tr th:only-of-type {\n",
       "        vertical-align: middle;\n",
       "    }\n",
       "\n",
       "    .dataframe tbody tr th {\n",
       "        vertical-align: top;\n",
       "    }\n",
       "\n",
       "    .dataframe thead th {\n",
       "        text-align: right;\n",
       "    }\n",
       "</style>\n",
       "<table border=\"1\" class=\"dataframe\">\n",
       "  <thead>\n",
       "    <tr style=\"text-align: right;\">\n",
       "      <th></th>\n",
       "      <th>v1</th>\n",
       "      <th>v2</th>\n",
       "      <th>num</th>\n",
       "      <th>label</th>\n",
       "      <th>rai</th>\n",
       "      <th>jac</th>\n",
       "      <th>ada</th>\n",
       "      <th>pa</th>\n",
       "    </tr>\n",
       "  </thead>\n",
       "  <tbody>\n",
       "    <tr>\n",
       "      <th>0</th>\n",
       "      <td>BASKETT, L</td>\n",
       "      <td>SUTHERLAND, TMCW</td>\n",
       "      <td>9</td>\n",
       "      <td>0</td>\n",
       "      <td>0.096704</td>\n",
       "      <td>0.409091</td>\n",
       "      <td>1.983937</td>\n",
       "      <td>240</td>\n",
       "    </tr>\n",
       "    <tr>\n",
       "      <th>1</th>\n",
       "      <td>BROWNE, IWA</td>\n",
       "      <td>JACKSON, N</td>\n",
       "      <td>10</td>\n",
       "      <td>1</td>\n",
       "      <td>0.559679</td>\n",
       "      <td>0.222222</td>\n",
       "      <td>3.442149</td>\n",
       "      <td>516</td>\n",
       "    </tr>\n",
       "    <tr>\n",
       "      <th>2</th>\n",
       "      <td>MACRI, L</td>\n",
       "      <td>AJHAR, EA</td>\n",
       "      <td>8</td>\n",
       "      <td>0</td>\n",
       "      <td>0.144501</td>\n",
       "      <td>0.068966</td>\n",
       "      <td>1.965276</td>\n",
       "      <td>3700</td>\n",
       "    </tr>\n",
       "    <tr>\n",
       "      <th>3</th>\n",
       "      <td>ALVAREZ, D</td>\n",
       "      <td>MILLER, K</td>\n",
       "      <td>13</td>\n",
       "      <td>1</td>\n",
       "      <td>0.596234</td>\n",
       "      <td>0.866667</td>\n",
       "      <td>4.158348</td>\n",
       "      <td>196</td>\n",
       "    </tr>\n",
       "    <tr>\n",
       "      <th>4</th>\n",
       "      <td>ABAD, C</td>\n",
       "      <td>HONEYCUTT, K</td>\n",
       "      <td>40</td>\n",
       "      <td>1</td>\n",
       "      <td>0.719897</td>\n",
       "      <td>0.727273</td>\n",
       "      <td>9.872832</td>\n",
       "      <td>2256</td>\n",
       "    </tr>\n",
       "    <tr>\n",
       "      <th>5</th>\n",
       "      <td>TILANUS, RPJ</td>\n",
       "      <td>MCMAHON, RG</td>\n",
       "      <td>5</td>\n",
       "      <td>0</td>\n",
       "      <td>0.109267</td>\n",
       "      <td>0.023364</td>\n",
       "      <td>1.301187</td>\n",
       "      <td>8568</td>\n",
       "    </tr>\n",
       "    <tr>\n",
       "      <th>6</th>\n",
       "      <td>WILKES, BJ</td>\n",
       "      <td>PETERS, J</td>\n",
       "      <td>20</td>\n",
       "      <td>1</td>\n",
       "      <td>0.414744</td>\n",
       "      <td>0.210526</td>\n",
       "      <td>5.089013</td>\n",
       "      <td>2844</td>\n",
       "    </tr>\n",
       "    <tr>\n",
       "      <th>7</th>\n",
       "      <td>BONALDI, M</td>\n",
       "      <td>SALEMI, F</td>\n",
       "      <td>35</td>\n",
       "      <td>1</td>\n",
       "      <td>0.847962</td>\n",
       "      <td>0.714286</td>\n",
       "      <td>9.399725</td>\n",
       "      <td>1764</td>\n",
       "    </tr>\n",
       "    <tr>\n",
       "      <th>8</th>\n",
       "      <td>TUTHILL, PG</td>\n",
       "      <td>NISHIMOTO, D</td>\n",
       "      <td>8</td>\n",
       "      <td>1</td>\n",
       "      <td>0.656226</td>\n",
       "      <td>0.500000</td>\n",
       "      <td>3.148903</td>\n",
       "      <td>135</td>\n",
       "    </tr>\n",
       "    <tr>\n",
       "      <th>9</th>\n",
       "      <td>MORALES, J</td>\n",
       "      <td>FARACH, H</td>\n",
       "      <td>15</td>\n",
       "      <td>1</td>\n",
       "      <td>0.531780</td>\n",
       "      <td>0.326087</td>\n",
       "      <td>4.464370</td>\n",
       "      <td>840</td>\n",
       "    </tr>\n",
       "  </tbody>\n",
       "</table>\n",
       "</div>"
      ],
      "text/plain": [
       "             v1                v2  num  label       rai       jac       ada  \\\n",
       "0    BASKETT, L  SUTHERLAND, TMCW    9      0  0.096704  0.409091  1.983937   \n",
       "1   BROWNE, IWA        JACKSON, N   10      1  0.559679  0.222222  3.442149   \n",
       "2      MACRI, L         AJHAR, EA    8      0  0.144501  0.068966  1.965276   \n",
       "3    ALVAREZ, D         MILLER, K   13      1  0.596234  0.866667  4.158348   \n",
       "4       ABAD, C      HONEYCUTT, K   40      1  0.719897  0.727273  9.872832   \n",
       "5  TILANUS, RPJ       MCMAHON, RG    5      0  0.109267  0.023364  1.301187   \n",
       "6    WILKES, BJ         PETERS, J   20      1  0.414744  0.210526  5.089013   \n",
       "7    BONALDI, M         SALEMI, F   35      1  0.847962  0.714286  9.399725   \n",
       "8   TUTHILL, PG      NISHIMOTO, D    8      1  0.656226  0.500000  3.148903   \n",
       "9    MORALES, J         FARACH, H   15      1  0.531780  0.326087  4.464370   \n",
       "\n",
       "     pa  \n",
       "0   240  \n",
       "1   516  \n",
       "2  3700  \n",
       "3   196  \n",
       "4  2256  \n",
       "5  8568  \n",
       "6  2844  \n",
       "7  1764  \n",
       "8   135  \n",
       "9   840  "
      ]
     },
     "execution_count": 45,
     "metadata": {},
     "output_type": "execute_result"
    }
   ],
   "source": [
    "%%time\n",
    "G = nx.read_gml('assets/astro_phy.gml')\n",
    "link_pred = pd.read_csv('assets/part3.csv')\n",
    "link_pred['rai'] = [lis[2] for lis in list(nx.resource_allocation_index(G,list(zip(link_pred.v1,link_pred.v2))))]  # resource_allocation_index of the node pairs\n",
    "link_pred['jac'] = [lis[2] for lis in list(nx.jaccard_coefficient(G,list(zip(link_pred.v1,link_pred.v2))))]  # jaccard_coefficient of the node pairs\n",
    "link_pred['ada'] = [lis[2] for lis in list(nx.adamic_adar_index(G,list(zip(link_pred.v1,link_pred.v2))))]  # adamic_adar of the node pairs\n",
    "link_pred['pa']  = [lis[2] for lis in list(nx.preferential_attachment(G,list(zip(link_pred.v1,link_pred.v2))))]  # preferential_attachment of the node pairs\n",
    "\n",
    "link_pred.head(10)\n",
    "\n",
    "# YOUR CODE HERE\n",
    "# raise NotImplementedError()\n",
    "\n"
   ]
  },
  {
   "cell_type": "markdown",
   "metadata": {
    "deletable": false,
    "editable": false,
    "nbgrader": {
     "cell_type": "markdown",
     "checksum": "929357443f33d9d41d41dd302cf7644f",
     "grade": false,
     "grade_id": "cell-d207d02ecefaad63",
     "locked": true,
     "schema_version": 3,
     "solution": false
    }
   },
   "source": [
    "### Q20. (4 points, Manually graded) Plot histograms of the values of each of the features (num, rai, jac, ada, pa); one set of histograms will be for pairs of nodes with label = 1 and another set for pairs of nodes with label = 0.\n",
    "\n",
    "There will be a total of 10 histograms -- 2 per feature. \n"
   ]
  },
  {
   "cell_type": "code",
   "execution_count": 46,
   "metadata": {
    "deletable": false,
    "nbgrader": {
     "cell_type": "code",
     "checksum": "4287e556bdd83ba1607cee7f63b745a8",
     "grade": true,
     "grade_id": "cell-a835ec7508d5c82e",
     "locked": false,
     "points": 0,
     "schema_version": 3,
     "solution": true
    }
   },
   "outputs": [
    {
     "data": {
      "image/png": "[encoded data removed]",
      "text/plain": [
       "<Figure size 576x1800 with 10 Axes>"
      ]
     },
     "metadata": {
      "needs_background": "light"
     },
     "output_type": "display_data"
    }
   ],
   "source": [
    "# selected_attributes = None\n",
    "\n",
    "l1_df = link_pred[link_pred['label']==1]\n",
    "l0_df = link_pred[link_pred['label']==0]\n",
    "\n",
    "fig, ax = plt.subplots(5,2,figsize = (8, 25), sharey = True)\n",
    "\n",
    "ax[0,0].title.set_text(\"num, label 1\");      \n",
    "ax[0,1].title.set_text(\"num, label 0\"); \n",
    "ax[1,0].title.set_text(\"rai, label 1\");      \n",
    "ax[1,1].title.set_text(\"rai, label 0\"); \n",
    "ax[2,0].title.set_text(\"jac, label 1\");      \n",
    "ax[2,1].title.set_text(\"jac, label 0\"); \n",
    "ax[3,0].title.set_text(\"ada, label 1\");      \n",
    "ax[3,1].title.set_text(\"ada, label 0\"); \n",
    "ax[4,0].title.set_text(\"pa, label 1\");      \n",
    "ax[4,1].title.set_text(\"pa, label 0\"); \n",
    "\n",
    "ax[0,0].hist(np.array(l1_df.num), bins = 50)\n",
    "ax[0,1].hist(np.array(l0_df.num), bins = 50)\n",
    "ax[1,0].hist(np.array(l1_df.rai), bins = 50)\n",
    "ax[1,1].hist(np.array(l0_df.rai), bins = 50)\n",
    "ax[2,0].hist(np.array(l1_df.jac), bins = 50)\n",
    "ax[2,1].hist(np.array(l0_df.jac), bins = 50)\n",
    "ax[3,0].hist(np.array(l1_df.ada), bins = 50)\n",
    "ax[3,1].hist(np.array(l0_df.ada), bins = 50)\n",
    "ax[4,0].hist(np.array(l1_df.pa), bins = 50)\n",
    "ax[4,1].hist(np.array(l0_df.pa), bins = 50)\n",
    "\n",
    "plt.show()\n",
    "\n",
    "# YOUR CODE HERE\n",
    "# raise NotImplementedError()"
   ]
  },
  {
   "cell_type": "markdown",
   "metadata": {
    "deletable": false,
    "editable": false,
    "nbgrader": {
     "cell_type": "markdown",
     "checksum": "32e2f880149c3a4d3c49fe483dbb55a7",
     "grade": false,
     "grade_id": "cell-11f47e691938501c",
     "locked": true,
     "schema_version": 3,
     "solution": false
    }
   },
   "source": [
    "### Q21. (1 points, Autograded) Measure the correlation between each of the five attributes and the label. \n",
    "\n",
    "**Hint**: You may apply [`pandas.DataFrame.corr`](https://pandas.pydata.org/pandas-docs/stable/reference/api/pandas.DataFrame.corr.html) for this question. The desired correlation dataframe should be in a square size, and the index names and the column names are the same. "
   ]
  },
  {
   "cell_type": "code",
   "execution_count": 47,
   "metadata": {
    "deletable": false,
    "nbgrader": {
     "cell_type": "code",
     "checksum": "5f8764a790f9d6fdeb44dd275bb3da62",
     "grade": false,
     "grade_id": "cell-c9dc03ff9642e9cb",
     "locked": false,
     "schema_version": 3,
     "solution": true
    }
   },
   "outputs": [
    {
     "data": {
      "text/html": [
       "<div>\n",
       "<style scoped>\n",
       "    .dataframe tbody tr th:only-of-type {\n",
       "        vertical-align: middle;\n",
       "    }\n",
       "\n",
       "    .dataframe tbody tr th {\n",
       "        vertical-align: top;\n",
       "    }\n",
       "\n",
       "    .dataframe thead th {\n",
       "        text-align: right;\n",
       "    }\n",
       "</style>\n",
       "<table border=\"1\" class=\"dataframe\">\n",
       "  <thead>\n",
       "    <tr style=\"text-align: right;\">\n",
       "      <th></th>\n",
       "      <th>num</th>\n",
       "      <th>rai</th>\n",
       "      <th>jac</th>\n",
       "      <th>ada</th>\n",
       "      <th>pa</th>\n",
       "      <th>label</th>\n",
       "    </tr>\n",
       "  </thead>\n",
       "  <tbody>\n",
       "    <tr>\n",
       "      <th>num</th>\n",
       "      <td>1.000000</td>\n",
       "      <td>0.691309</td>\n",
       "      <td>0.526966</td>\n",
       "      <td>0.977110</td>\n",
       "      <td>0.284549</td>\n",
       "      <td>0.377449</td>\n",
       "    </tr>\n",
       "    <tr>\n",
       "      <th>rai</th>\n",
       "      <td>0.691309</td>\n",
       "      <td>1.000000</td>\n",
       "      <td>0.694429</td>\n",
       "      <td>0.826830</td>\n",
       "      <td>-0.004753</td>\n",
       "      <td>0.619286</td>\n",
       "    </tr>\n",
       "    <tr>\n",
       "      <th>jac</th>\n",
       "      <td>0.526966</td>\n",
       "      <td>0.694429</td>\n",
       "      <td>1.000000</td>\n",
       "      <td>0.618852</td>\n",
       "      <td>-0.286523</td>\n",
       "      <td>0.460965</td>\n",
       "    </tr>\n",
       "    <tr>\n",
       "      <th>ada</th>\n",
       "      <td>0.977110</td>\n",
       "      <td>0.826830</td>\n",
       "      <td>0.618852</td>\n",
       "      <td>1.000000</td>\n",
       "      <td>0.208934</td>\n",
       "      <td>0.474494</td>\n",
       "    </tr>\n",
       "    <tr>\n",
       "      <th>pa</th>\n",
       "      <td>0.284549</td>\n",
       "      <td>-0.004753</td>\n",
       "      <td>-0.286523</td>\n",
       "      <td>0.208934</td>\n",
       "      <td>1.000000</td>\n",
       "      <td>-0.100315</td>\n",
       "    </tr>\n",
       "    <tr>\n",
       "      <th>label</th>\n",
       "      <td>0.377449</td>\n",
       "      <td>0.619286</td>\n",
       "      <td>0.460965</td>\n",
       "      <td>0.474494</td>\n",
       "      <td>-0.100315</td>\n",
       "      <td>1.000000</td>\n",
       "    </tr>\n",
       "  </tbody>\n",
       "</table>\n",
       "</div>"
      ],
      "text/plain": [
       "            num       rai       jac       ada        pa     label\n",
       "num    1.000000  0.691309  0.526966  0.977110  0.284549  0.377449\n",
       "rai    0.691309  1.000000  0.694429  0.826830 -0.004753  0.619286\n",
       "jac    0.526966  0.694429  1.000000  0.618852 -0.286523  0.460965\n",
       "ada    0.977110  0.826830  0.618852  1.000000  0.208934  0.474494\n",
       "pa     0.284549 -0.004753 -0.286523  0.208934  1.000000 -0.100315\n",
       "label  0.377449  0.619286  0.460965  0.474494 -0.100315  1.000000"
      ]
     },
     "execution_count": 47,
     "metadata": {},
     "output_type": "execute_result"
    }
   ],
   "source": [
    "corr = link_pred[['num','rai','jac','ada','pa','label']].corr()  # Assign your correlation dataframe to this variable. This should be a float. \n",
    "corr\n",
    "# YOUR CODE HERE\n",
    "# raise NotImplementedError()"
   ]
  },
  {
   "cell_type": "code",
   "execution_count": 48,
   "metadata": {
    "deletable": false,
    "editable": false,
    "nbgrader": {
     "cell_type": "code",
     "checksum": "675ddc038305ee9c22109d5e70b3d8ca",
     "grade": true,
     "grade_id": "cell-7fd19a56cfde1873",
     "locked": true,
     "points": 1,
     "schema_version": 3,
     "solution": false
    }
   },
   "outputs": [],
   "source": [
    "#hidden tests for Question 21 are within this cell\n"
   ]
  },
  {
   "cell_type": "markdown",
   "metadata": {
    "deletable": false,
    "editable": false,
    "nbgrader": {
     "cell_type": "markdown",
     "checksum": "5dbb9d9fcaa48e3a1f3905d6b5f7fa88",
     "grade": false,
     "grade_id": "cell-1bf2f6a2583fa1fa",
     "locked": true,
     "schema_version": 3,
     "solution": false
    }
   },
   "source": [
    "### Q22. (1 point, Autograded) Based on the correlations, which single feature do you expect to perform best at predicting edges?\n",
    "\n",
    "Set the column name of your selection into the variable `selected_attribute` as a string. For example, if you select the attribute \"number of common neighbors\", indicate this as\n",
    "\n",
    "```python\n",
    "selected_attribute = \"num\"\n",
    "```"
   ]
  },
  {
   "cell_type": "code",
   "execution_count": 49,
   "metadata": {
    "deletable": false,
    "nbgrader": {
     "cell_type": "code",
     "checksum": "d8888d4d77ce0c3f656426818f46964b",
     "grade": false,
     "grade_id": "cell-8a87ec823a9ebd8d",
     "locked": false,
     "schema_version": 3,
     "solution": true
    }
   },
   "outputs": [],
   "source": [
    "selected_attribute = 'rai' #choose your selected attribute. This should be a string. \n",
    "\n",
    "# YOUR CODE HERE\n",
    "# raise NotImplementedError()"
   ]
  },
  {
   "cell_type": "code",
   "execution_count": 50,
   "metadata": {
    "deletable": false,
    "editable": false,
    "nbgrader": {
     "cell_type": "code",
     "checksum": "448d4f12996c078730da71b2d5b59fa2",
     "grade": true,
     "grade_id": "cell-e09740f9fe726d15",
     "locked": true,
     "points": 1,
     "schema_version": 3,
     "solution": false
    }
   },
   "outputs": [],
   "source": [
    "#hidden tests for Question 22 are within this cell"
   ]
  },
  {
   "cell_type": "markdown",
   "metadata": {
    "deletable": false,
    "editable": false,
    "nbgrader": {
     "cell_type": "markdown",
     "checksum": "231f67d3c6be23bf4fa3febe42fe7e33",
     "grade": false,
     "grade_id": "cell-b2f8d51d6443d08b",
     "locked": true,
     "schema_version": 3,
     "solution": false
    }
   },
   "source": [
    "### Q23. (20 points, Manually graded) Link prediction\n",
    "\n",
    "We are now ready to train and test classifiers for the link prediction task. \n",
    "\n",
    "First, we will split the data into training and testing."
   ]
  },
  {
   "cell_type": "code",
   "execution_count": 51,
   "metadata": {
    "deletable": false,
    "editable": false,
    "nbgrader": {
     "cell_type": "code",
     "checksum": "9fef87d9632cf4630fb3c1ccde170d94",
     "grade": false,
     "grade_id": "cell-68fefe41029fddcb",
     "locked": true,
     "schema_version": 3,
     "solution": false
    }
   },
   "outputs": [],
   "source": [
    "# split data\n",
    "X_train, X_test, y_train, y_test = train_test_split(\n",
    "    link_pred[[\"num\", \"rai\",\"jac\",\"ada\",\"pa\"]], link_pred.label, test_size=0.3, random_state=42)"
   ]
  },
  {
   "cell_type": "code",
   "execution_count": 52,
   "metadata": {
    "scrolled": true
   },
   "outputs": [
    {
     "data": {
      "text/plain": [
       "97642     1\n",
       "153969    1\n",
       "134975    0\n",
       "143864    0\n",
       "148909    1\n",
       "         ..\n",
       "119879    0\n",
       "103694    1\n",
       "131932    0\n",
       "146867    0\n",
       "121958    1\n",
       "Name: label, Length: 109775, dtype: int64"
      ]
     },
     "execution_count": 52,
     "metadata": {},
     "output_type": "execute_result"
    }
   ],
   "source": [
    "y_train"
   ]
  },
  {
   "cell_type": "markdown",
   "metadata": {
    "deletable": false,
    "editable": false,
    "nbgrader": {
     "cell_type": "markdown",
     "checksum": "72a65ba963ee0e50a8e649bc61feccb4",
     "grade": false,
     "grade_id": "cell-33dc655392a6fad4",
     "locked": true,
     "schema_version": 3,
     "solution": false
    }
   },
   "source": [
    "Now use each feature as the only attribute for the link prediction task. Train and test the performance of four different models:\n",
    "\n",
    "- `LinearSVC`\n",
    "- `GaussianNB`\n",
    "- `RandomForestClassifier`\n",
    "- `AdaBoostClassifier`\n",
    "\n",
    "You can choose any hyperparameters. \n",
    "\n",
    "Create a dataframe `F1_score_df`, which stores the F1-score of your test set for each of the four features for each model.\n",
    "\n",
    "Finally, train and test the performance of each model using all five features, and add a new column to the dataframe with the test F1 score. \n",
    "\n",
    "\n",
    "You dataframe will have the following format:\n",
    "\n",
    "| model| num| rai| jac| ada|pa|all features|\n",
    "|-|-|-|-|-|-|-|\n",
    "|LinearSVC|\n",
    "|GaussianNB|\n",
    "|RandomForestClassifier|\n",
    "|AdaBoostClassifier|\n",
    "\n",
    "Be sure to print the final dataframe. "
   ]
  },
  {
   "cell_type": "code",
   "execution_count": 53,
   "metadata": {
    "deletable": false,
    "nbgrader": {
     "cell_type": "code",
     "checksum": "268afc4bcb2e2d659ffd44b0fef9ade6",
     "grade": false,
     "grade_id": "cell-681ac3665f4bd0ea",
     "locked": false,
     "schema_version": 3,
     "solution": true
    }
   },
   "outputs": [],
   "source": [
    "from sklearn.ensemble import RandomForestClassifier\n",
    "from sklearn.metrics import accuracy_score, f1_score\n",
    "from sklearn.preprocessing import StandardScaler\n",
    "from sklearn.svm import LinearSVC\n",
    "from sklearn.pipeline import make_pipeline\n",
    "from sklearn.naive_bayes import GaussianNB\n",
    "from sklearn.ensemble import AdaBoostClassifier\n",
    "\n",
    "F1_score = [['LinearSVC','GaussianNB','RandomForestClassifier','AdaBoostClassifier']]\n",
    "\n",
    "\n",
    "for i in ['num','rai','jac','ada','pa']:\n",
    "    temp = []\n",
    "    svc_clf = make_pipeline(StandardScaler(), LinearSVC(random_state = 0))\n",
    "    svc_clf.fit(X_train[i].to_numpy().reshape(-1, 1),y_train)\n",
    "    preds = svc_clf.predict(X_test[i].to_numpy().reshape(-1, 1))\n",
    "    temp.append(f1_score(y_test,preds))\n",
    "    \n",
    "    g_clf = GaussianNB()\n",
    "    g_clf.fit(X_train[i].to_numpy().reshape(-1, 1),y_train)\n",
    "    preds = g_clf.predict(X_test[i].to_numpy().reshape(-1, 1))\n",
    "    temp.append(f1_score(y_test,preds))\n",
    "    \n",
    "    rf_clf = RandomForestClassifier(random_state = 0)\n",
    "    rf_clf.fit(X_train[i].to_numpy().reshape(-1, 1),y_train)\n",
    "    preds = rf_clf.predict(X_test[i].to_numpy().reshape(-1, 1))\n",
    "    temp.append(f1_score(y_test,preds))\n",
    "    \n",
    "    ada_clf = AdaBoostClassifier(random_state = 0)\n",
    "    ada_clf.fit(X_train[i].to_numpy().reshape(-1, 1),y_train)\n",
    "    preds = ada_clf.predict(X_test[i].to_numpy().reshape(-1, 1))\n",
    "    temp.append(f1_score(y_test,preds))\n",
    "    \n",
    "    F1_score.append(temp)\n",
    "    \n",
    "    \n",
    "#add all_features\n",
    "\n",
    "temp = []\n",
    "svc_clf = make_pipeline(StandardScaler(), LinearSVC(random_state = 0))\n",
    "svc_clf.fit(X_train,y_train)\n",
    "preds = svc_clf.predict(X_test)\n",
    "temp.append(f1_score(y_test,preds))\n",
    "\n",
    "g_clf = GaussianNB()\n",
    "g_clf.fit(X_train,y_train)\n",
    "preds = g_clf.predict(X_test)\n",
    "temp.append(f1_score(y_test,preds))\n",
    "\n",
    "rf_clf = RandomForestClassifier(random_state = 0)\n",
    "rf_clf.fit(X_train,y_train)\n",
    "preds = rf_clf.predict(X_test)\n",
    "temp.append(f1_score(y_test,preds))\n",
    "\n",
    "ada_clf = AdaBoostClassifier(random_state = 0)\n",
    "ada_clf.fit(X_train,y_train)\n",
    "preds = ada_clf.predict(X_test)\n",
    "temp.append(f1_score(y_test,preds))\n",
    "\n",
    "F1_score.append(temp)\n",
    "\n",
    "\n",
    "# YOUR CODE HERE\n",
    "# raise NotImplementedError()"
   ]
  },
  {
   "cell_type": "code",
   "execution_count": 54,
   "metadata": {
    "deletable": false,
    "nbgrader": {
     "cell_type": "code",
     "checksum": "76ae14f5f31d3d915e16f46915e51c10",
     "grade": true,
     "grade_id": "cell-f149e83ef99c661e",
     "locked": false,
     "points": 0,
     "schema_version": 3,
     "solution": true
    }
   },
   "outputs": [
    {
     "data": {
      "text/html": [
       "<div>\n",
       "<style scoped>\n",
       "    .dataframe tbody tr th:only-of-type {\n",
       "        vertical-align: middle;\n",
       "    }\n",
       "\n",
       "    .dataframe tbody tr th {\n",
       "        vertical-align: top;\n",
       "    }\n",
       "\n",
       "    .dataframe thead th {\n",
       "        text-align: right;\n",
       "    }\n",
       "</style>\n",
       "<table border=\"1\" class=\"dataframe\">\n",
       "  <thead>\n",
       "    <tr style=\"text-align: right;\">\n",
       "      <th></th>\n",
       "      <th>model</th>\n",
       "      <th>num</th>\n",
       "      <th>rai</th>\n",
       "      <th>jac</th>\n",
       "      <th>ada</th>\n",
       "      <th>pa</th>\n",
       "      <th>all features</th>\n",
       "    </tr>\n",
       "  </thead>\n",
       "  <tbody>\n",
       "    <tr>\n",
       "      <th>0</th>\n",
       "      <td>LinearSVC</td>\n",
       "      <td>0.610414</td>\n",
       "      <td>0.813887</td>\n",
       "      <td>0.667639</td>\n",
       "      <td>0.693195</td>\n",
       "      <td>0.644604</td>\n",
       "      <td>0.821786</td>\n",
       "    </tr>\n",
       "    <tr>\n",
       "      <th>1</th>\n",
       "      <td>GaussianNB</td>\n",
       "      <td>0.555127</td>\n",
       "      <td>0.789968</td>\n",
       "      <td>0.620464</td>\n",
       "      <td>0.632489</td>\n",
       "      <td>0.651247</td>\n",
       "      <td>0.708911</td>\n",
       "    </tr>\n",
       "    <tr>\n",
       "      <th>2</th>\n",
       "      <td>RandomForestClassifier</td>\n",
       "      <td>0.697149</td>\n",
       "      <td>0.80317</td>\n",
       "      <td>0.736105</td>\n",
       "      <td>0.740899</td>\n",
       "      <td>0.598538</td>\n",
       "      <td>0.875745</td>\n",
       "    </tr>\n",
       "    <tr>\n",
       "      <th>3</th>\n",
       "      <td>AdaBoostClassifier</td>\n",
       "      <td>0.697286</td>\n",
       "      <td>0.868025</td>\n",
       "      <td>0.742657</td>\n",
       "      <td>0.797866</td>\n",
       "      <td>0.518097</td>\n",
       "      <td>0.86922</td>\n",
       "    </tr>\n",
       "  </tbody>\n",
       "</table>\n",
       "</div>"
      ],
      "text/plain": [
       "                    model       num       rai       jac       ada        pa  \\\n",
       "0               LinearSVC  0.610414  0.813887  0.667639  0.693195  0.644604   \n",
       "1              GaussianNB  0.555127  0.789968  0.620464  0.632489  0.651247   \n",
       "2  RandomForestClassifier  0.697149   0.80317  0.736105  0.740899  0.598538   \n",
       "3      AdaBoostClassifier  0.697286  0.868025  0.742657  0.797866  0.518097   \n",
       "\n",
       "  all features  \n",
       "0     0.821786  \n",
       "1     0.708911  \n",
       "2     0.875745  \n",
       "3      0.86922  "
      ]
     },
     "execution_count": 54,
     "metadata": {},
     "output_type": "execute_result"
    }
   ],
   "source": [
    "F1_score\n",
    "\n",
    "F1_score_df = pd.DataFrame(F1_score)\n",
    "\n",
    "F1_score_df = F1_score_df.T.rename(columns = {0:'model',1:'num',2:'rai',3:'jac',4:'ada',5:'pa',6:'all features'})\n",
    "\n",
    "F1_score_df\n",
    "# YOUR CODE HERE\n",
    "# raise NotImplementedError()"
   ]
  },
  {
   "cell_type": "markdown",
   "metadata": {
    "deletable": false,
    "editable": false,
    "nbgrader": {
     "cell_type": "markdown",
     "checksum": "7aea846a6c81a8abb91bcfc7c3b7a79f",
     "grade": false,
     "grade_id": "cell-e3218db6ccd63b81",
     "locked": true,
     "schema_version": 3,
     "solution": false
    }
   },
   "source": [
    "# End"
   ]
  }
 ],
 "metadata": {
  "anaconda-cloud": {},
  "colab": {
   "collapsed_sections": [],
   "name": "assignment2.ipynb",
   "provenance": []
  },
  "coursera": {
   "schema_names": [
    "mads_network_analysis_v2_assignment2"
   ]
  },
  "kernelspec": {
   "display_name": "Python 3 (ipykernel)",
   "language": "python",
   "name": "python3"
  },
  "language_info": {
   "codemirror_mode": {
    "name": "ipython",
    "version": 3
   },
   "file_extension": ".py",
   "mimetype": "text/x-python",
   "name": "python",
   "nbconvert_exporter": "python",
   "pygments_lexer": "ipython3",
   "version": "3.8.10"
  }
 },
 "nbformat": 4,
 "nbformat_minor": 4
}
