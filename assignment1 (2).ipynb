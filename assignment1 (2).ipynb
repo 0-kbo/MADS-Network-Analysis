{
 "cells": [
  {
   "cell_type": "markdown",
   "metadata": {},
   "source": [
    "# Assignment 1\n",
    "### Last updated: June 23, 2022"
   ]
  },
  {
   "cell_type": "markdown",
   "metadata": {},
   "source": [
    "### Name: Kevin Borah\n",
    "\n",
    "### Uniqname: kborah\n",
    "\n",
    "## Instructions\n",
    "\n",
    "Please turn in:\n",
    "1. A Jupyter Notebook file. This file should show all of the required work, including code, results, visualizations (if any), and necessary comments to your code. Irrelevant code and results should be deleted prior to submission. This file is submitted automatically when you submit your notebook to be autograded. This is done in Assignment 1 -- Create. \n",
    "\n",
    "2. An HTML file of the Notebook. Submit this file in Assignment 1 - Submit \n",
    "\n",
    "3. A PDF file of the Notebook. Submit this file in Assignment 1 - Submit.\n",
    "\n",
    "### Before submitting, please select Kernel -> Restart & Run All.\n",
    "\n",
    "### Please do not remove any code outside of the Not Implemented Error sections. The autograder may need it."
   ]
  },
  {
   "cell_type": "markdown",
   "metadata": {
    "colab_type": "text",
    "deletable": false,
    "editable": false,
    "id": "ntzIk0QSI8s3",
    "nbgrader": {
     "cell_type": "markdown",
     "checksum": "485a6ac705c05286af47868d43a5c8a4",
     "grade": false,
     "grade_id": "cell-d363737b4def9aee",
     "locked": true,
     "schema_version": 3,
     "solution": false
    }
   },
   "source": [
    "# Assignment 1\n",
    "\n",
    "In this assignment, we are going to practice analyzing networks using the various measurements and metrics that we have learned this week. You will work with three different network datasets. First, you will choose one of the networks and explore its features. Then you will complete a prediction task using a Facebook network."
   ]
  },
  {
   "cell_type": "markdown",
   "metadata": {
    "colab_type": "text",
    "deletable": false,
    "editable": false,
    "id": "E5Y8SduhLQg_",
    "nbgrader": {
     "cell_type": "markdown",
     "checksum": "892820f20fafca8b527c2ecd8e185ea5",
     "grade": false,
     "grade_id": "cell-361595ed4e58169d",
     "locked": true,
     "schema_version": 3,
     "solution": false
    }
   },
   "source": [
    "## Dataset descriptions\n",
    "\n",
    "Below are three data sets that you can work with. For this assignment, you only need to choose one, but you are welcome to explore the others. \n",
    "\n",
    "### 1. Star wars interaction graph\n",
    "\n",
    "- `starwars-full-interactions.json`: characters in Star Wars and their interactions. Each character is treated as a node, and an edge is created if two characters ever appear in the same scene.\n",
    "\n",
    "- `star_war_label.csv`: labels of the most prominent characters.  A character has label 1 if they frequently appear in the Star Wars movies and 0 otherwise. The order of the names and labels in this file is the same as their node number.\n",
    "\n",
    "> Source: Gabasova, E. (2016). Star Wars social network. DOI: https://doi.org/10.5281/zenodo.1411479.\n",
    "\n",
    "### 2. Facebook friendships\n",
    "\n",
    "- `slavko.net`: an edge list from a friendship network. Each node represents a user on Facebook.\n",
    "\n",
    "- `slavko_label.txt`: labels of the nodes indicate their level of influence. A label of 1 indicates the node is \"influential,\" and a label of 0 indicates otherwise. The order of the nodes and labels in this file is the same as their node number. The labels of this graph were synthetically generated, but you can think of them as representing the results from a survey, where users were asked to identify Facebook friends who influence their opinions. A node with a label 1 is a user who was identified as influential by at least one of their friends.\n",
    "\n",
    "\n",
    "> Blagus, N., Šubelj, L. & Bajec, M. (2012). [*Self-similar scaling of density in complex real-world networks*](http://wwwlovre.appspot.com/resources/research/bibs/ssd.bib), Physica A: Statistical Mechanics and its Applications 391(8), 2794-2802, doi:[10.1016/j.physa.2011.12.055](http://dx.doi.org/10.1016/j.physa.2011.12.055), e-print [arXiv:1110.5609](http://arxiv.org/abs/1110.5609), [COBISS:8930132](http://cobiss.izum.si/scripts/cobiss?command=DISPLAY&lani=en&base=COBIB&RID=8930132).\n",
    "\n",
    "\n",
    "### 3. Students’ Cooperation Social Network\n",
    "\n",
    "- `multigraph_hashAnonymized.csv`: a cooperation network between students. The nodes are students and an edge between two students indicates that the two students have cooperated in at least one academic activity.</font>\n",
    "\n",
    "- `multigraph_label.txt`: academic improvement labels. A label of 1 indicates the student has made academic improvement during a period of cooperation and 0 otherwise. \n",
    "\n",
    "\n",
    "> Fire, M., Katz, G., Elovici, Y., Shapira, B., and Rokach, L. Fire, Michael, et al. \"Predicting student exam’s scores by analyzing social network data.\" Active Media Technology. Springer Berlin Heidelberg, 2012. 584-595.\n"
   ]
  },
  {
   "cell_type": "code",
   "execution_count": 1,
   "metadata": {
    "colab": {},
    "colab_type": "code",
    "deletable": false,
    "editable": false,
    "id": "iB7prURBNsAg",
    "nbgrader": {
     "cell_type": "code",
     "checksum": "dbd41783a973b24e5c87c3fa52cc53f6",
     "grade": false,
     "grade_id": "cell-5ad68f02cdef793a",
     "locked": true,
     "schema_version": 3,
     "solution": false
    }
   },
   "outputs": [],
   "source": [
    "import networkx as nx\n",
    "import pandas as pd\n",
    "import numpy as np\n",
    "\n",
    "import urllib\n",
    "import json\n",
    "import operator\n",
    "\n",
    "import matplotlib.pyplot as plt\n",
    "#import seaborn as sns"
   ]
  },
  {
   "cell_type": "markdown",
   "metadata": {
    "colab_type": "text",
    "deletable": false,
    "editable": false,
    "id": "koadY6saPPLM",
    "nbgrader": {
     "cell_type": "markdown",
     "checksum": "f4c7ea2d5eeadf071ea1cadaae105db0",
     "grade": false,
     "grade_id": "cell-221a284aaff0e6f0",
     "locked": true,
     "schema_version": 3,
     "solution": false
    }
   },
   "source": [
    "---\n",
    "\n",
    "## Part 1. Data exploration\n",
    "\n",
    "For this part, you will choose one of the three datasets described above. We provide the function `get_graph` for you, which extracts a dataset of your choice and creates the corresponding network. "
   ]
  },
  {
   "cell_type": "code",
   "execution_count": 2,
   "metadata": {
    "colab": {},
    "colab_type": "code",
    "deletable": false,
    "editable": false,
    "id": "-v6B1jS1I6u9",
    "nbgrader": {
     "cell_type": "code",
     "checksum": "d128c0a6d24fb1f2bddd9d176c0b8f8e",
     "grade": false,
     "grade_id": "cell-030808e083bbbe32",
     "locked": true,
     "schema_version": 3,
     "solution": false
    }
   },
   "outputs": [],
   "source": [
    "def get_graph(dataset):\n",
    "    if dataset == \"starwars\":\n",
    "        f=open(\"assets/starwars-full-interactions.json\")\n",
    "        data = json.load(f)\n",
    "        char_map = {entry['name']: i for i, entry in enumerate(data['nodes'])}\n",
    "        edges = [(edge['source'], edge['target']) for edge in data['links']]\n",
    "        G=nx.Graph()\n",
    "        G.add_nodes_from([i for i in range(len(char_map))])\n",
    "        G.add_edges_from(edges)\n",
    "    elif dataset == \"facebook\":\n",
    "        G = nx.read_edgelist(\"assets/slavko.net\", nodetype=int)\n",
    "    elif dataset == \"student\":\n",
    "        G = nx.read_edgelist(\"assets/student.txt\", nodetype=int)\n",
    "    else:\n",
    "        raise ValueError(\"Not a valid dataset\")\n",
    "    return G"
   ]
  },
  {
   "cell_type": "markdown",
   "metadata": {
    "deletable": false,
    "editable": false,
    "nbgrader": {
     "cell_type": "markdown",
     "checksum": "653f9056b3071195484e41b08312b340",
     "grade": false,
     "grade_id": "cell-d834857c7278b6e8",
     "locked": true,
     "schema_version": 3,
     "solution": false
    }
   },
   "source": [
    "### Indicate your choice of data in the cell below, using one of the following strings\n",
    "\n",
    "\n",
    "- `\"starwars\"`\n",
    "- `\"facebook\"`\n",
    "- `\"student\"`"
   ]
  },
  {
   "cell_type": "code",
   "execution_count": 3,
   "metadata": {
    "deletable": false,
    "nbgrader": {
     "cell_type": "code",
     "checksum": "6949205143318dbfc512ead66f1372c6",
     "grade": false,
     "grade_id": "cell-2cb68bb58777c21e",
     "locked": false,
     "schema_version": 3,
     "solution": true
    }
   },
   "outputs": [],
   "source": [
    "DATASET = \"starwars\"  # assign the string of your chosen dataset here\n",
    "\n",
    "# YOUR CODE HERE\n",
    "# raise NotImplementedError()"
   ]
  },
  {
   "cell_type": "code",
   "execution_count": 4,
   "metadata": {
    "deletable": false,
    "editable": false,
    "nbgrader": {
     "cell_type": "code",
     "checksum": "b810d1b512e0dd7d919217a6940fc6c7",
     "grade": true,
     "grade_id": "cell-a4c865614a8d61e3",
     "locked": true,
     "points": 0,
     "schema_version": 3,
     "solution": false
    }
   },
   "outputs": [],
   "source": [
    "#hidden tests for Part 1 are within this cell"
   ]
  },
  {
   "cell_type": "markdown",
   "metadata": {
    "colab_type": "text",
    "deletable": false,
    "editable": false,
    "id": "g6LDuvmCjTqk",
    "nbgrader": {
     "cell_type": "markdown",
     "checksum": "9bac860907d64e38f301cb274cc0aeb0",
     "grade": false,
     "grade_id": "cell-217e2be5467ef4e7",
     "locked": true,
     "schema_version": 3,
     "solution": false
    }
   },
   "source": [
    "### Q1. (2 points, Autograded) Plot the histogram of degree distribution.\n",
    "Use the [`degree_histogram`](https://networkx.github.io/documentation/stable/reference/generated/networkx.classes.function.degree_histogram.html#networkx.classes.function.degree_histogram) function and then plot the histogram using [`plt.bar`](https://matplotlib.org/3.1.1/api/_as_gen/matplotlib.pyplot.bar.html). \n",
    "\n",
    "<font color='red'>**Important**:</font> to receive full points from the autograder, please don't modify additional parameters that adjust the appearance of the figure, such as `width`, `bottom`, etc."
   ]
  },
  {
   "cell_type": "code",
   "execution_count": 5,
   "metadata": {
    "colab": {
     "base_uri": "https://localhost:8080/",
     "height": 265
    },
    "colab_type": "code",
    "deletable": false,
    "executionInfo": {
     "elapsed": 445,
     "status": "ok",
     "timestamp": 1585077912885,
     "user": {
      "displayName": "Lingyun Guo",
      "photoUrl": "",
      "userId": "03039946515057053705"
     },
     "user_tz": 240
    },
    "id": "bsdDi6PTRbn2",
    "nbgrader": {
     "cell_type": "code",
     "checksum": "d459de4869e657d8e168e08b18d66315",
     "grade": false,
     "grade_id": "cell-156b3960667d5b4e",
     "locked": false,
     "schema_version": 3,
     "solution": true
    },
    "outputId": "bba4d460-9fc9-428d-db9b-3887ee24a3fb"
   },
   "outputs": [
    {
     "data": {
      "image/png": "[encoded data removed]",
      "text/plain": [
       "<Figure size 432x288 with 1 Axes>"
      ]
     },
     "metadata": {
      "needs_background": "light"
     },
     "output_type": "display_data"
    }
   ],
   "source": [
    "# get graph\n",
    "G = get_graph(DATASET)    # assign your graph here\n",
    "hist = nx.degree_histogram(G)  # assign your plt.bar plot to img\n",
    "\n",
    "img = plt.bar(range(len(hist)),hist)\n",
    "\n",
    "# YOUR CODE HERE\n",
    "# raise NotImplementedError()"
   ]
  },
  {
   "cell_type": "code",
   "execution_count": 6,
   "metadata": {
    "deletable": false,
    "editable": false,
    "nbgrader": {
     "cell_type": "code",
     "checksum": "9b97216ba08be2c7145b7410c0a441e4",
     "grade": true,
     "grade_id": "cell-db033ef33ed02ee8",
     "locked": true,
     "points": 2,
     "schema_version": 3,
     "solution": false
    }
   },
   "outputs": [],
   "source": [
    "#hidden tests for Question 1 are within this cell"
   ]
  },
  {
   "cell_type": "markdown",
   "metadata": {
    "colab_type": "text",
    "deletable": false,
    "editable": false,
    "id": "qGGt1RKRjcK1",
    "nbgrader": {
     "cell_type": "markdown",
     "checksum": "5c061db0d8d2836c3b957b7c353c9714",
     "grade": false,
     "grade_id": "cell-682843cbba59ad81",
     "locked": true,
     "schema_version": 3,
     "solution": false
    }
   },
   "source": [
    "### Q2. (3 points, Autograded) Which node has the largest degree centrality and what is the value?\n",
    "\n",
    "Hint: you can sort a dictionary `D` by its values using \n",
    "\n",
    "```python\n",
    "sorted(D.items(), key=lambda item: item[1])\n",
    "```"
   ]
  },
  {
   "cell_type": "code",
   "execution_count": 7,
   "metadata": {
    "colab": {
     "base_uri": "https://localhost:8080/",
     "height": 34
    },
    "colab_type": "code",
    "deletable": false,
    "executionInfo": {
     "elapsed": 543,
     "status": "ok",
     "timestamp": 1585406244693,
     "user": {
      "displayName": "Lingyun Guo",
      "photoUrl": "",
      "userId": "03039946515057053705"
     },
     "user_tz": 240
    },
    "id": "-ibAs2TyDqwi",
    "nbgrader": {
     "cell_type": "code",
     "checksum": "8d8e18c9dd87a4d0049a4895bb4b826f",
     "grade": false,
     "grade_id": "cell-b77c80ebfe459764",
     "locked": false,
     "schema_version": 3,
     "solution": true
    },
    "outputId": "c37778a6-ba32-48c6-84c9-3b18b8fc7836"
   },
   "outputs": [],
   "source": [
    "deg_dict = nx.degree_centrality(G)\n",
    "\n",
    "deg_dict = sorted(deg_dict.items(), key=lambda item: item[1])\n",
    "\n",
    "node_max_degree = deg_dict[-1][0]  # the node which has the largest degree centrality value. This should be an integer. \n",
    "val_deg = deg_dict[-1][1]          # the centrality value of the node with the largest degree centrality. This should be a float. \n",
    "\n",
    "# node_max_degree, val_deg\n",
    "# YOUR CODE HERE\n",
    "# raise NotImplementedError()"
   ]
  },
  {
   "cell_type": "code",
   "execution_count": 8,
   "metadata": {
    "deletable": false,
    "editable": false,
    "nbgrader": {
     "cell_type": "code",
     "checksum": "32342db13c2c92eb0c462c32f4cb3b42",
     "grade": true,
     "grade_id": "cell-17637947ef67160e",
     "locked": true,
     "points": 3,
     "schema_version": 3,
     "solution": false
    }
   },
   "outputs": [],
   "source": [
    "#hidden tests for Question 2 are within this cell"
   ]
  },
  {
   "cell_type": "markdown",
   "metadata": {
    "colab_type": "text",
    "deletable": false,
    "editable": false,
    "id": "exlTqohcjhst",
    "nbgrader": {
     "cell_type": "markdown",
     "checksum": "49ca6b9b46fcc73bb5af652a640a9dc7",
     "grade": false,
     "grade_id": "cell-197475b4111bfd24",
     "locked": true,
     "schema_version": 3,
     "solution": false
    }
   },
   "source": [
    "### Q3. (5 points, Autograded) List the 5 nodes with the largest and smallest closeness centrality."
   ]
  },
  {
   "cell_type": "code",
   "execution_count": 9,
   "metadata": {
    "colab": {
     "base_uri": "https://localhost:8080/",
     "height": 51
    },
    "colab_type": "code",
    "deletable": false,
    "executionInfo": {
     "elapsed": 464,
     "status": "ok",
     "timestamp": 1585407037988,
     "user": {
      "displayName": "Lingyun Guo",
      "photoUrl": "",
      "userId": "03039946515057053705"
     },
     "user_tz": 240
    },
    "id": "P_PhbqfxFQtw",
    "nbgrader": {
     "cell_type": "code",
     "checksum": "0f928883972e1b0ccb46a2d7a42029d5",
     "grade": false,
     "grade_id": "cell-466fb9a6da2dce45",
     "locked": false,
     "schema_version": 3,
     "solution": true
    },
    "outputId": "1cda7455-688d-414d-c8f7-303dd6fa6b72"
   },
   "outputs": [],
   "source": [
    "clos_dict = nx.closeness_centrality(G)\n",
    "clos_dict = sorted(clos_dict.keys(), key=lambda x:clos_dict[x],reverse = True)\n",
    "\n",
    "\n",
    "max_5_cc = clos_dict[:5] # a list of 5 nodes with the largest closeness centrality values\n",
    "min_5_cc = clos_dict[-5:] # a list of 5 nodes with the smallest closeness centrality values\n",
    "\n",
    "# max_5_cc\n",
    "\n",
    "# YOUR CODE HERE\n",
    "# raise NotImplementedError()"
   ]
  },
  {
   "cell_type": "code",
   "execution_count": 10,
   "metadata": {
    "deletable": false,
    "editable": false,
    "nbgrader": {
     "cell_type": "code",
     "checksum": "c77e36605e5d7956a27f967d93e0a814",
     "grade": true,
     "grade_id": "cell-3a53a8c1ca0922c7",
     "locked": true,
     "points": 5,
     "schema_version": 3,
     "solution": false
    }
   },
   "outputs": [],
   "source": [
    "#hidden tests for Question 3 are within this cell"
   ]
  },
  {
   "cell_type": "markdown",
   "metadata": {
    "colab_type": "text",
    "deletable": false,
    "editable": false,
    "id": "c5eeyIGxjkkH",
    "nbgrader": {
     "cell_type": "markdown",
     "checksum": "66701a881b8aa4e979cda81806ef6bcf",
     "grade": false,
     "grade_id": "cell-641fdd6bfa5de410",
     "locked": true,
     "schema_version": 3,
     "solution": false
    }
   },
   "source": [
    "### Q4. (5 points, Autograded) List the 5 nodes with the largest and smallest betweenness centrality. "
   ]
  },
  {
   "cell_type": "code",
   "execution_count": 11,
   "metadata": {
    "colab": {
     "base_uri": "https://localhost:8080/",
     "height": 51
    },
    "colab_type": "code",
    "deletable": false,
    "executionInfo": {
     "elapsed": 464,
     "status": "ok",
     "timestamp": 1585407151544,
     "user": {
      "displayName": "Lingyun Guo",
      "photoUrl": "",
      "userId": "03039946515057053705"
     },
     "user_tz": 240
    },
    "id": "uIdOfrg-FoSy",
    "nbgrader": {
     "cell_type": "code",
     "checksum": "3341a06d595ed0a719123d218bd0dcc8",
     "grade": false,
     "grade_id": "cell-81e75bbc163e3776",
     "locked": false,
     "schema_version": 3,
     "solution": true
    },
    "outputId": "e157b97d-d5a4-453e-8797-e57ee067fa22"
   },
   "outputs": [],
   "source": [
    "bet_dict = nx.betweenness_centrality(G)\n",
    "bet_dict = sorted(bet_dict.keys(), key=lambda x:bet_dict[x],reverse = True)\n",
    "\n",
    "max_5_bc = bet_dict[:5]  # a list of 5 nodes with the largest betweenness centrality values\n",
    "min_5_bc = bet_dict[-5:]  # a list of 5 nodes with the smallest betweenness centrality values\n",
    "\n",
    "# max_5_bc\n",
    "# YOUR CODE HERE\n",
    "# raise NotImplementedError()"
   ]
  },
  {
   "cell_type": "code",
   "execution_count": 12,
   "metadata": {
    "deletable": false,
    "editable": false,
    "nbgrader": {
     "cell_type": "code",
     "checksum": "0f4fd38d03e7bf457e53fea1506a0e81",
     "grade": true,
     "grade_id": "cell-a588b2c4b35581e8",
     "locked": true,
     "points": 5,
     "schema_version": 3,
     "solution": false
    }
   },
   "outputs": [],
   "source": [
    "#hidden tests for Question 4 are within this cell\n"
   ]
  },
  {
   "cell_type": "markdown",
   "metadata": {
    "colab_type": "text",
    "deletable": false,
    "editable": false,
    "id": "RSKX2Dp6oa0J",
    "nbgrader": {
     "cell_type": "markdown",
     "checksum": "aaeb489ea344cf455ffb90282a07d70a",
     "grade": false,
     "grade_id": "cell-9d6a5b9c989b7034",
     "locked": true,
     "schema_version": 3,
     "solution": false
    }
   },
   "source": [
    "### Q5. (5 points, Autograded) What are the 3 nodes with the largest PageRank values in the graph?\n",
    "\n",
    "Use damping coefficient $\\alpha = 0.9$ and create a list of the three nodes with PageRank values in descending order. \n",
    "\n",
    "Check whether each pair of nodes among the top 3 nodes with the highest PageRank are connected by an edge. \n",
    "\n",
    "Hint: See [`Graph.has_edge`](https://networkx.github.io/documentation/networkx-1.9/reference/generated/networkx.Graph.has_edge.html?highlight=has_edge#networkx.Graph.has_edge)"
   ]
  },
  {
   "cell_type": "code",
   "execution_count": 13,
   "metadata": {
    "colab": {
     "base_uri": "https://localhost:8080/",
     "height": 34
    },
    "colab_type": "code",
    "deletable": false,
    "executionInfo": {
     "elapsed": 899,
     "status": "ok",
     "timestamp": 1585408988639,
     "user": {
      "displayName": "Lingyun Guo",
      "photoUrl": "",
      "userId": "03039946515057053705"
     },
     "user_tz": 240
    },
    "id": "prTWcKwHvGae",
    "nbgrader": {
     "cell_type": "code",
     "checksum": "a33dda59aebb2522c41e0dfdcc4299ae",
     "grade": false,
     "grade_id": "cell-56c58bf0ad9926b7",
     "locked": false,
     "schema_version": 3,
     "solution": true
    },
    "outputId": "b03db292-3237-4373-dac8-2bec1ee1ae0e"
   },
   "outputs": [],
   "source": [
    "pagerank_dict = nx.pagerank(G, alpha=0.9)\n",
    "\n",
    "pagerank = sorted(pagerank_dict.keys(), key=lambda x:pagerank_dict[x],reverse = True)\n",
    "\n",
    "result =  pagerank[:3] # list of the 3 nodes with the largest PageRank values in descending order\n",
    "has_edge12 = G.has_edge(result[0],result[1])  # boolean variable indicating whether 1st and 2nd nodes in `result` are connected\n",
    "has_edge13 = G.has_edge(result[0],result[2])  # boolean variable indicating whether 1st and 3rd nodes in `result` are connected\n",
    "has_edge23 = G.has_edge(result[1],result[2])  # boolean variable indicating whether 2nd and 3rd nodes in `result` are connected\n",
    "\n",
    "# result, has_edge12, has_edge13, has_edge23\n",
    "# YOUR CODE HERE\n",
    "# raise NotImplementedError()"
   ]
  },
  {
   "cell_type": "code",
   "execution_count": 14,
   "metadata": {
    "deletable": false,
    "editable": false,
    "nbgrader": {
     "cell_type": "code",
     "checksum": "6a0d5f7dffd626e3d8c930cc4081694f",
     "grade": true,
     "grade_id": "cell-d6e62dc3cc8c6245",
     "locked": true,
     "points": 4,
     "schema_version": 3,
     "solution": false
    }
   },
   "outputs": [],
   "source": [
    "#hidden tests for Question 5 - checking result - are within this cell"
   ]
  },
  {
   "cell_type": "code",
   "execution_count": 15,
   "metadata": {
    "deletable": false,
    "editable": false,
    "nbgrader": {
     "cell_type": "code",
     "checksum": "cacebc81e1a63c62e4683d6a223d3a6c",
     "grade": true,
     "grade_id": "cell-ecf13b2bbb788bc2",
     "locked": true,
     "points": 1,
     "schema_version": 3,
     "solution": false
    }
   },
   "outputs": [],
   "source": [
    "#hidden tests for Question 5 - checking edges - are within this cell"
   ]
  },
  {
   "cell_type": "markdown",
   "metadata": {
    "colab_type": "text",
    "deletable": false,
    "editable": false,
    "id": "RDZBw7qhjvOj",
    "nbgrader": {
     "cell_type": "markdown",
     "checksum": "0b6692f0ab0c4383aa054c68be1853f9",
     "grade": false,
     "grade_id": "cell-62463324488b4523",
     "locked": true,
     "schema_version": 3,
     "solution": false
    }
   },
   "source": [
    "### Q6 (a). (5 points, Autograded) List the 5 nodes with the largest hub scores and the 5 nodes with the largest authority scores. "
   ]
  },
  {
   "cell_type": "code",
   "execution_count": 16,
   "metadata": {
    "colab": {
     "base_uri": "https://localhost:8080/",
     "height": 51
    },
    "colab_type": "code",
    "deletable": false,
    "executionInfo": {
     "elapsed": 885,
     "status": "ok",
     "timestamp": 1585409169025,
     "user": {
      "displayName": "Lingyun Guo",
      "photoUrl": "",
      "userId": "03039946515057053705"
     },
     "user_tz": 240
    },
    "id": "NweGRn66HPa8",
    "nbgrader": {
     "cell_type": "code",
     "checksum": "2b53fb7de25220f604d55d2b298d7ec7",
     "grade": false,
     "grade_id": "cell-a774415b125bbe05",
     "locked": false,
     "schema_version": 3,
     "solution": true
    },
    "outputId": "663c4e85-25cb-43c3-8f81-7c818a83fcef"
   },
   "outputs": [],
   "source": [
    "hub, authority = nx.hits(G)\n",
    "\n",
    "hub = sorted(hub.keys(), key=lambda x:hub[x],reverse = True)\n",
    "\n",
    "authority = sorted(authority.keys(), key=lambda x:authority[x],reverse = True)\n",
    "\n",
    "h5 = hub[:5]  # a list of the 5 nodes with the largest hub scores\n",
    "a5 = authority[:5]  # a list of the 5 nodes with the largest authority scores\n",
    "\n",
    "\n",
    "# h5, a5\n",
    "# YOUR CODE HERE\n",
    "# raise NotImplementedError()"
   ]
  },
  {
   "cell_type": "code",
   "execution_count": 17,
   "metadata": {
    "deletable": false,
    "editable": false,
    "nbgrader": {
     "cell_type": "code",
     "checksum": "4a6a6a632b20dfce65b40028f2437aa2",
     "grade": true,
     "grade_id": "cell-16ef1f78a70d3adf",
     "locked": true,
     "points": 5,
     "schema_version": 3,
     "solution": false
    }
   },
   "outputs": [],
   "source": [
    "#hidden tests for Question 6a are within this cell"
   ]
  },
  {
   "cell_type": "markdown",
   "metadata": {
    "deletable": false,
    "editable": false,
    "nbgrader": {
     "cell_type": "markdown",
     "checksum": "5499e63541d509c0a8197f860f52452f",
     "grade": false,
     "grade_id": "cell-71f84de7fd901d4a",
     "locked": true,
     "schema_version": 3,
     "solution": false
    }
   },
   "source": [
    "### Q6 (b). (2 points, Manually graded) In part 6a, you should have found that nodes with the largest hub score are also the nodes with the largest authority score. In fact, the full ranking of nodes by hub score is the same as the ranking by authority score. This is interesting since we do not typically expect that the best hubs are also the best authorities, according to the HITS algorithm. Explain what features of this particular network make these rankings equal. "
   ]
  },
  {
   "cell_type": "markdown",
   "metadata": {
    "deletable": false,
    "nbgrader": {
     "cell_type": "markdown",
     "checksum": "9f3953e75f00230aa819352be3d11414",
     "grade": true,
     "grade_id": "cell-ab4e856608beb015",
     "locked": false,
     "points": 0,
     "schema_version": 3,
     "solution": true
    }
   },
   "source": [
    "The fact that the network is undirected results in the largest hubs being equal to the largest authorities.   "
   ]
  },
  {
   "cell_type": "markdown",
   "metadata": {
    "deletable": false,
    "editable": false,
    "nbgrader": {
     "cell_type": "markdown",
     "checksum": "469c23d9912afc66a841b4596ef567a6",
     "grade": false,
     "grade_id": "cell-50dca0f9458a4c6c",
     "locked": true,
     "schema_version": 3,
     "solution": false
    }
   },
   "source": [
    "### Q7. (5 points, Manually graded) Reflection: \n",
    "Did you notice any differences between the nodes with the highest scores across the different centrality measures? Is the amount of overlap between the lists of the top nodes expected? "
   ]
  },
  {
   "cell_type": "markdown",
   "metadata": {
    "deletable": false,
    "nbgrader": {
     "cell_type": "markdown",
     "checksum": "1e838d03dfbf230978ff983d34e32801",
     "grade": true,
     "grade_id": "cell-d6fa32620660f430",
     "locked": false,
     "points": 0,
     "schema_version": 3,
     "solution": true
    }
   },
   "source": [
    "Though there are differences between the nodes with the highest scores across different centrality measures, some of the same nodes show up in multiple measures, which is expected.  In the end, all measurements are trying to get at which node(s) is most central to the network and they do this by making different assumptions about what it means to be \"central\".  While those assumptions may differ, we expect the end results to be roughly consistent with one another as we see here with our overlap. "
   ]
  },
  {
   "cell_type": "markdown",
   "metadata": {
    "deletable": false,
    "editable": false,
    "nbgrader": {
     "cell_type": "markdown",
     "checksum": "e69d0518e5e9bde74fadefdddde4366e",
     "grade": false,
     "grade_id": "cell-440871ef9fc7ef9d",
     "locked": true,
     "schema_version": 3,
     "solution": false
    }
   },
   "source": [
    "### Q8. (3 points, Autograded) What are the average clustering coefficient and graph transitivity of the network?\n",
    "\n",
    "Transitivity and clustering coefficient are related to the tendency for a network to have triangles. However, they differ in that while clustering coefficient computes clustering on a node-by-node basis first and then averages over the nodes, transitivity computes the fraction of triplets that form a triangle over the entire network. "
   ]
  },
  {
   "cell_type": "code",
   "execution_count": 18,
   "metadata": {
    "deletable": false,
    "nbgrader": {
     "cell_type": "code",
     "checksum": "b4a6513f3656cf48b656cd023d2c460b",
     "grade": false,
     "grade_id": "cell-0132ce718de2c00a",
     "locked": false,
     "schema_version": 3,
     "solution": true
    }
   },
   "outputs": [],
   "source": [
    "graph_trans = nx.transitivity(G)      # graph transitivity. This should be a float. \n",
    "avg_clustering = nx.average_clustering(G)   # average clustering coefficient value. This should be a float. \n",
    "\n",
    "# YOUR CODE HERE\n",
    "# raise NotImplementedError()"
   ]
  },
  {
   "cell_type": "code",
   "execution_count": 19,
   "metadata": {
    "deletable": false,
    "editable": false,
    "nbgrader": {
     "cell_type": "code",
     "checksum": "c54036e36a32cfb4aa7ebd29c1ad8785",
     "grade": true,
     "grade_id": "cell-4cfeaffe4ba1d9f1",
     "locked": true,
     "points": 3,
     "schema_version": 3,
     "solution": false
    }
   },
   "outputs": [],
   "source": [
    "#hidden tests for Question 8 are within this cell"
   ]
  },
  {
   "cell_type": "markdown",
   "metadata": {
    "deletable": false,
    "editable": false,
    "nbgrader": {
     "cell_type": "markdown",
     "checksum": "ae29139bf8dfd9cf40825be307e30520",
     "grade": false,
     "grade_id": "cell-562b584e8b5d617d",
     "locked": true,
     "schema_version": 3,
     "solution": false
    }
   },
   "source": [
    "\n",
    "---\n",
    "## Part 2. Node centrality and connected components\n",
    "\n",
    "In this part, we are going to remove nodes from a graph and assess the effect that has on the number of connected components in the graph. Generally, removing nodes will tend to **increase** the number of connected components as the graph begins to fragment. However, not all nodes will have the same effect. Removing some highly central nodes is more likely to fragment the graph (and increase the number of connected components) than removing some nodes with low centrality. This is exactly what we want to demonstrate in this part. \n",
    "\n",
    "Starting with the entire graph, compute the number of connected components. Then remove 150 total nodes, one at a time. After each node removal, compute the number of connected components. \n",
    "\n",
    "We will compare 3 strategies for choosing which 150 nodes to remove: \n",
    "\n",
    "1. Remove randomly chosen nodes. \n",
    "2. Remove the node with the highest degree centrality in the current graph. \n",
    "3. Remove the node with the highest betweenness centrality in the current graph.\n",
    "\n",
    "The goal is to test what strategy for node removal will fragment the graph faster. \n",
    "\n",
    "**<font color='red'>Note: </font>** \n",
    "\n",
    "1. We will use the **Facebook** network for this part.\n",
    "2. Use the `random.choice` function for the random selection, and set the random seed to 0.\n",
    "3. Do not use `np.random.choice`.\n"
   ]
  },
  {
   "cell_type": "code",
   "execution_count": 20,
   "metadata": {
    "deletable": false,
    "editable": false,
    "nbgrader": {
     "cell_type": "code",
     "checksum": "7b7ea9a35b13f8232e65d01c53894280",
     "grade": false,
     "grade_id": "cell-ff88ee7b0720cd9d",
     "locked": true,
     "schema_version": 3,
     "solution": false
    }
   },
   "outputs": [],
   "source": [
    "G = get_graph(\"facebook\")"
   ]
  },
  {
   "cell_type": "code",
   "execution_count": 21,
   "metadata": {
    "deletable": false,
    "editable": false,
    "nbgrader": {
     "cell_type": "code",
     "checksum": "d277f84dec9062639137c4bc2e822963",
     "grade": false,
     "grade_id": "cell-5558571b60e897c0",
     "locked": true,
     "schema_version": 3,
     "solution": false
    }
   },
   "outputs": [],
   "source": [
    "import copy\n",
    "import random"
   ]
  },
  {
   "cell_type": "markdown",
   "metadata": {
    "deletable": false,
    "editable": false,
    "nbgrader": {
     "cell_type": "markdown",
     "checksum": "6ed91df694ecc48d3a385d8d8984fe04",
     "grade": false,
     "grade_id": "cell-97bb83b6220dd6dd",
     "locked": true,
     "schema_version": 3,
     "solution": false
    }
   },
   "source": [
    "### 9(a). (10 points, Autograded) Let's begin with the first strategy: removing random nodes from the graph. \n",
    "\n",
    "Using the list `rand_move`, append the number of connected components after removing each of the 150 randomly chosen nodes. \n",
    "\n",
    "`rand_move` will be initialized with the number of connected components before removing any nodes. You will then append the number of connected components after removing each of the 150 nodes. At the end of the process, `rand_move` will contain 151 integers.\n",
    "\n",
    "Please use the function `random.choice` 150 times to select each node (instead of using it just once to select all 150 nodes).\n",
    "\n"
   ]
  },
  {
   "cell_type": "code",
   "execution_count": 22,
   "metadata": {
    "deletable": false,
    "nbgrader": {
     "cell_type": "code",
     "checksum": "9705dfa1a19e13a6149a35e2e5e6a787",
     "grade": false,
     "grade_id": "cell-7e85b417f77a17c2",
     "locked": false,
     "schema_version": 3,
     "solution": true
    }
   },
   "outputs": [
    {
     "data": {
      "text/plain": [
       "151"
      ]
     },
     "execution_count": 22,
     "metadata": {},
     "output_type": "execute_result"
    }
   ],
   "source": [
    "random.seed(0)         # use a fixed random seed for autograder\n",
    "G1 = copy.deepcopy(G)  # operate on a copy of the original graph, because node removal is irreversible\n",
    "rand_move = [nx.number_connected_components(G1)]  # initialize the list of number of connected components \n",
    "#Append the number of connected components to this list after removing each of the 150 randomly chosen nodes.\n",
    "\n",
    "for i in range(150):\n",
    "    G1.remove_node(random.choice(list(G1.nodes)))\n",
    "    rand_move.append(nx.number_connected_components(G1))\n",
    "    \n",
    "len(rand_move)\n",
    "# YOUR CODE HERE\n",
    "# raise NotImplementedError()"
   ]
  },
  {
   "cell_type": "code",
   "execution_count": 23,
   "metadata": {
    "deletable": false,
    "editable": false,
    "nbgrader": {
     "cell_type": "code",
     "checksum": "6750ed0945e8ee9d38dcf5be512e7a12",
     "grade": true,
     "grade_id": "cell-1f05df8c8a42bd1d",
     "locked": true,
     "points": 10,
     "schema_version": 3,
     "solution": false
    }
   },
   "outputs": [],
   "source": [
    "#hidden tests for Question 9a are within this cell"
   ]
  },
  {
   "cell_type": "markdown",
   "metadata": {
    "deletable": false,
    "editable": false,
    "nbgrader": {
     "cell_type": "markdown",
     "checksum": "cd3f7a58f060e2464fb511c924dbc26b",
     "grade": false,
     "grade_id": "cell-b79e63ea62b88253",
     "locked": true,
     "schema_version": 3,
     "solution": false
    }
   },
   "source": [
    "###  9(b). (10 points, Autograded) Now let's change the strategy to choosing the nodes with the highest degree centrality. \n",
    "\n",
    "Using the list `deg_move`, append the number of connected components after removing each of the 150 nodes. At each step, remove the node with the **currently** highest degree centrality. If multiple nodes have the same centrality values, remove the node which has the **largest node number**. Note that you must recompute the degree centrality of the nodes after removing each node since node removal impacts centrality. \n",
    "\n",
    "**Hint**:\n",
    "\n",
    "To sort by multiply keys, you can use the Python `sorted` function with a specified tuple of keys. \n",
    "\n",
    "For example, to sort a sequence of pairs `arr = [(x1, y1), (x2, y2), ...(xn, yn)]` first by `x` then by `y`, the `key` is speficied as the following:\n",
    "\n",
    "```python\n",
    "sorted(arr, key=lambda pair: (pair[0], pair[1]))\n",
    "```"
   ]
  },
  {
   "cell_type": "code",
   "execution_count": 24,
   "metadata": {
    "deletable": false,
    "nbgrader": {
     "cell_type": "code",
     "checksum": "00c61de7daa30cdedb70a2fbb2660a55",
     "grade": false,
     "grade_id": "cell-2ad04bc3d0cf6b55",
     "locked": false,
     "schema_version": 3,
     "solution": true
    }
   },
   "outputs": [],
   "source": [
    "G1 = copy.deepcopy(G)\n",
    "deg_move = [nx.number_connected_components(G1)]  # initialize the list of number of connected components\n",
    "#As in Q9(a), append the number of connected components to this list after removing each node.\n",
    "\n",
    "for i in range(150):\n",
    "    deg_dict = nx.degree_centrality(G1)\n",
    "    temp = sorted(deg_dict.items(), key=lambda x: (x[1], x[0]),reverse = True)\n",
    "    G1.remove_node(temp[0][0])\n",
    "    deg_move.append(nx.number_connected_components(G1))    \n",
    "\n",
    "# YOUR CODE HERE\n",
    "# raise NotImplementedError()"
   ]
  },
  {
   "cell_type": "code",
   "execution_count": 25,
   "metadata": {},
   "outputs": [],
   "source": [
    "# G1 = copy.deepcopy(G)\n",
    "# deg_dict = nx.degree_centrality(G1)\n",
    "# # G1 = sorted(deg_dict, key = lambda pair: (pair[1], pair[0]),reverse = True)\n",
    "# G1 = sorted(deg_dict.items(), key=lambda x: (x[1], x[0]),reverse = True)\n",
    "\n",
    "# G1[0][0]\n"
   ]
  },
  {
   "cell_type": "code",
   "execution_count": 26,
   "metadata": {
    "deletable": false,
    "editable": false,
    "nbgrader": {
     "cell_type": "code",
     "checksum": "5ad1c39f95a6006513308e57114a1a01",
     "grade": true,
     "grade_id": "cell-b04e04db3f49329b",
     "locked": true,
     "points": 10,
     "schema_version": 3,
     "solution": false
    }
   },
   "outputs": [],
   "source": [
    "#hidden tests for Question 9b are within this cell"
   ]
  },
  {
   "cell_type": "markdown",
   "metadata": {
    "deletable": false,
    "editable": false,
    "nbgrader": {
     "cell_type": "markdown",
     "checksum": "bb328b8788a125a16fd98675fae8f4d9",
     "grade": false,
     "grade_id": "cell-c94f8589c4fbcb91",
     "locked": true,
     "schema_version": 3,
     "solution": false
    }
   },
   "source": [
    "###  9(c). (10 points, Autograded) Finally, let's adopt the strategy of choosing the nodes with the highest betweenness centrality. \n",
    "\n",
    "Using the list `bet_move`, append the number of connected components after removing each of the 150 nodes. At each step, remove the node with the **currently** highest betweenness centrality. If multiple nodes have the same centrality values, remove the node which has the **largest node number**. Note that you must recompute the betweenness centrality of the nodes after removing each node since node removal impacts centrality. "
   ]
  },
  {
   "cell_type": "code",
   "execution_count": 27,
   "metadata": {
    "deletable": false,
    "nbgrader": {
     "cell_type": "code",
     "checksum": "9184cd05f3c36a97ad3bcc530b739994",
     "grade": false,
     "grade_id": "cell-16359141ca3ed456",
     "locked": false,
     "schema_version": 3,
     "solution": true
    }
   },
   "outputs": [],
   "source": [
    "G1 = copy.deepcopy(G)\n",
    "bet_move = [nx.number_connected_components(G1)]  # initialize the list of number of connected components\n",
    "#As in Q9(a), append the number of connected components to this list after removing each node.\n",
    "\n",
    "for i in range(150):\n",
    "    bet_dict = nx.betweenness_centrality(G1)\n",
    "    temp = sorted(bet_dict.items(), key=lambda x: (x[1], x[0]),reverse = True)\n",
    "    G1.remove_node(temp[0][0])\n",
    "    bet_move.append(nx.number_connected_components(G1)) \n",
    "\n",
    "# YOUR CODE HERE\n",
    "# raise NotImplementedError()"
   ]
  },
  {
   "cell_type": "code",
   "execution_count": 28,
   "metadata": {
    "deletable": false,
    "editable": false,
    "nbgrader": {
     "cell_type": "code",
     "checksum": "5a57b0ec0c68a7a0ddb62eeaa313468e",
     "grade": true,
     "grade_id": "cell-a2eb5061f57d2cca",
     "locked": true,
     "points": 10,
     "schema_version": 3,
     "solution": false
    }
   },
   "outputs": [],
   "source": [
    "#hidden tests for Question 9c are within this cell"
   ]
  },
  {
   "cell_type": "markdown",
   "metadata": {
    "deletable": false,
    "editable": false,
    "nbgrader": {
     "cell_type": "markdown",
     "checksum": "0dfd046afbb1c4e0fa44ebc3f80ce5f1",
     "grade": false,
     "grade_id": "cell-12fe408a85f86e7c",
     "locked": true,
     "schema_version": 3,
     "solution": false
    }
   },
   "source": [
    "### 9(d). (2 points, Manually graded) Plot the results.\n",
    "\n",
    "Now that you have the lists `rand_move`, `deg_move`, and `bet_move`, make a single plot that shows the number of removed nodes on the x-axis and the number of connected components on the y-axis. The plot should include three curves -- one for each node removal strategy. "
   ]
  },
  {
   "cell_type": "code",
   "execution_count": 29,
   "metadata": {
    "deletable": false,
    "nbgrader": {
     "cell_type": "code",
     "checksum": "91e6bbdb766c228f6fcb750934233a17",
     "grade": true,
     "grade_id": "cell-799c07321434d451",
     "locked": false,
     "points": 0,
     "schema_version": 3,
     "solution": true
    }
   },
   "outputs": [
    {
     "data": {
      "image/png": "[encoded data removed]",
      "text/plain": [
       "<Figure size 432x288 with 1 Axes>"
      ]
     },
     "metadata": {
      "needs_background": "light"
     },
     "output_type": "display_data"
    }
   ],
   "source": [
    "# YOUR CODE HERE\n",
    "# raise NotImplementedError()\n",
    "\n",
    "\n",
    "plt.plot(rand_move,color = 'r')\n",
    "plt.plot(deg_move,color = 'g')\n",
    "plt.plot(bet_move,color = 'b')\n",
    "plt.show()\n"
   ]
  },
  {
   "cell_type": "markdown",
   "metadata": {
    "deletable": false,
    "editable": false,
    "nbgrader": {
     "cell_type": "markdown",
     "checksum": "13eb5a1897fb87b322627a542576d188",
     "grade": false,
     "grade_id": "cell-cb6620de4567705b",
     "locked": true,
     "schema_version": 3,
     "solution": false
    }
   },
   "source": [
    "### Q9(e). (15 points, Manually graded) Which node removal strategy made the number of connected components increase the fastest? The slowest? Explain your results. "
   ]
  },
  {
   "cell_type": "markdown",
   "metadata": {
    "deletable": false,
    "nbgrader": {
     "cell_type": "markdown",
     "checksum": "f996393e12092ef381014935a47a113e",
     "grade": true,
     "grade_id": "cell-6629cabfbc607fc8",
     "locked": false,
     "points": 0,
     "schema_version": 3,
     "solution": true
    }
   },
   "source": [
    "Betweenness centrality made the number of connected components increase the fastest while random choice made the number increase the slowest.  This makes sense:  we would expect random choice to increase the slowest as both degree centrality and betweenness centrality measure \"importance\" in part by node connectedness, i.e., we were intentionally removing connections that were important to the network.  Both centrality measures are searching for nodes that have connections and then we intentionally removed those nodes in our experiment.  Betweenness centrality increased the fastest because that measure assumes that \"important\" nodes connect other nodes whereas degree centrality assumes \"important\" nodes have many connections.  When removing nodes with many connections, the effect on connected components is not as great."
   ]
  },
  {
   "cell_type": "markdown",
   "metadata": {
    "colab_type": "text",
    "deletable": false,
    "editable": false,
    "id": "oYZL8IOfHri1",
    "nbgrader": {
     "cell_type": "markdown",
     "checksum": "f49b3bdbd78bb60e787a19d5011cf1eb",
     "grade": false,
     "grade_id": "cell-63fa8afda38e9b16",
     "locked": true,
     "schema_version": 3,
     "solution": false
    }
   },
   "source": [
    "---\n",
    "\n",
    "## Part 3. Prediction (18 points, Autograded)\n",
    "\n",
    "In this part, you are going to complete a supervised prediction task on the **Facebook** network. The task is to predict whether a node is labeled as an \"influential\" user. You will be given the following two files:\n",
    "\n",
    "1. `facebook_train.csv`, which contains the training set.\n",
    "2. `facebook_test.csv`, which contains the test set. \n",
    "\n",
    "The training set file provides a label for each node, with `True` indicating the node is \"influential\" and `False` otherwise. The test set file also has a column `label`，but the values are left as `None` for you to predict. The autograder will use another version of the test set file with the true labels to score your predictions.\n",
    "\n",
    "Use any node attributes (such as the ones we explored in part 1) as features for this prediction and return the result as a dictionary of `<node, label>`, where `node` is a node that appears in the test set file.\n",
    "\n",
    "\n",
    "---\n",
    "\n",
    "**<font color='red'>Note:</font>**\n",
    "1. Use sklearn [Random Forest](https://scikit-learn.org/stable/modules/generated/sklearn.ensemble.RandomForestClassifier.html)  as your supervised model, any  hyperparameters, and any node attributes as features.\n",
    "2. Store your predictions in the dictionary `predict_labels`. \n",
    "3. The autograder will measure the F1 score (`sklearn.metrics.f1_score`) of your precitios. In order to pass, your prediction results must achieve an F1 score higher than or equal to 0.85.\n"
   ]
  },
  {
   "cell_type": "code",
   "execution_count": 30,
   "metadata": {
    "colab": {},
    "colab_type": "code",
    "deletable": false,
    "editable": false,
    "id": "yfGjQZq_FFDg",
    "nbgrader": {
     "cell_type": "code",
     "checksum": "c0541a20e30fdf15f69184b0a4e1e2b3",
     "grade": false,
     "grade_id": "cell-5f8839ab068a2412",
     "locked": true,
     "schema_version": 3,
     "solution": false
    }
   },
   "outputs": [],
   "source": [
    "from sklearn.ensemble import RandomForestClassifier\n",
    "from sklearn.metrics import accuracy_score, f1_score"
   ]
  },
  {
   "cell_type": "code",
   "execution_count": 31,
   "metadata": {
    "deletable": false,
    "nbgrader": {
     "cell_type": "code",
     "checksum": "9812d25062cab097629032b3736acb2a",
     "grade": false,
     "grade_id": "cell-88b59a40c0c28dec",
     "locked": false,
     "schema_version": 3,
     "solution": true
    }
   },
   "outputs": [],
   "source": [
    "train_df = pd.read_csv(\"assets/facebook_train.csv\")\n",
    "test_df = pd.read_csv(\"assets/facebook_test.csv\")\n",
    "\n",
    "G = get_graph('facebook')\n",
    "deg_dict = nx.degree_centrality(G)\n",
    "\n",
    "d_cent_df = pd.DataFrame(deg_dict.items(), columns = ['node', 'degree'])\n",
    "\n",
    "train_df = train_df.merge(d_cent_df, on = 'node')\n",
    "\n",
    "test_df = test_df.merge(d_cent_df, on = 'node')\n",
    "\n",
    "train_features = train_df['degree'].to_numpy().reshape(-1, 1)\n",
    "train_labels = train_df['label'].to_numpy().reshape(-1, 1)\n",
    "test_features = test_df['degree'].to_numpy().reshape(-1, 1)\n",
    "\n",
    "\n",
    "rf = RandomForestClassifier(n_estimators = 1000, random_state = 0)\n",
    "\n",
    "rf.fit(train_features, train_labels)\n",
    "\n",
    "predictions = rf.predict(test_features)\n",
    "\n",
    "test_df['pred'] = predictions\n",
    "\n",
    "predict_labels = dict(zip(test_df.node, test_df.pred))  # Your prediction result as a dictionary where \n",
    "                        # <key> is a node in the test set and <value> is the predicted label\n",
    "\n",
    "\n",
    "#########\n",
    "# deg_dict\n",
    "# YOUR CODE HERE\n",
    "# raise NotImplementedError()"
   ]
  },
  {
   "cell_type": "code",
   "execution_count": 32,
   "metadata": {
    "deletable": false,
    "editable": false,
    "nbgrader": {
     "cell_type": "code",
     "checksum": "1853626413610a70ff8ea64447220a3d",
     "grade": true,
     "grade_id": "cell-8f1c8f5e4c9c45de",
     "locked": true,
     "points": 18,
     "schema_version": 3,
     "solution": false
    }
   },
   "outputs": [],
   "source": [
    "#hidden tests for Part 3 are within this cell"
   ]
  },
  {
   "cell_type": "markdown",
   "metadata": {
    "deletable": false,
    "editable": false,
    "nbgrader": {
     "cell_type": "markdown",
     "checksum": "440c0f839d424ba1951b82e3ef87dfa7",
     "grade": false,
     "grade_id": "cell-16e13636541014fc",
     "locked": true,
     "schema_version": 3,
     "solution": false
    }
   },
   "source": [
    "# End"
   ]
  },
  {
   "cell_type": "code",
   "execution_count": null,
   "metadata": {},
   "outputs": [],
   "source": []
  }
 ],
 "metadata": {
  "anaconda-cloud": {},
  "colab": {
   "authorship_tag": "ABX9TyPRfufeNJijXkYu9Hrbc7Gm",
   "collapsed_sections": [],
   "name": "assignment1.ipynb",
   "provenance": []
  },
  "coursera": {
   "schema_names": [
    "mads_network_analysis_v2_assignment1"
   ]
  },
  "kernelspec": {
   "display_name": "Python 3 (ipykernel)",
   "language": "python",
   "name": "python3"
  },
  "language_info": {
   "codemirror_mode": {
    "name": "ipython",
    "version": 3
   },
   "file_extension": ".py",
   "mimetype": "text/x-python",
   "name": "python",
   "nbconvert_exporter": "python",
   "pygments_lexer": "ipython3",
   "version": "3.8.10"
  }
 },
 "nbformat": 4,
 "nbformat_minor": 4
}
