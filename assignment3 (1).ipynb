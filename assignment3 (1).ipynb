{
 "cells": [
  {
   "cell_type": "markdown",
   "metadata": {},
   "source": [
    "# Assignment 3\n",
    "### Last updated: June 23, 2022"
   ]
  },
  {
   "cell_type": "markdown",
   "metadata": {},
   "source": [
    "### Name: Kevin Borah\n",
    "\n",
    "### Uniqname: kborah\n",
    "\n",
    "## Instructions\n",
    "\n",
    "Please turn in:\n",
    "1. A Jupyter Notebook file. This file should show all of the required work, including code, results, visualizations (if any), and necessary comments to your code. Irrelevant code and results should be deleted prior to submission. This file is submitted automatically when you submit your notebook to be autograded. This is done in Assignment 3 -- Create. \n",
    "\n",
    "2. An HTML file of the Notebook. Submit this file in Assignment 3 - Submit. \n",
    "\n",
    "3. A PDF file of the Notebook. Submit this file in Assignment 3 - Submit.  \n",
    "\n",
    "### Before submitting, please select Kernel -> Restart & Run All.\n",
    "\n",
    "### Please do not remove any code outside of the Not Implemented Error sections. The autograder may need it. "
   ]
  },
  {
   "cell_type": "code",
   "execution_count": 1,
   "metadata": {
    "deletable": false,
    "editable": false,
    "nbgrader": {
     "cell_type": "code",
     "checksum": "3cc973548729ba485ec709da6275a463",
     "grade": false,
     "grade_id": "cell-2c6d714aeee78e15",
     "locked": true,
     "schema_version": 3,
     "solution": false
    }
   },
   "outputs": [],
   "source": [
    "import networkx as nx\n",
    "import numpy as np\n",
    "import matplotlib.pyplot as plt\n",
    "from networkx.drawing.nx_pydot import graphviz_layout\n",
    "import ndlib.models.ModelConfig as mc\n",
    "import ndlib.models.epidemics as ep\n",
    "import operator\n",
    "import random"
   ]
  },
  {
   "cell_type": "markdown",
   "metadata": {
    "deletable": false,
    "editable": false,
    "nbgrader": {
     "cell_type": "markdown",
     "checksum": "6d0d879e04ae0c9a127317ee880bea90",
     "grade": false,
     "grade_id": "cell-34a675ac21d3702c",
     "locked": true,
     "schema_version": 3,
     "solution": false
    }
   },
   "source": [
    "## German highway system network\n",
    "\n",
    "The data source used in this assignment is adopted and modified from the original Matlab file on the [website](http://www.biological-networks.org/?page_id=25). You can read more about the data source in its [paper](https://www.dynamic-connectome.org/pubs/Kaiser2004b.pdf).\n",
    "\n",
    "> Kaiser M., and Hilgetag C.-C. (2004) Spatial growth of real-world networks. Physical Review E 69:036103."
   ]
  },
  {
   "cell_type": "markdown",
   "metadata": {
    "deletable": false,
    "editable": false,
    "nbgrader": {
     "cell_type": "markdown",
     "checksum": "4cea06f45a110768dd25998f408c51fd",
     "grade": false,
     "grade_id": "cell-116edbe869b9808d",
     "locked": true,
     "schema_version": 3,
     "solution": false
    }
   },
   "source": [
    "### Q1. (1 point, Autograded) Load the graph from the dataset. How many nodes in the graph have a degree of one?"
   ]
  },
  {
   "cell_type": "code",
   "execution_count": 2,
   "metadata": {
    "deletable": false,
    "nbgrader": {
     "cell_type": "code",
     "checksum": "6922ef2084b39f8336dc23086f37d2b0",
     "grade": false,
     "grade_id": "cell-6b20b64ec74373a8",
     "locked": false,
     "schema_version": 3,
     "solution": true
    }
   },
   "outputs": [
    {
     "data": {
      "text/plain": [
       "101"
      ]
     },
     "execution_count": 2,
     "metadata": {},
     "output_type": "execute_result"
    }
   ],
   "source": [
    "G=nx.read_edgelist(\"assets/german.txt\", delimiter=' ')\n",
    "degree_is_one = len([i for (v,i) in G.degree() if i == 1]) # assign it with the number of nodes of degree one. This should be an int. \n",
    "\n",
    "degree_is_one\n",
    "\n",
    "# G.degree()\n",
    "# YOUR CODE HERE\n",
    "# raise NotImplementedError()"
   ]
  },
  {
   "cell_type": "code",
   "execution_count": 3,
   "metadata": {
    "deletable": false,
    "editable": false,
    "nbgrader": {
     "cell_type": "code",
     "checksum": "0457135a04c70034b03c7538b36ffae0",
     "grade": true,
     "grade_id": "cell-137d7d15f673c376",
     "locked": true,
     "points": 1,
     "schema_version": 3,
     "solution": false
    }
   },
   "outputs": [],
   "source": [
    "#hidden tests for Question 1 are within this cell"
   ]
  },
  {
   "cell_type": "markdown",
   "metadata": {
    "deletable": false,
    "editable": false,
    "nbgrader": {
     "cell_type": "markdown",
     "checksum": "c8e341c328e824349c2da6b40fe588f4",
     "grade": false,
     "grade_id": "cell-fed68077433d3ee1",
     "locked": true,
     "schema_version": 3,
     "solution": false
    }
   },
   "source": [
    "## Part 1. Diffusion models\n",
    "\n",
    "In this part, you will practice simulating diffusion process on the graph with several difussion models we have learned."
   ]
  },
  {
   "cell_type": "markdown",
   "metadata": {
    "deletable": false,
    "editable": false,
    "nbgrader": {
     "cell_type": "markdown",
     "checksum": "9765602cc0578cc72a7b4e5a2da6b402",
     "grade": false,
     "grade_id": "cell-9edd033377b0e2e7",
     "locked": true,
     "schema_version": 3,
     "solution": false
    }
   },
   "source": [
    "### Q2. (7 points, Autograded) Threshold model\n",
    "\n",
    "Use the [threshold model](https://ndlib.readthedocs.io/en/latest/reference/models/epidemics/Threshold.html) provided by the NDlib library:\n",
    "\n",
    "```python\n",
    "ndlib.models.epidemics.ThresholdModel.ThresholdModel(graph, seed=None)\n",
    "```\n",
    "\n",
    "Complete the following function with the given signature, so that it simulates a diffusion process with a threshold model and returns a list of infected number in each iteration.\n",
    "\n",
    "The function has two options for determining seed nodes:\n",
    "- Passing a function as input (```importance_measure```), which takes in G and outputs a dictionary with nodes as the keys and scores as the values. Our function should use the top `n` nodes based on these scores as the seed nodes. For example, ```importance_measure``` could output a dictionary with the degree of each node. \n",
    "\n",
    "- If ```importance_measure``` is not passed, then our function should pick a random ```float(n)/len(G.nodes)``` fraction of nodes to be infected.  \n",
    "\n",
    "**Hint**\n",
    "\n",
    "The `ModelConfig` object supports two configuration parameters:\n",
    "\n",
    "- To specify a list of initially infected nodes `infected_nodes` use:\n",
    "    ```python\n",
    "    config.add_model_initial_configuration(\"Infected\", infected_nodes)\n",
    "    ``` \n",
    "- To choose a random fraction of infected nodes use:\n",
    "    ```python\n",
    "    config.add_model_parameter('fraction_infected', fraction)\n",
    "    ```\n"
   ]
  },
  {
   "cell_type": "code",
   "execution_count": 4,
   "metadata": {
    "deletable": false,
    "nbgrader": {
     "cell_type": "code",
     "checksum": "bb917e2de03d77676eb5f710b5d448e2",
     "grade": false,
     "grade_id": "cell-2bb1c38fb1645e97",
     "locked": false,
     "schema_version": 3,
     "solution": true
    }
   },
   "outputs": [],
   "source": [
    "def simulate_threshold(G, importance_measure=None, iterate=50, n=1, threshold=0.25):\n",
    "    if importance_measure:\n",
    "        # select seed nodes\n",
    "        sorted_node = sorted(importance_measure(G).items(), key=operator.itemgetter(1))[::-1]\n",
    "        highest_nodes = [n for n, _ in sorted_node[:n]]\n",
    "\n",
    "    # Model selection\n",
    "    model = ep.ThresholdModel(G, seed = 42)\n",
    "    \n",
    "    cfg = mc.Configuration()\n",
    "    \n",
    "    if importance_measure:\n",
    "        cfg.add_model_initial_configuration('Infected', highest_nodes)\n",
    "    else:\n",
    "        cfg.add_model_parameter('fraction_infected',float(n/len(G.nodes)))\n",
    "        \n",
    "    for i in G.nodes:\n",
    "        cfg.add_node_configuration(\"threshold\", i, threshold)\n",
    "\n",
    "        \n",
    "    model.set_initial_status(cfg)\n",
    "        \n",
    "\n",
    "    \n",
    "    # YOUR CODE HERE\n",
    "#     raise NotImplementedError()\n",
    "\n",
    "    # Simulation execution\n",
    "    iterations = model.iteration_bunch(iterate)\n",
    "    return [it['node_count'][1] for it in iterations]"
   ]
  },
  {
   "cell_type": "code",
   "execution_count": 5,
   "metadata": {
    "deletable": false,
    "editable": false,
    "nbgrader": {
     "cell_type": "code",
     "checksum": "2233b4865c31614e15728b597b8e086a",
     "grade": true,
     "grade_id": "cell-952b9c22cf3d4feb",
     "locked": true,
     "points": 7,
     "schema_version": 3,
     "solution": false
    }
   },
   "outputs": [],
   "source": [
    "#hidden tests for Question 2 are within this cell"
   ]
  },
  {
   "cell_type": "markdown",
   "metadata": {
    "deletable": false,
    "editable": false,
    "nbgrader": {
     "cell_type": "markdown",
     "checksum": "3ed11dea61200c73145d6a4ce8007ccb",
     "grade": false,
     "grade_id": "cell-355f8f1d41c6056f",
     "locked": true,
     "schema_version": 3,
     "solution": false
    }
   },
   "source": [
    "### Q3. (3 points, Autograded) Selection of seed nodes\n",
    "\n",
    "Compare 5 different settings of seed nodes:\n",
    "\n",
    "- randomly select `N` nodes\n",
    "- select `N` nodes with the highest degree\n",
    "- select `N` nodes with the highest closeness centrality\n",
    "- select `N` nodes with the highest betweenness centrality\n",
    "- select `N` nodes with the highest PageRank value\n",
    "\n",
    "\n",
    "\n",
    "Use the function in question 2 to simulate the diffusion for each seed node set, with `iterate=50`, `N=5`, and  `threshold=0.3`.   Create a single plot with 5 curves (one for each set of seed nodes) with iteration number on the x-axis and the number of infected nodes on the y-axis.\n",
    "\n",
    "**Note**: please do not modify the random seed. This is to ensure that your simulation will be consistent with the autograder."
   ]
  },
  {
   "cell_type": "code",
   "execution_count": 6,
   "metadata": {
    "deletable": false,
    "nbgrader": {
     "cell_type": "code",
     "checksum": "2ef041599b5c6be2fdc8714860962258",
     "grade": false,
     "grade_id": "cell-c13734874e159cd3",
     "locked": false,
     "schema_version": 3,
     "solution": true
    }
   },
   "outputs": [
    {
     "data": {
      "image/png": "[encoded data removed]",
      "text/plain": [
       "<Figure size 432x288 with 1 Axes>"
      ]
     },
     "metadata": {
      "needs_background": "light"
     },
     "output_type": "display_data"
    }
   ],
   "source": [
    "I=50\n",
    "N=5\n",
    "T=0.3\n",
    "node_count_random = simulate_threshold(G,iterate = I, n = N, threshold = T)     # number of infected nodes in each iteration, init with randomly selected nodes. This should be a list of integers. \n",
    "node_count_deg = simulate_threshold(G,importance_measure = nx.degree_centrality, iterate = I, n = N, threshold = T)        # number of infected nodes in each iteration, init with nodes of highest degree. This should be a list of integers. \n",
    "node_count_closeness= simulate_threshold(G,importance_measure = nx.closeness_centrality, iterate = I, n = N, threshold = T)    # number of infected nodes in each iteration, init with nodes of highest closeness centrality. This should be a list of integers. \n",
    "node_count_betweenness = simulate_threshold(G,importance_measure = nx.betweenness_centrality, iterate = I, n = N, threshold = T)  # number of infected nodes in each iteration, init with nodes of highest betweenness centrality. This should be a list of integers. \n",
    "node_count_pagerank = simulate_threshold(G,importance_measure = nx.pagerank, iterate = I, n = N, threshold = T)   # number of infected nodes in each iteration, init with nodes of highest pagerank. This should be a list of integers. \n",
    "\n",
    "x = list(range(I)) \n",
    "\n",
    "plt.plot(x, node_count_random,color = 'r',label='rand')\n",
    "plt.plot(x, node_count_deg,color = 'g',label = 'deg')\n",
    "plt.plot(x, node_count_closeness,color = 'b',label = 'close')\n",
    "plt.plot(x, node_count_betweenness,color = 'c',label = 'between')\n",
    "plt.plot(x, node_count_pagerank,color = 'm',label = 'pagerank')\n",
    "plt.legend()\n",
    "plt.show()\n",
    "\n",
    "\n",
    "# YOUR CODE HERE\n",
    "# raise NotImplementedError()"
   ]
  },
  {
   "cell_type": "code",
   "execution_count": 7,
   "metadata": {
    "deletable": false,
    "editable": false,
    "nbgrader": {
     "cell_type": "code",
     "checksum": "d45605a30beec6ae9e201b241ed22d7c",
     "grade": true,
     "grade_id": "cell-fc2dcd992532529d",
     "locked": true,
     "points": 3,
     "schema_version": 3,
     "solution": false
    }
   },
   "outputs": [],
   "source": [
    "#hidden tests for Question 3 are within this cell"
   ]
  },
  {
   "cell_type": "markdown",
   "metadata": {
    "deletable": false,
    "editable": false,
    "nbgrader": {
     "cell_type": "markdown",
     "checksum": "181a9b38d82aa5da4b26a9863e296655",
     "grade": false,
     "grade_id": "cell-2af0dee3617c1803",
     "locked": true,
     "schema_version": 3,
     "solution": false
    }
   },
   "source": [
    "### Q4. (1 point, Autograded) Which seed nodes generation methods converges first?\n",
    "\n",
    "### Informally, we say that a method converges when the number of infected nodes stops changing significantly as the number of iterations increases. \n",
    "\n",
    "Accepted strings:\n",
    "```python\n",
    "\"random\" | \"degree\" | \"closeness\" | \"betweenness\" | \"pagerank\"\n",
    "```\n",
    "Select all that apply to the list in the following cell. For example, if \"closeness\" and \"degree\" are the equally fast and converge first, you should input\n",
    "```python\n",
    "method = [\"closeness\", \"degree\"]\n",
    "```\n"
   ]
  },
  {
   "cell_type": "code",
   "execution_count": 8,
   "metadata": {
    "deletable": false,
    "nbgrader": {
     "cell_type": "code",
     "checksum": "265061359bfb8c9a09336db5afb1d7e3",
     "grade": false,
     "grade_id": "cell-cea2b38062886d2f",
     "locked": false,
     "schema_version": 3,
     "solution": true
    }
   },
   "outputs": [],
   "source": [
    "method = ['random'] # This should be a list of strings. \n",
    "# YOUR CODE HERE\n",
    "# raise NotImplementedError()"
   ]
  },
  {
   "cell_type": "code",
   "execution_count": 9,
   "metadata": {
    "deletable": false,
    "editable": false,
    "nbgrader": {
     "cell_type": "code",
     "checksum": "f236f60939fcc5983e35093ad35c9aed",
     "grade": true,
     "grade_id": "cell-d9364018badfbc48",
     "locked": true,
     "points": 1,
     "schema_version": 3,
     "solution": false
    }
   },
   "outputs": [],
   "source": [
    "#hidden tests for Question 4 are within this cell"
   ]
  },
  {
   "cell_type": "markdown",
   "metadata": {
    "deletable": false,
    "editable": false,
    "nbgrader": {
     "cell_type": "markdown",
     "checksum": "1cefb8a68008342f0a62d1b349d1a2ef",
     "grade": false,
     "grade_id": "cell-39b3684ef6e08c62",
     "locked": true,
     "schema_version": 3,
     "solution": false
    }
   },
   "source": [
    "### Q5. (3 points, Autograded) Randomized threshold model\n",
    "We can add randomness to the threshold model by randomly assigning thresholds to the nodes.\n",
    "\n",
    "Modify the function you wrote in Q2. Instead of setting the same threshold value for each node, use the `random.uniform(lower, upper)` function to randomly generate a threshold between $[lower, upper)$. "
   ]
  },
  {
   "cell_type": "code",
   "execution_count": 10,
   "metadata": {
    "deletable": false,
    "nbgrader": {
     "cell_type": "code",
     "checksum": "afb9951852025a0d4d88bffc47c78bbd",
     "grade": false,
     "grade_id": "cell-0f208cf6770b45e1",
     "locked": false,
     "schema_version": 3,
     "solution": true
    }
   },
   "outputs": [],
   "source": [
    "def simulate_rand_threshold(G, importance_measure=None, iterate=100, n=1, lower=0, upper=1):\n",
    "    if importance_measure:\n",
    "        # select seed nodes\n",
    "        sorted_node = sorted(importance_measure(G).items(), key=operator.itemgetter(1))[::-1]\n",
    "        highest_nodes = [n for n, _ in sorted_node[:n]]\n",
    "\n",
    "    # Model selection\n",
    "    model = ep.ThresholdModel(G, seed = 42)\n",
    "    random.seed(42)\n",
    "    \n",
    "    cfg = mc.Configuration()\n",
    "    \n",
    "    if importance_measure:\n",
    "        cfg.add_model_initial_configuration('Infected', highest_nodes)\n",
    "    else:\n",
    "        cfg.add_model_parameter('fraction_infected',random.uniform(lower,upper))\n",
    "        \n",
    "    for i in G.nodes:\n",
    "        cfg.add_node_configuration(\"threshold\", i, random.uniform(lower,upper))\n",
    "\n",
    "        \n",
    "    model.set_initial_status(cfg)\n",
    "        \n",
    "\n",
    "    \n",
    "\n",
    "    # YOUR CODE HERE\n",
    "#     raise NotImplementedError()\n",
    "\n",
    "    # Simulation execution\n",
    "    iterations = model.iteration_bunch(iterate)\n",
    "    return [it['node_count'][1] for it in iterations]"
   ]
  },
  {
   "cell_type": "code",
   "execution_count": 11,
   "metadata": {
    "deletable": false,
    "editable": false,
    "nbgrader": {
     "cell_type": "code",
     "checksum": "25d9bf80768d79b4398b11ad7c037a84",
     "grade": true,
     "grade_id": "cell-1b371e0139f5fb81",
     "locked": true,
     "points": 3,
     "schema_version": 3,
     "solution": false
    }
   },
   "outputs": [],
   "source": [
    "#hidden tests for Question 5 are within this cell"
   ]
  },
  {
   "cell_type": "markdown",
   "metadata": {
    "deletable": false,
    "editable": false,
    "nbgrader": {
     "cell_type": "markdown",
     "checksum": "62007c61e3c1946a5f8a30384497bdde",
     "grade": false,
     "grade_id": "cell-cbba3a632c4df883",
     "locked": true,
     "schema_version": 3,
     "solution": false
    }
   },
   "source": [
    "### Q6. (4 points, Autograded) Threshold range selection\n",
    "\n",
    "Find a range $[a, b)$ such that the seed nodes selected using a random approach **converges** faster than at least one other method. You should run at least 50 iterations.\n",
    "\n",
    "**Hint**: You can solve through trial and error, but think about what range of values would lead to slower convergence of the random strategy. There is no exact answer, but you can reason about the range of values that could work. What happens if the thresholds are all very large? Very small? Mid-range?"
   ]
  },
  {
   "cell_type": "code",
   "execution_count": 12,
   "metadata": {
    "deletable": false,
    "nbgrader": {
     "cell_type": "code",
     "checksum": "4de840555aa59e9425b7e9e1b5fc2c3a",
     "grade": false,
     "grade_id": "cell-50e5048ea344a94c",
     "locked": false,
     "schema_version": 3,
     "solution": true
    }
   },
   "outputs": [],
   "source": [
    "a = .01  # seleted lower bound. This should be a float in [0,1].\n",
    "b = .1  # seleted upper bound. This should be a float in [0,1].\n",
    "\n",
    "# YOUR CODE HERE\n",
    "# raise NotImplementedError()"
   ]
  },
  {
   "cell_type": "code",
   "execution_count": 13,
   "metadata": {
    "deletable": false,
    "editable": false,
    "nbgrader": {
     "cell_type": "code",
     "checksum": "e76090be8f7876578111b8765fd5fa77",
     "grade": true,
     "grade_id": "cell-f4f45e84afbebd42",
     "locked": true,
     "points": 4,
     "schema_version": 3,
     "solution": false
    }
   },
   "outputs": [],
   "source": [
    "x = simulate_rand_threshold(G, n=N, iterate=I, lower=a, upper=b)\n",
    "r1 = simulate_rand_threshold(G, nx.degree_centrality, n=N, iterate=I, lower=a, upper=b)\n",
    "r2 = simulate_rand_threshold(G, nx.closeness_centrality, n=N, iterate=I, lower=a, upper=b)\n",
    "r3 = simulate_rand_threshold(G, nx.betweenness_centrality, n=N, iterate=I, lower=a, upper=b)\n",
    "r4 = simulate_rand_threshold(G, nx.pagerank, n=N, iterate=I, lower=a, upper=b)\n",
    "\n",
    "#hidden tests for Question 6 are within this cell"
   ]
  },
  {
   "cell_type": "code",
   "execution_count": 14,
   "metadata": {},
   "outputs": [
    {
     "data": {
      "image/png": "[encoded data removed]",
      "text/plain": [
       "<Figure size 432x288 with 1 Axes>"
      ]
     },
     "metadata": {
      "needs_background": "light"
     },
     "output_type": "display_data"
    }
   ],
   "source": [
    "x1 = list(range(I)) \n",
    "\n",
    "plt.plot(x1, x,color = 'r',label='rand')\n",
    "plt.plot(x1, r1,color = 'g',label = 'deg')\n",
    "plt.plot(x1, r2,color = 'b',label = 'close')\n",
    "plt.plot(x1, r3,color = 'c',label = 'between')\n",
    "plt.plot(x1, r4,color = 'm',label = 'pagerank')\n",
    "plt.legend()\n",
    "plt.show()"
   ]
  },
  {
   "cell_type": "markdown",
   "metadata": {
    "deletable": false,
    "editable": false,
    "nbgrader": {
     "cell_type": "markdown",
     "checksum": "691da35fd14f35ab52ca79dffc39e69b",
     "grade": false,
     "grade_id": "cell-d262ac66fee1c8be",
     "locked": true,
     "schema_version": 3,
     "solution": false
    }
   },
   "source": [
    "### Q7. (5 points, Autograded) Independent cascade model\n",
    "\n",
    "The [independent cascade model](https://ndlib.readthedocs.io/en/latest/reference/models/epidemics/IndependentCascades.html) also has a threshold parameter. Note that this threshold is not the same as the threshold of the threshold model. Here it is specified for edges and represents the probability of diffusion along each edge.\n",
    "\n",
    "Complete the following function with the given signature, so that it simulates a diffusion process with an independent cascade model and returns a list of the number infected in each iteration. The seed nodes should be selected in the same way as in Q2. "
   ]
  },
  {
   "cell_type": "code",
   "execution_count": 15,
   "metadata": {
    "deletable": false,
    "nbgrader": {
     "cell_type": "code",
     "checksum": "89d4b96c6a2b1e7f7761afdf9288c4ee",
     "grade": false,
     "grade_id": "cell-2a1277d0d59ba9c5",
     "locked": false,
     "schema_version": 3,
     "solution": true,
     "task": false
    }
   },
   "outputs": [],
   "source": [
    "def simulate_IC(G, importance_measure=None, iterate=100, n=1, threshold=0.3):\n",
    "    if importance_measure:\n",
    "        # select seed nodes\n",
    "        sorted_node = sorted(importance_measure(G).items(), key=operator.itemgetter(1))[::-1]\n",
    "        highest_nodes = [n for n, _ in sorted_node[:n]]\n",
    "\n",
    "    # Model selection\n",
    "    model = ep.IndependentCascadesModel(G, seed = 42)\n",
    "    random.seed(42)\n",
    "    \n",
    "    cfg = mc.Configuration()\n",
    "    \n",
    "    if importance_measure:\n",
    "        cfg.add_model_initial_configuration('Infected', highest_nodes)\n",
    "    else:\n",
    "        cfg.add_model_parameter('fraction_infected',float(n/len(G.nodes)))\n",
    "        \n",
    "    for i in G.edges:\n",
    "        cfg.add_edge_configuration(\"threshold\", i, threshold)\n",
    "\n",
    "        \n",
    "    model.set_initial_status(cfg)\n",
    "        \n",
    "\n",
    "    # YOUR CODE HERE\n",
    "#     raise NotImplementedError()\n",
    "\n",
    "    # Simulation execution\n",
    "    iterations = model.iteration_bunch(iterate)\n",
    "    return [it['node_count'][1] + it['node_count'][2] for it in iterations]  # number of people who already know"
   ]
  },
  {
   "cell_type": "code",
   "execution_count": 16,
   "metadata": {
    "deletable": false,
    "editable": false,
    "nbgrader": {
     "cell_type": "code",
     "checksum": "17b651ff1b372bdb228ce2441de558dc",
     "grade": true,
     "grade_id": "cell-bbea6fb69707ca4c",
     "locked": true,
     "points": 5,
     "schema_version": 3,
     "solution": false,
     "task": false
    }
   },
   "outputs": [],
   "source": [
    "#hidden tests for Question 7 are within this cell"
   ]
  },
  {
   "cell_type": "markdown",
   "metadata": {
    "deletable": false,
    "editable": false,
    "nbgrader": {
     "cell_type": "markdown",
     "checksum": "2234f9576f791fd5719d01dcdcf5ef82",
     "grade": false,
     "grade_id": "cell-fbea5aa3301e30de",
     "locked": true,
     "schema_version": 3,
     "solution": false
    }
   },
   "source": [
    "### Q8. (5 points, Manually graded) Seed node comparison\n",
    "\n",
    "Apply the same comparison on the 5 seed node sets for the independent cascade model with the function you implemented in Q7. Set the parameters as `N=20`, `iterate=40` and `threshold=0.3`.\n",
    "\n",
    "Create a single plot with 5 curves (one for each set of seed nodes) with iteration number on the x-axis and the number of infected nodes on the y-axis.\n"
   ]
  },
  {
   "cell_type": "code",
   "execution_count": 17,
   "metadata": {
    "deletable": false,
    "nbgrader": {
     "cell_type": "code",
     "checksum": "7c569a1f0a040b276f83d80d86455990",
     "grade": true,
     "grade_id": "cell-a50f5258eb7966a6",
     "locked": false,
     "points": 0,
     "schema_version": 3,
     "solution": true
    }
   },
   "outputs": [
    {
     "data": {
      "image/png": "[encoded data removed]",
      "text/plain": [
       "<Figure size 432x288 with 1 Axes>"
      ]
     },
     "metadata": {
      "needs_background": "light"
     },
     "output_type": "display_data"
    }
   ],
   "source": [
    "I=40\n",
    "N=20\n",
    "T=0.3\n",
    "node_count_random = simulate_IC(G,iterate = I, n = N, threshold = T)     # number of infected nodes in each iteration, init with randomly selected nodes. This should be a list of integers. \n",
    "node_count_deg = simulate_IC(G,importance_measure = nx.degree_centrality, iterate = I, n = N, threshold = T)        # number of infected nodes in each iteration, init with nodes of highest degree. This should be a list of integers. \n",
    "node_count_closeness= simulate_IC(G,importance_measure = nx.closeness_centrality, iterate = I, n = N, threshold = T)    # number of infected nodes in each iteration, init with nodes of highest closeness centrality. This should be a list of integers. \n",
    "node_count_betweenness = simulate_IC(G,importance_measure = nx.betweenness_centrality, iterate = I, n = N, threshold = T)   # number of infected nodes in each iteration, init with nodes of highest betweenness centrality. This should be a list of integers. \n",
    "node_count_pagerank = simulate_IC(G,importance_measure = nx.pagerank, iterate = I, n = N, threshold = T)    # number of infected nodes in each iteration, init with nodes of highest pagerank. This should be a list of integers. \n",
    "\n",
    "\n",
    "x = list(range(I)) \n",
    "\n",
    "plt.plot(x, node_count_random,color = 'r',label='rand')\n",
    "plt.plot(x, node_count_deg,color = 'g',label = 'deg')\n",
    "plt.plot(x, node_count_closeness,color = 'b',label = 'close')\n",
    "plt.plot(x, node_count_betweenness,color = 'c',label = 'between')\n",
    "plt.plot(x, node_count_pagerank,color = 'm',label = 'pagerank')\n",
    "plt.legend()\n",
    "plt.show()\n",
    "\n",
    "# YOUR CODE HERE\n",
    "# raise NotImplementedError()\n"
   ]
  },
  {
   "cell_type": "markdown",
   "metadata": {
    "deletable": false,
    "editable": false,
    "nbgrader": {
     "cell_type": "markdown",
     "checksum": "f867fcc9f796e2773c543376de020ee4",
     "grade": false,
     "grade_id": "cell-dc410c4a26af6de1",
     "locked": true,
     "schema_version": 3,
     "solution": false
    }
   },
   "source": [
    "### Q9. (2 points, Autograded) Which method results in the largest cascade size?\n",
    "\n",
    "Accepted strings:\n",
    "```python\n",
    "\"random\" | \"degree\" | \"closeness\" | \"betweenness\" | \"pagerank\"\n",
    "```\n",
    "Select all that apply to the list in the following cell. For example, if \"random\" and \"degree\" both result in the largest cascade, you should input\n",
    "\n",
    "```python\n",
    "method = [\"random\", \"degree\"]\n",
    "```"
   ]
  },
  {
   "cell_type": "code",
   "execution_count": 18,
   "metadata": {
    "deletable": false,
    "nbgrader": {
     "cell_type": "code",
     "checksum": "a56e17ff5d618548cd186689802fee56",
     "grade": false,
     "grade_id": "cell-dd0142f146a1347e",
     "locked": false,
     "schema_version": 3,
     "solution": true
    }
   },
   "outputs": [],
   "source": [
    "method = ['degree'] # This should be a list of strings. \n",
    "\n",
    "# YOUR CODE HERE\n",
    "# raise NotImplementedError()"
   ]
  },
  {
   "cell_type": "code",
   "execution_count": 19,
   "metadata": {
    "deletable": false,
    "editable": false,
    "nbgrader": {
     "cell_type": "code",
     "checksum": "e96e307b3bc4114d32164c8b6d72553b",
     "grade": true,
     "grade_id": "cell-a0dc1395346fa78d",
     "locked": true,
     "points": 2,
     "schema_version": 3,
     "solution": false
    }
   },
   "outputs": [],
   "source": [
    "#hidden tests for Question 9 are within this cell"
   ]
  },
  {
   "cell_type": "markdown",
   "metadata": {
    "deletable": false,
    "editable": false,
    "nbgrader": {
     "cell_type": "markdown",
     "checksum": "4a11eb592f6128cc85130717a775d29d",
     "grade": false,
     "grade_id": "cell-22ce2dc385e01b88",
     "locked": true,
     "schema_version": 3,
     "solution": false
    }
   },
   "source": [
    "### Q10. (5 points, Autograded) SI model\n",
    "\n",
    "The [SI model](https://ndlib.readthedocs.io/en/latest/reference/models/epidemics/SIm.html) considers two states: \"susceptible\" and \"infected\". The statuses are interpreted as: \n",
    "\n",
    "|Name\t|Code\n",
    "|---    |--- \n",
    "|Susceptible|0\n",
    "|Infected\t|1\n",
    "\n",
    "The infection probability is given by the parameter `beta`, which should be between 0 and 1. \n",
    "\n",
    "\n",
    "Complete the following function with the given signature, so that it simulates a diffusion process with an SI model and returns a list of currently infected number in each iteration.\n"
   ]
  },
  {
   "cell_type": "code",
   "execution_count": 20,
   "metadata": {
    "deletable": false,
    "nbgrader": {
     "cell_type": "code",
     "checksum": "bc7bd6c49b3db3517ba4f3b8f41646bb",
     "grade": false,
     "grade_id": "cell-4594cfaa04d23b14",
     "locked": false,
     "schema_version": 3,
     "solution": true,
     "task": false
    }
   },
   "outputs": [],
   "source": [
    "def simulate_SI(G, importance_measure=None, iterate=100, n=1, beta=0.1):\n",
    "    if importance_measure:\n",
    "        # select seed nodes\n",
    "        sorted_node = sorted(importance_measure(G).items(), key=operator.itemgetter(1))[::-1]\n",
    "        highest_nodes = [n for n, _ in sorted_node[:n]]\n",
    "\n",
    "    # Model selection\n",
    "    model = ep.SIModel(G, seed = 42)\n",
    "    \n",
    "    cfg = mc.Configuration()\n",
    "    cfg.add_model_parameter('beta',beta)\n",
    "    \n",
    "    if importance_measure:\n",
    "        cfg.add_model_initial_configuration('Infected', highest_nodes)\n",
    "    else:\n",
    "        cfg.add_model_parameter('fraction_infected',float(n/len(G.nodes)))\n",
    "\n",
    "        \n",
    "    model.set_initial_status(cfg)\n",
    "        \n",
    "\n",
    "\n",
    "    # YOUR CODE HERE\n",
    "#     raise NotImplementedError()\n",
    "\n",
    "    # Simulation execution\n",
    "    iterations = model.iteration_bunch(iterate)\n",
    "    return [it['node_count'][1] for it in iterations]"
   ]
  },
  {
   "cell_type": "code",
   "execution_count": 21,
   "metadata": {
    "deletable": false,
    "editable": false,
    "nbgrader": {
     "cell_type": "code",
     "checksum": "d4d1ccc2d15af92d0abede0f50b6ab46",
     "grade": true,
     "grade_id": "cell-64a846863007b467",
     "locked": true,
     "points": 5,
     "schema_version": 3,
     "solution": false,
     "task": false
    }
   },
   "outputs": [],
   "source": [
    "#hidden tests for Question 7 are within this cell"
   ]
  },
  {
   "cell_type": "markdown",
   "metadata": {
    "deletable": false,
    "editable": false,
    "nbgrader": {
     "cell_type": "markdown",
     "checksum": "c2a54eafa6472b41b168b94f792ecb9d",
     "grade": false,
     "grade_id": "cell-9491a872be5d2cd1",
     "locked": true,
     "schema_version": 3,
     "solution": false
    }
   },
   "source": [
    "### Q11. (3 points, Manually graded) Seed node comparison\n",
    "Apply the same comparison on the 5 seed node sets for the SI model with the function you implemented in question 10. Set the parameters `N=5`, `iterate=300`, `beta=0.1`.\n",
    "\n",
    "\n",
    "Create a single plot with 5 curves (one for each set of seed nodes) with iteration number on the x-axis and the number of currently infected nodes on the y-axis."
   ]
  },
  {
   "cell_type": "code",
   "execution_count": 22,
   "metadata": {
    "deletable": false,
    "nbgrader": {
     "cell_type": "code",
     "checksum": "449a035f8a50ca31e6319c4d2affc2ec",
     "grade": true,
     "grade_id": "cell-571db480b8eea80c",
     "locked": false,
     "points": 0,
     "schema_version": 3,
     "solution": true
    }
   },
   "outputs": [
    {
     "data": {
      "image/png": "[encoded data removed]",
      "text/plain": [
       "<Figure size 432x288 with 1 Axes>"
      ]
     },
     "metadata": {
      "needs_background": "light"
     },
     "output_type": "display_data"
    }
   ],
   "source": [
    "#random.seed(42)\n",
    "N=5\n",
    "I=300\n",
    "b = 0.1\n",
    "node_count_random = simulate_SI(G, importance_measure = None, iterate = I, n = N, beta = b)     # number of infected nodes in each iteration, init with randomly selected nodes. This should be a list of integers. \n",
    "node_count_deg = simulate_SI(G, importance_measure = nx.degree_centrality, iterate = I, n = N, beta = b)        # number of infected nodes in each iteration, init with nodes of highest degree. This should be a list of integers. \n",
    "node_count_closeness= simulate_SI(G, importance_measure = nx.closeness_centrality, iterate = I, n = N, beta = b)   # number of infected nodes in each iteration, init with nodes of highest closeness centrality. This should be a list of integers. \n",
    "node_count_betweenness = simulate_SI(G, importance_measure = nx.betweenness_centrality, iterate = I, n = N, beta = b)  # number of infected nodes in each iteration, init with nodes of highest betweenness centrality. This should be a list of integers. \n",
    "node_count_pagerank = simulate_SI(G, importance_measure = nx.pagerank, iterate = I, n = N, beta = b)   # number of infected nodes in each iteration, init with nodes of highest pagerank. This should be a list of integers. \n",
    "\n",
    "\n",
    "x = list(range(I)) \n",
    "\n",
    "plt.plot(x, node_count_random,color = 'r',label='rand')\n",
    "plt.plot(x, node_count_deg,color = 'g',label = 'deg')\n",
    "plt.plot(x, node_count_closeness,color = 'b',label = 'close')\n",
    "plt.plot(x, node_count_betweenness,color = 'c',label = 'between')\n",
    "plt.plot(x, node_count_pagerank,color = 'm',label = 'pagerank')\n",
    "plt.legend()\n",
    "plt.show()\n",
    "\n",
    "\n",
    "# YOUR CODE HERE\n",
    "# raise NotImplementedError()"
   ]
  },
  {
   "cell_type": "markdown",
   "metadata": {
    "deletable": false,
    "editable": false,
    "nbgrader": {
     "cell_type": "markdown",
     "checksum": "0e3a019494e8b17f0632277deaa2c612",
     "grade": false,
     "grade_id": "cell-62d5e202c0047bdd",
     "locked": true,
     "schema_version": 3,
     "solution": false
    }
   },
   "source": [
    "### Q12. (5 points, Autograded) SIR model\n",
    "\n",
    "The [SIR model](https://ndlib.readthedocs.io/en/latest/reference/models/epidemics/SIR.html) has one more state than the SI model:\n",
    "\n",
    "|Name\t|Code\n",
    "|---|---\n",
    "|Susceptible\t|0\n",
    "|Infected\t|1\n",
    "|Removed\t|2\n",
    "\n",
    "And in addition to `beta`, it has an additional `gamma` parameter which indicates removal probability. Complete the following function with the given signature, so that it simulates a diffusion process with a SIR model and returns a list of the number of currently infected nodes and the cumulative number of infected nodes at each iteration. \n",
    "\n",
    "#### Notice\n",
    "For the SIR model, since it has an additional recovery stage, the numer of infected nodes can decrease. Therefore, the function `simulate_SIR` will return two lists: one is the same as before --- the number of currently infected nodes. The other one (`total_infected_nodes`) is the total number of nodes that have been infected at least once across all iterations, whether or not they have recovered. "
   ]
  },
  {
   "cell_type": "code",
   "execution_count": 23,
   "metadata": {
    "deletable": false,
    "nbgrader": {
     "cell_type": "code",
     "checksum": "3061792adb2e8ab84c6f666b1b06080c",
     "grade": false,
     "grade_id": "cell-53233e9260876d89",
     "locked": false,
     "schema_version": 3,
     "solution": true,
     "task": false
    }
   },
   "outputs": [],
   "source": [
    "def simulate_SIR(G, importance_measure=None, iterate=100, n=1, beta=0.1, gamma=0.05):\n",
    "    if importance_measure:\n",
    "        # select seed nodes\n",
    "        sorted_node = sorted(importance_measure(G).items(), key=operator.itemgetter(1))[::-1]\n",
    "        highest_nodes = [n for n, _ in sorted_node[:n]]\n",
    "\n",
    "    # Model selection\n",
    "    model = ep.SIRModel(G, seed = 42)\n",
    "    \n",
    "    cfg = mc.Configuration()\n",
    "    cfg.add_model_parameter('beta',beta)\n",
    "    cfg.add_model_parameter('gamma', gamma)\n",
    "    \n",
    "    if importance_measure:\n",
    "        cfg.add_model_initial_configuration('Infected', highest_nodes)\n",
    "    else:\n",
    "        cfg.add_model_parameter('fraction_infected',float(n/len(G.nodes)))\n",
    "\n",
    "        \n",
    "    model.set_initial_status(cfg)\n",
    "        \n",
    "    # write your code for model configuration here\n",
    "    # Model Configuration\n",
    "    # YOUR CODE HERE\n",
    "#     raise NotImplementedError()\n",
    "\n",
    "    # Simulation execution\n",
    "    iterations = model.iteration_bunch(iterate)\n",
    "    \n",
    "    total_infected_nodes = [0] * iterate\n",
    "    for count, item in enumerate(list(range((iterate)))):\n",
    "        if count == 0:\n",
    "            total_infected_nodes[count] = iterations[count]['node_count'][1]\n",
    "        else:\n",
    "            if iterations[item]['status_delta'][0] > 0:\n",
    "                add = 0\n",
    "            else:\n",
    "                add = abs(iterations[item]['status_delta'][0])\n",
    "            \n",
    "            total_infected_nodes[count] = total_infected_nodes[item-1] + add\n",
    "    # write your code for computing total number of infected nodes here\n",
    "    # YOUR CODE HERE\n",
    "#     raise NotImplementedError()\n",
    "    return [it['node_count'][1] for it in iterations], total_infected_nodes"
   ]
  },
  {
   "cell_type": "code",
   "execution_count": 24,
   "metadata": {
    "deletable": false,
    "editable": false,
    "nbgrader": {
     "cell_type": "code",
     "checksum": "77e82fc70b9a141d4808258a9d5215bd",
     "grade": true,
     "grade_id": "cell-375f936c118ad376",
     "locked": true,
     "points": 5,
     "schema_version": 3,
     "solution": false,
     "task": false
    }
   },
   "outputs": [],
   "source": [
    "#hidden tests for Question 12 are within this cell"
   ]
  },
  {
   "cell_type": "markdown",
   "metadata": {
    "deletable": false,
    "editable": false,
    "nbgrader": {
     "cell_type": "markdown",
     "checksum": "cbdc49a594f713267aba7f33d3d7bd62",
     "grade": false,
     "grade_id": "cell-bfda0e922d0f4958",
     "locked": true,
     "schema_version": 3,
     "solution": false
    }
   },
   "source": [
    "### Q13. (6 points, Manually graded) Seed node comparison\n",
    "\n",
    "Apply the same comparison on the 5 seed node sets for the SIR model with the function you implemented in question 12. Set the parameters `N=25`, `iterate=300`, `beta=0.1`, `gamma=0.05`.\n",
    "\n",
    "(a) Create a single plot with 5 curves (one for each set of seed nodes) with iteration number on the x-axis and the number of currently infected nodes on the y-axis.\n",
    "\n",
    "(b) Create a single plot with 5 curves (one for each set of seed nodes) with iteration number on the x-axis and the total number of nodes that have ever been infected up to the current iteration on the y-axis."
   ]
  },
  {
   "cell_type": "code",
   "execution_count": 25,
   "metadata": {
    "deletable": false,
    "nbgrader": {
     "cell_type": "code",
     "checksum": "108caf2069231991419e25b97d8ce694",
     "grade": true,
     "grade_id": "cell-4e615051d883fdfb",
     "locked": false,
     "points": 0,
     "schema_version": 3,
     "solution": true
    }
   },
   "outputs": [
    {
     "data": {
      "image/png": "[encoded data removed]",
      "text/plain": [
       "<Figure size 720x216 with 2 Axes>"
      ]
     },
     "metadata": {
      "needs_background": "light"
     },
     "output_type": "display_data"
    }
   ],
   "source": [
    "N=25\n",
    "I=300\n",
    "b = 0.1\n",
    "g = 0.05\n",
    "\n",
    "node_count_random = simulate_SIR(G,importance_measure = None, iterate = I, n = N, beta = b, gamma = g)[0]     # number of currently infected nodes at each iteration, init with randomly selected nodes. This should be a list of integers. \n",
    "node_count_deg = simulate_SIR(G,importance_measure = nx.degree_centrality, iterate = I, n = N, beta = b, gamma = g) [0]       # number of currently infected nodes at each iteration, init with nodes of highest degree. This should be a list of integers.  \n",
    "node_count_closeness= simulate_SIR(G,importance_measure = nx.closeness_centrality, iterate = I, n = N, beta = b, gamma = g)[0]   # number of currently infected nodes at each iteration, init with nodes of highest closeness centrality. This should be a list of integers. \n",
    "node_count_betweenness = simulate_SIR(G,importance_measure = nx.betweenness_centrality, iterate = I, n = N, beta = b, gamma = g)[0]  # number of currently infected nodes at each iteration, init with nodes of highest betweenness centrality. This should be a list of integers. \n",
    "node_count_pagerank = simulate_SIR(G,importance_measure = nx.pagerank, iterate = I, n = N, beta = b, gamma = g)[0]   # number of currently infected nodes at each iteration, init with nodes of highest pagerank. This should be a list of integers. \n",
    "\n",
    "total_random = simulate_SIR(G,importance_measure = None, iterate = I, n = N, beta = b, gamma = g)[1]   # number of nodes that have been infected up to each iterartion, init with randomly selected nodes. This should be a list of integers. \n",
    "total_deg = simulate_SIR(G,importance_measure = nx.degree_centrality, iterate = I, n = N, beta = b, gamma = g) [1] # number of nodes that have been infected up to each iterartion, init with nodes of highest degree. This should be a list of integers.  \n",
    "total_closeness = simulate_SIR(G,importance_measure = nx.closeness_centrality, iterate = I, n = N, beta = b, gamma = g)[1] # number of nodes that have been infected up to each iterartion, init with nodes of highest closeness centrality. This should be a list of integers. \n",
    "total_betweenness = simulate_SIR(G,importance_measure = nx.betweenness_centrality, iterate = I, n = N, beta = b, gamma = g)[1] # number of nodes that have been infected up to each iterartion, init with nodes of highest betweenness centrality. This should be a list of integers. \n",
    "total_pagerank = simulate_SIR(G,importance_measure = nx.pagerank, iterate = I, n = N, beta = b, gamma = g)[1]  # number of nodes that have been infected up to each iterartion, init with nodes of highest pagerank. This should be a list of integers. \n",
    "\n",
    "x = list(range(I)) \n",
    "fig = plt.subplots(1, 2, figsize=[10,3])\n",
    "\n",
    "plt.subplot(121)\n",
    "plt.plot(x, node_count_random,color = 'r',label='rand')\n",
    "plt.plot(x, node_count_deg,color = 'g',label = 'deg')\n",
    "plt.plot(x, node_count_closeness,color = 'b',label = 'close')\n",
    "plt.plot(x, node_count_betweenness,color = 'c',label = 'between')\n",
    "plt.plot(x, node_count_pagerank,color = 'm',label = 'pagerank')\n",
    "plt.legend()\n",
    "# axes[0].set_title('Currently infected nodes')\n",
    "\n",
    "plt.subplot(122)\n",
    "plt.plot(x, total_random,color = 'r',label='rand')\n",
    "plt.plot(x, total_deg,color = 'g',label = 'deg')\n",
    "plt.plot(x, total_closeness,color = 'b',label = 'close')\n",
    "plt.plot(x, total_betweenness,color = 'c',label = 'between')\n",
    "plt.plot(x, total_pagerank,color = 'm',label = 'pagerank')\n",
    "plt.legend()\n",
    "# axes[1].set_title('Total infected nodes')\n",
    "\n",
    "plt.show()\n",
    "\n",
    "\n",
    "\n",
    "# YOUR CODE HERE\n",
    "# raise NotImplementedError()\n"
   ]
  },
  {
   "cell_type": "code",
   "execution_count": null,
   "metadata": {},
   "outputs": [],
   "source": []
  },
  {
   "cell_type": "markdown",
   "metadata": {
    "deletable": false,
    "editable": false,
    "nbgrader": {
     "cell_type": "markdown",
     "checksum": "bccae3c402f5ec7e43f40d07d850c590",
     "grade": false,
     "grade_id": "cell-9e940c69098f3676",
     "locked": true,
     "schema_version": 3,
     "solution": false
    }
   },
   "source": [
    "### Q14. (5 points, Autograded) SIS model\n",
    "\n",
    "The [SIS model](https://ndlib.readthedocs.io/en/latest/reference/models/epidemics/SIS.html) has two states: susceptible and infected:\n",
    "\n",
    "|Name\t|Code\n",
    "|---|---\n",
    "|Susceptible\t|0\n",
    "|Infected\t|1\n",
    "\n",
    "And in addition to `beta`, it has an additional `lambda` parameter which indicates the probability of an infected node transferring back to the susceptible state. Complete the following function with the given signature, so that it simulates a diffusion process with an SIS model and returns a list of infected number in each iteration.\n",
    "\n",
    "#### Notice\n",
    "`lambda` is a reserved keyword in Python, so we use `_lambda` instead in the function argument."
   ]
  },
  {
   "cell_type": "code",
   "execution_count": 26,
   "metadata": {
    "deletable": false,
    "nbgrader": {
     "cell_type": "code",
     "checksum": "739a2330048a0b6f77cf5908c3c73ed1",
     "grade": false,
     "grade_id": "cell-0f86f422edb43776",
     "locked": false,
     "schema_version": 3,
     "solution": true,
     "task": false
    }
   },
   "outputs": [],
   "source": [
    "def simulate_SIS(G, importance_measure=None, iterate=100, n=1, beta=0.1, _lambda=0.05):\n",
    "    if importance_measure:\n",
    "        # select seed nodes\n",
    "        sorted_node = sorted(importance_measure(G).items(), key=operator.itemgetter(1))[::-1]\n",
    "        highest_nodes = [n for n, _ in sorted_node[:n]]\n",
    "\n",
    "    # Model selection\n",
    "    model = ep.SISModel(G, seed = 42)\n",
    "    \n",
    "    cfg = mc.Configuration()\n",
    "    cfg.add_model_parameter('beta',beta)\n",
    "    cfg.add_model_parameter('lambda', _lambda)\n",
    "    \n",
    "    if importance_measure:\n",
    "        cfg.add_model_initial_configuration('Infected', highest_nodes)\n",
    "    else:\n",
    "        cfg.add_model_parameter('fraction_infected',float(n/len(G.nodes)))\n",
    "\n",
    "        \n",
    "    model.set_initial_status(cfg)\n",
    "        \n",
    "\n",
    "    # YOUR CODE HERE\n",
    "#     raise NotImplementedError()\n",
    "\n",
    "    # Simulation execution\n",
    "    iterations = model.iteration_bunch(iterate)\n",
    "    return [it['node_count'][1] for it in iterations]"
   ]
  },
  {
   "cell_type": "code",
   "execution_count": 27,
   "metadata": {
    "deletable": false,
    "editable": false,
    "nbgrader": {
     "cell_type": "code",
     "checksum": "0620e27795459fe15e797255114291c3",
     "grade": true,
     "grade_id": "cell-3b3a0144bb271413",
     "locked": true,
     "points": 5,
     "schema_version": 3,
     "solution": false,
     "task": false
    }
   },
   "outputs": [],
   "source": [
    "#hidden tests for Question 14 are within this cell"
   ]
  },
  {
   "cell_type": "markdown",
   "metadata": {
    "deletable": false,
    "editable": false,
    "nbgrader": {
     "cell_type": "markdown",
     "checksum": "c79fa3f8bf1f83a9cbbea72a77d18983",
     "grade": false,
     "grade_id": "cell-ff9083ab8fbfc2c7",
     "locked": true,
     "schema_version": 3,
     "solution": false
    }
   },
   "source": [
    "### Q15. (3 points, Manually graded) Seed node comparison\n",
    "\n",
    "Apply the same comparison on the 5 seed node sets for the SIS model with the function you implemented in question 14. \n",
    "\n",
    "Set parameters `N=5`, `iterate=700`, `beta=0.1`, `lambda=0.05`.\n",
    "\n",
    "Create a single plot with 5 curves (one for each set of seed nodes) with iteration number on the x-axis and the number of currently infected nodes on the y-axis."
   ]
  },
  {
   "cell_type": "code",
   "execution_count": 28,
   "metadata": {
    "deletable": false,
    "nbgrader": {
     "cell_type": "code",
     "checksum": "03faa3c8498e395d71be99aff93fdd33",
     "grade": true,
     "grade_id": "cell-718ca1be21365ee0",
     "locked": false,
     "points": 0,
     "schema_version": 3,
     "solution": true
    }
   },
   "outputs": [
    {
     "data": {
      "text/plain": [
       "<matplotlib.legend.Legend at 0x7f73b47a0df0>"
      ]
     },
     "execution_count": 28,
     "metadata": {},
     "output_type": "execute_result"
    },
    {
     "data": {
      "image/png": "[encoded data removed]",
      "text/plain": [
       "<Figure size 432x288 with 1 Axes>"
      ]
     },
     "metadata": {
      "needs_background": "light"
     },
     "output_type": "display_data"
    }
   ],
   "source": [
    "N=5\n",
    "I=700\n",
    "b = 0.1\n",
    "l = 0.05\n",
    "\n",
    "node_count_random = simulate_SIS(G, importance_measure = None, iterate = I, n = N, beta = b, _lambda = l)     # number of infected nodes in each iteration, init with randomly selected nodes. This should be a list of integers. \n",
    "node_count_deg = simulate_SIS(G, importance_measure = nx.degree_centrality, iterate = I, n = N, beta = b, _lambda = l)        # number of infected nodes in each iteration, init with nodes of highest degree. This should be a list of integers. \n",
    "node_count_closeness= simulate_SIS(G, importance_measure = nx.closeness_centrality, iterate = I, n = N, beta = b, _lambda = l)    # number of infected nodes in each iteration, init with nodes of highest closeness centrality. This should be a list of integers. \n",
    "node_count_betweenness = simulate_SIS(G, importance_measure = nx.betweenness_centrality, iterate = I, n = N, beta = b, _lambda = l)   # number of infected nodes in each iteration, init with nodes of highest betweenness centrality. This should be a list of integers. \n",
    "node_count_pagerank = simulate_SIS(G, importance_measure = nx.pagerank, iterate = I, n = N, beta = b, _lambda = l)    # number of infected nodes in each iteration, init with nodes of highest pagerank. This should be a list of integers. \n",
    "\n",
    "x = list(range(I)) \n",
    "\n",
    "plt.plot(x, node_count_random,color = 'r',label='rand')\n",
    "plt.plot(x, node_count_deg,color = 'g',label = 'deg')\n",
    "plt.plot(x, node_count_closeness,color = 'b',label = 'close')\n",
    "plt.plot(x, node_count_betweenness,color = 'c',label = 'between')\n",
    "plt.plot(x, node_count_pagerank,color = 'm',label = 'pagerank')\n",
    "plt.legend()\n",
    "\n",
    "# YOUR CODE HERE\n",
    "# raise NotImplementedError()"
   ]
  },
  {
   "cell_type": "markdown",
   "metadata": {
    "deletable": false,
    "editable": false,
    "nbgrader": {
     "cell_type": "markdown",
     "checksum": "c144b0bcd6eaeb53757f1980e92e86b5",
     "grade": false,
     "grade_id": "cell-7be863c8ea1ba969",
     "locked": true,
     "schema_version": 3,
     "solution": false
    }
   },
   "source": [
    "### Q16. (5 points, Manually graded) SI, SIR, SIS\n",
    "\n",
    "Compare the plots of the number of currently infected nodes of the SI, SIR, and SIS models and answer the following questions with a written response. \n",
    "\n",
    "\n",
    "1. Which model is the first to converge? Why do you think this model converges first?\n",
    "2. Which model is the last to converge? Why do you think this model converges last?\n",
    "3. Which model has the largest final number of infected nodes? Why?\n",
    "4. Which model has the smallest final number of infected nodes? Why?\n",
    "5. Why does the SIS model fail to completely stabilize in terms of the number of infected nodes?"
   ]
  },
  {
   "cell_type": "markdown",
   "metadata": {
    "deletable": false,
    "nbgrader": {
     "cell_type": "markdown",
     "checksum": "8920577204053f48549b1d8861cfed80",
     "grade": true,
     "grade_id": "cell-193eb93759f0077c",
     "locked": false,
     "points": 0,
     "schema_version": 3,
     "solution": true
    }
   },
   "source": [
    "1. The first model to converge is the SIR model.  This can be explained because as nodes are removed from the network, some nodes are left with no chance to become infected ever (their neighbors have all been removed).  In the SI model, all nodes eventually become infected, which inevitably takes longer to converge than if not all nodes are being infected in networks of the same size. \n",
    "2. The last model to converge was the SIS model.  In this model, nodes can become re-susceptiple and re-infected, delaying, and preventing in our case, any model convergence.\n",
    "3. The SI model has the largest number of infected nodes because with enough iterations, every node in the graph will become infected.  SIR model removes nodes and (as explained in answer 1) has the opportunity to leave some nodes not infected, and the SIS model has nodes return to susceptibility after being infected.\n",
    "4. The SIR model has the smallest final number of infected nodes because of the phenomenon where a node's neighbors have all been removed from the network.  The more this happens, the less nodes that can become infected.\n",
    "5. The SIS model fails to completely stabilize for the same reason it never fully converges here, because nodes can become re-susceptible and re-infected. "
   ]
  },
  {
   "cell_type": "markdown",
   "metadata": {
    "deletable": false,
    "editable": false,
    "nbgrader": {
     "cell_type": "markdown",
     "checksum": "8d35bfd92f083e8fe4d68875d286569b",
     "grade": false,
     "grade_id": "cell-2e2ac4c4c5194bb7",
     "locked": true,
     "schema_version": 3,
     "solution": false
    }
   },
   "source": [
    "---\n",
    "## Part 2. Alternate threshold model\n",
    "\n",
    "In this part, you are going to make some modifications to the threshold model to create a new model and compare it with the original version.\n",
    "\n",
    "### Q17.  (10 points, Manually graded) The Volatile Threshold model class\n",
    "\n",
    "In the below cell, an incomplete class `VolatileThreshold` is provided. The diffusion rule for the volatile threshold model is the following:\n",
    "\n",
    "> In each iteration, only a random subset of `n` neighbors for each node `v` is evaluated. If the ratio of infection is ***at or above*** the threshold of `v` *within the subset*, then node `v` will become infected. A parameter `sample` determines the number of neighbors to sample. \n",
    "\n",
    "Based on this specification of the model, complete the `iteration` method. Please do not make any changes to the rest of the class. \n",
    "\n",
    "--- \n",
    "#### Notes\n",
    "\n",
    "1. If the sample size is ***larger*** than the number of neighbors a node has, just take all its neighbors as a sample.\n",
    "2. You can use the function `random.sample(original_data, sample_size)` to get a sample of size `sample_size` from collection `original_data`.\n",
    "3. `class` object: in this part, we introduce a class object to construct our `VolatileThreshold` model. In Python, each class maintains its member attributes and methods with the `self` keyword. For example, `self.G`, `self.config` are simply `G` and `config` and belong to a specific instance of this class. You can see more in this [tutorial](https://www.w3schools.com/python/python_classes.asp)."
   ]
  },
  {
   "cell_type": "code",
   "execution_count": 29,
   "metadata": {
    "deletable": false,
    "nbgrader": {
     "cell_type": "code",
     "checksum": "bacd42f41e72f258c5e5fc40af23fb7a",
     "grade": true,
     "grade_id": "cell-7907648e74466435",
     "locked": false,
     "points": 0,
     "schema_version": 3,
     "solution": true
    }
   },
   "outputs": [],
   "source": [
    "from tqdm import tqdm\n",
    "class VolatileThreshold:\n",
    "    def __init__(self, graph):\n",
    "        self.G = graph\n",
    "        self.config = None\n",
    "        self.status = {n: 0 for n in graph.nodes}\n",
    "        self.threshold = {n: 0 for n in graph.nodes}\n",
    "        self.num_sample = 0  # since the graph is connected\n",
    "        self.N = len(graph.nodes)\n",
    "        \n",
    "    def set_initial_status(self, config):\n",
    "        self.config = config\n",
    "        # set threshold\n",
    "        thred = config.__dict__['config']['nodes']['threshold']\n",
    "        for n in self.G.nodes:\n",
    "            self.threshold[n] = thred[n]\n",
    "        # set number of samples\n",
    "        self.num_sample = config.__dict__['config']['model']['num_sample']\n",
    "        # set seed nodes\n",
    "        if 'fraction_infected' in config.__dict__['config']['model']:\n",
    "                seed_nodes = random.sample(\n",
    "                    self.G.nodes(), int(config.__dict__['config']['model']['fraction_infected'] * len(self.G.nodes())))\n",
    "        else:\n",
    "            seed_nodes = config.__dict__['config']['status']['Infected']\n",
    "        for n in seed_nodes:\n",
    "            self.status[n] = 1\n",
    "    \n",
    "    def iteration(self):\n",
    "        num_infected_nodes_total = 0  # number of infected node (with status 1)\n",
    "        tmp = {n: self.status[n] for n in self.G.nodes} #current status of all nodes\n",
    "        for n in self.G.nodes:\n",
    "            if self.status[n] == 0:\n",
    "                \n",
    "                num_infected_nodes_in_sample = 0 # initiate a counter for n's infected neighbors\n",
    "                \n",
    "                neighbors = list(self.G.neighbors(n))\n",
    "                if len(neighbors) > self.num_sample:\n",
    "                    # get a sample of n's neighbors of size self.num_sample\n",
    "                    tmp_sample = random.sample(neighbors, self.num_sample) \n",
    "                    # YOUR CODE HERE\n",
    "#                     raise NotImplementedError()\n",
    "                \n",
    "                # count the number of infected neighbors in the sampled neighbors using the statuses stored in tmp\n",
    "                # YOUR CODE HERE\n",
    "                    for i in tmp_sample:\n",
    "                        if tmp[i] == 1:\n",
    "                            num_infected_nodes_in_sample += 1 \n",
    "#                 raise NotImplementedError()\n",
    "\n",
    "                else:\n",
    "                    tmp_sample = neighbors\n",
    "                    for i in tmp_sample:\n",
    "                        if tmp[i] == 1:\n",
    "                            num_infected_nodes_in_sample += 1 \n",
    "                    \n",
    "                \n",
    "                \n",
    "                # compute the ratio of infected nodes in the sampled neighbors\n",
    "                # YOUR CODE HERE\n",
    "                ratio_i_nodes = num_infected_nodes_in_sample / len(tmp_sample)\n",
    "#                 raise NotImplementedError()\n",
    "                \n",
    "                if ratio_i_nodes >= self.threshold[n]:\n",
    "                    self.status[n] = 1\n",
    "                    num_infected_nodes_total += 1\n",
    "                # if the ratio is AT OR ABOVE n's threshold (self.threshold[n]), the node becomes infected. \n",
    "                # in this case, update self.status[n] to 1 and increase the count of total infected nodes by 1\n",
    "                # YOUR CODE HERE\n",
    "#                 raise NotImplementedError()\n",
    "            else:\n",
    "                num_infected_nodes_total += 1\n",
    "        return num_infected_nodes_total\n",
    "    \n",
    "    def iteration_bunch(self, bunch_size):\n",
    "        results = []\n",
    "        num_infected_nodes_total = 0\n",
    "        for n in self.G.nodes:\n",
    "            num_infected_nodes_total += self.status[n]\n",
    "        results.append({0: self.N - num_infected_nodes_total, 1: num_infected_nodes_total})\n",
    "        for i in tqdm(range(bunch_size-1)):\n",
    "            num_infected_nodes_total = self.iteration()\n",
    "            results.append({0: self.N - num_infected_nodes_total, 1: num_infected_nodes_total})\n",
    "        return results"
   ]
  },
  {
   "cell_type": "markdown",
   "metadata": {
    "deletable": false,
    "editable": false,
    "nbgrader": {
     "cell_type": "markdown",
     "checksum": "46cbab8e8f908153fb929f3e05fbb2f4",
     "grade": false,
     "grade_id": "cell-7c2e84c404c34b94",
     "locked": true,
     "schema_version": 3,
     "solution": false
    }
   },
   "source": [
    "### Q18. (7 points, Autograded) Seed nodes comparison\n",
    "\n",
    "Complete the following function with the given signature, so that it simulates a diffusion process with the volatile threshold model and returns a list of infected number in each iteration."
   ]
  },
  {
   "cell_type": "code",
   "execution_count": 30,
   "metadata": {
    "deletable": false,
    "nbgrader": {
     "cell_type": "code",
     "checksum": "451d1725fe7b80aa375cbddfb0675bac",
     "grade": false,
     "grade_id": "cell-315f4d6ef167aeff",
     "locked": false,
     "schema_version": 3,
     "solution": true
    }
   },
   "outputs": [],
   "source": [
    "def simulate_volatile(G, importance_measure=None, iterate=100, n=1, threshold=0.5, sample=5):\n",
    "    if importance_measure:\n",
    "        # select seed nodes\n",
    "        sorted_node = sorted(importance_measure(G).items(), key=operator.itemgetter(1))[::-1]\n",
    "        highest_nodes = [n for n, _ in sorted_node[:n]]\n",
    "\n",
    "    # Model selection\n",
    "    model = VolatileThreshold(G)\n",
    "    random.seed(0)\n",
    "    \n",
    "    cfg = mc.Configuration()\n",
    "    cfg.add_model_parameter('num_sample', sample)\n",
    "    \n",
    "    if importance_measure:\n",
    "        cfg.add_model_initial_configuration('Infected', highest_nodes)\n",
    "    else:\n",
    "        cfg.add_model_parameter('fraction_infected',float(n/len(G.nodes)))\n",
    "\n",
    "    for i in G.nodes:\n",
    "        cfg.add_node_configuration(\"threshold\", i, threshold)\n",
    "\n",
    "            \n",
    "    model.set_initial_status(cfg)  \n",
    "        \n",
    "\n",
    "    # YOUR CODE HERE\n",
    "#     raise NotImplementedError()\n",
    "\n",
    "    # Simulation execution\n",
    "    iterations = model.iteration_bunch(iterate)\n",
    "    return [it[1] for it in iterations]  "
   ]
  },
  {
   "cell_type": "code",
   "execution_count": 31,
   "metadata": {
    "deletable": false,
    "editable": false,
    "nbgrader": {
     "cell_type": "code",
     "checksum": "aefa2bce0daba9c176eb323c6b638c07",
     "grade": true,
     "grade_id": "cell-00edec253cff01fc",
     "locked": true,
     "points": 0,
     "schema_version": 3,
     "solution": false,
     "task": false
    }
   },
   "outputs": [],
   "source": [
    "#hidden tests for Question 18 are within this cell"
   ]
  },
  {
   "cell_type": "code",
   "execution_count": 32,
   "metadata": {
    "deletable": false,
    "editable": false,
    "nbgrader": {
     "cell_type": "code",
     "checksum": "c455e99ee98400f997ffca23e262abf1",
     "grade": true,
     "grade_id": "cell-40da6729fb32d707",
     "locked": true,
     "points": 7,
     "schema_version": 3,
     "solution": false,
     "task": false
    }
   },
   "outputs": [],
   "source": [
    "#hidden tests for Question 18 are within this cell"
   ]
  },
  {
   "cell_type": "markdown",
   "metadata": {
    "deletable": false,
    "editable": false,
    "nbgrader": {
     "cell_type": "markdown",
     "checksum": "da29f54008ae8e204cc3311751ac4f1b",
     "grade": false,
     "grade_id": "cell-bee3287b0510fd1b",
     "locked": true,
     "schema_version": 3,
     "solution": false
    }
   },
   "source": [
    "### Q19. (12 points, Manually graded) Using parameters `I=100`, `N=10`, `T=0.5`, create a plot of the diffusion process (number of currently infected nodes at each iteration) when the sample size $S = [1, 2, 3, 4, 5,100]$, one in each cell. As we have done in previous questions, pick the seed nodes using the 5 different strategies: random, degree, closeness, betweenness, pagerank. "
   ]
  },
  {
   "cell_type": "code",
   "execution_count": 33,
   "metadata": {
    "deletable": false,
    "nbgrader": {
     "cell_type": "code",
     "checksum": "1de39e96d6f90aff9b32962d8c77ddb9",
     "grade": true,
     "grade_id": "cell-1408762b6e84c5f9",
     "locked": false,
     "points": 0,
     "schema_version": 3,
     "solution": true
    }
   },
   "outputs": [
    {
     "name": "stderr",
     "output_type": "stream",
     "text": [
      "100%|██████████| 99/99 [00:00<00:00, 1090.83it/s]\n",
      "100%|██████████| 99/99 [00:00<00:00, 1500.57it/s]\n",
      "100%|██████████| 99/99 [00:00<00:00, 1116.12it/s]\n",
      "100%|██████████| 99/99 [00:00<00:00, 1401.71it/s]\n",
      "100%|██████████| 99/99 [00:00<00:00, 1374.56it/s]\n"
     ]
    },
    {
     "data": {
      "text/plain": [
       "<matplotlib.legend.Legend at 0x7f75fc481e50>"
      ]
     },
     "execution_count": 33,
     "metadata": {},
     "output_type": "execute_result"
    },
    {
     "data": {
      "image/png": "[encoded data removed]",
      "text/plain": [
       "<Figure size 432x288 with 1 Axes>"
      ]
     },
     "metadata": {
      "needs_background": "light"
     },
     "output_type": "display_data"
    }
   ],
   "source": [
    "I=100\n",
    "N=10\n",
    "T = 0.5\n",
    "S = 1\n",
    "\n",
    "# YOUR CODE HERE\n",
    "# raise NotImplementedError()\n",
    "\n",
    "node_count_random = simulate_volatile(G, importance_measure = None, iterate = I, n = N, threshold = T, sample = S)     # number of infected nodes in each iteration, init with randomly selected nodes. This should be a list of integers. \n",
    "node_count_deg = simulate_volatile(G, importance_measure = nx.degree_centrality, iterate = I, n = N, threshold = T, sample = S)        # number of infected nodes in each iteration, init with nodes of highest degree. This should be a list of integers. \n",
    "node_count_closeness= simulate_volatile(G, importance_measure = nx.closeness_centrality, iterate = I, n = N, threshold = T, sample = S)    # number of infected nodes in each iteration, init with nodes of highest closeness centrality. This should be a list of integers. \n",
    "node_count_betweenness = simulate_volatile(G, importance_measure = nx.betweenness_centrality, iterate = I, n = N, threshold = T, sample = S)   # number of infected nodes in each iteration, init with nodes of highest betweenness centrality. This should be a list of integers. \n",
    "node_count_pagerank = simulate_volatile(G, importance_measure = nx.pagerank, iterate = I, n = N, threshold = T, sample = S)    # number of infected nodes in each iteration, init with nodes of highest pagerank. This should be a list of integers. \n",
    "\n",
    "x = list(range(I)) \n",
    "\n",
    "plt.plot(x, node_count_random,color = 'r',label='rand')\n",
    "plt.plot(x, node_count_deg,color = 'g',label = 'deg')\n",
    "plt.plot(x, node_count_closeness,color = 'b',label = 'close')\n",
    "plt.plot(x, node_count_betweenness,color = 'c',label = 'between')\n",
    "plt.plot(x, node_count_pagerank,color = 'm',label = 'pagerank')\n",
    "plt.legend()"
   ]
  },
  {
   "cell_type": "code",
   "execution_count": 34,
   "metadata": {
    "deletable": false,
    "nbgrader": {
     "cell_type": "code",
     "checksum": "5e5b9ccd40900c10e10da63ffb98e6c5",
     "grade": true,
     "grade_id": "cell-465bf288f3efc1df",
     "locked": false,
     "points": 0,
     "schema_version": 3,
     "solution": true
    }
   },
   "outputs": [
    {
     "name": "stderr",
     "output_type": "stream",
     "text": [
      "100%|██████████| 99/99 [00:00<00:00, 2688.53it/s]\n",
      "100%|██████████| 99/99 [00:00<00:00, 3019.79it/s]\n",
      "100%|██████████| 99/99 [00:00<00:00, 2695.94it/s]\n",
      "100%|██████████| 99/99 [00:00<00:00, 3026.72it/s]\n",
      "100%|██████████| 99/99 [00:00<00:00, 3080.41it/s]\n"
     ]
    },
    {
     "data": {
      "text/plain": [
       "<matplotlib.legend.Legend at 0x7f73b44840d0>"
      ]
     },
     "execution_count": 34,
     "metadata": {},
     "output_type": "execute_result"
    },
    {
     "data": {
      "image/png": "[encoded data removed]",
      "text/plain": [
       "<Figure size 432x288 with 1 Axes>"
      ]
     },
     "metadata": {
      "needs_background": "light"
     },
     "output_type": "display_data"
    }
   ],
   "source": [
    "I=100\n",
    "N=10\n",
    "T = 0.5\n",
    "S = 2\n",
    "\n",
    "# YOUR CODE HERE\n",
    "# raise NotImplementedError()\n",
    "\n",
    "node_count_random = simulate_volatile(G, importance_measure = None, iterate = I, n = N, threshold = T, sample = S)     # number of infected nodes in each iteration, init with randomly selected nodes. This should be a list of integers. \n",
    "node_count_deg = simulate_volatile(G, importance_measure = nx.degree_centrality, iterate = I, n = N, threshold = T, sample = S)        # number of infected nodes in each iteration, init with nodes of highest degree. This should be a list of integers. \n",
    "node_count_closeness= simulate_volatile(G, importance_measure = nx.closeness_centrality, iterate = I, n = N, threshold = T, sample = S)    # number of infected nodes in each iteration, init with nodes of highest closeness centrality. This should be a list of integers. \n",
    "node_count_betweenness = simulate_volatile(G, importance_measure = nx.betweenness_centrality, iterate = I, n = N, threshold = T, sample = S)   # number of infected nodes in each iteration, init with nodes of highest betweenness centrality. This should be a list of integers. \n",
    "node_count_pagerank = simulate_volatile(G, importance_measure = nx.pagerank, iterate = I, n = N, threshold = T, sample = S)    # number of infected nodes in each iteration, init with nodes of highest pagerank. This should be a list of integers. \n",
    "\n",
    "x = list(range(I)) \n",
    "\n",
    "plt.plot(x, node_count_random,color = 'r',label='rand')\n",
    "plt.plot(x, node_count_deg,color = 'g',label = 'deg')\n",
    "plt.plot(x, node_count_closeness,color = 'b',label = 'close')\n",
    "plt.plot(x, node_count_betweenness,color = 'c',label = 'between')\n",
    "plt.plot(x, node_count_pagerank,color = 'm',label = 'pagerank')\n",
    "plt.legend()"
   ]
  },
  {
   "cell_type": "code",
   "execution_count": 35,
   "metadata": {
    "deletable": false,
    "nbgrader": {
     "cell_type": "code",
     "checksum": "3c0c438e2e98391141bfb01caac7d238",
     "grade": false,
     "grade_id": "cell-97f590224d5a3d56",
     "locked": false,
     "schema_version": 3,
     "solution": true,
     "task": false
    }
   },
   "outputs": [
    {
     "name": "stderr",
     "output_type": "stream",
     "text": [
      "100%|██████████| 99/99 [00:00<00:00, 768.11it/s]\n",
      "100%|██████████| 99/99 [00:00<00:00, 1215.32it/s]\n",
      "100%|██████████| 99/99 [00:00<00:00, 845.32it/s]\n",
      "100%|██████████| 99/99 [00:00<00:00, 1000.96it/s]\n",
      "100%|██████████| 99/99 [00:00<00:00, 1243.88it/s]\n"
     ]
    },
    {
     "data": {
      "text/plain": [
       "<matplotlib.legend.Legend at 0x7f73b45dbb80>"
      ]
     },
     "execution_count": 35,
     "metadata": {},
     "output_type": "execute_result"
    },
    {
     "data": {
      "image/png": "[encoded data removed]",
      "text/plain": [
       "<Figure size 432x288 with 1 Axes>"
      ]
     },
     "metadata": {
      "needs_background": "light"
     },
     "output_type": "display_data"
    }
   ],
   "source": [
    "I=100\n",
    "N=10\n",
    "T = 0.5\n",
    "S = 3\n",
    "\n",
    "# YOUR CODE HERE\n",
    "# raise NotImplementedError()\n",
    "\n",
    "node_count_random = simulate_volatile(G, importance_measure = None, iterate = I, n = N, threshold = T, sample = S)     # number of infected nodes in each iteration, init with randomly selected nodes. This should be a list of integers. \n",
    "node_count_deg = simulate_volatile(G, importance_measure = nx.degree_centrality, iterate = I, n = N, threshold = T, sample = S)        # number of infected nodes in each iteration, init with nodes of highest degree. This should be a list of integers. \n",
    "node_count_closeness= simulate_volatile(G, importance_measure = nx.closeness_centrality, iterate = I, n = N, threshold = T, sample = S)    # number of infected nodes in each iteration, init with nodes of highest closeness centrality. This should be a list of integers. \n",
    "node_count_betweenness = simulate_volatile(G, importance_measure = nx.betweenness_centrality, iterate = I, n = N, threshold = T, sample = S)   # number of infected nodes in each iteration, init with nodes of highest betweenness centrality. This should be a list of integers. \n",
    "node_count_pagerank = simulate_volatile(G, importance_measure = nx.pagerank, iterate = I, n = N, threshold = T, sample = S)    # number of infected nodes in each iteration, init with nodes of highest pagerank. This should be a list of integers. \n",
    "\n",
    "x = list(range(I)) \n",
    "\n",
    "plt.plot(x, node_count_random,color = 'r',label='rand')\n",
    "plt.plot(x, node_count_deg,color = 'g',label = 'deg')\n",
    "plt.plot(x, node_count_closeness,color = 'b',label = 'close')\n",
    "plt.plot(x, node_count_betweenness,color = 'c',label = 'between')\n",
    "plt.plot(x, node_count_pagerank,color = 'm',label = 'pagerank')\n",
    "plt.legend()"
   ]
  },
  {
   "cell_type": "code",
   "execution_count": 36,
   "metadata": {
    "deletable": false,
    "nbgrader": {
     "cell_type": "code",
     "checksum": "48f09e313fc7f47ba6ff9cb7f0f9e651",
     "grade": true,
     "grade_id": "cell-3a7f1a95e1ba3696",
     "locked": false,
     "points": 0,
     "schema_version": 3,
     "solution": true
    }
   },
   "outputs": [
    {
     "name": "stderr",
     "output_type": "stream",
     "text": [
      "100%|██████████| 99/99 [00:00<00:00, 846.47it/s]\n",
      "100%|██████████| 99/99 [00:00<00:00, 1378.00it/s]\n",
      "100%|██████████| 99/99 [00:00<00:00, 942.31it/s]\n",
      "100%|██████████| 99/99 [00:00<00:00, 1117.95it/s]\n",
      "100%|██████████| 99/99 [00:00<00:00, 1383.31it/s]\n"
     ]
    },
    {
     "data": {
      "text/plain": [
       "<matplotlib.legend.Legend at 0x7f73b43e7a00>"
      ]
     },
     "execution_count": 36,
     "metadata": {},
     "output_type": "execute_result"
    },
    {
     "data": {
      "image/png": "[encoded data removed]",
      "text/plain": [
       "<Figure size 432x288 with 1 Axes>"
      ]
     },
     "metadata": {
      "needs_background": "light"
     },
     "output_type": "display_data"
    }
   ],
   "source": [
    "I=100\n",
    "N=10\n",
    "T = 0.5\n",
    "S = 4\n",
    "\n",
    "# YOUR CODE HERE\n",
    "# raise NotImplementedError()\n",
    "\n",
    "node_count_random = simulate_volatile(G, importance_measure = None, iterate = I, n = N, threshold = T, sample = S)     # number of infected nodes in each iteration, init with randomly selected nodes. This should be a list of integers. \n",
    "node_count_deg = simulate_volatile(G, importance_measure = nx.degree_centrality, iterate = I, n = N, threshold = T, sample = S)        # number of infected nodes in each iteration, init with nodes of highest degree. This should be a list of integers. \n",
    "node_count_closeness= simulate_volatile(G, importance_measure = nx.closeness_centrality, iterate = I, n = N, threshold = T, sample = S)    # number of infected nodes in each iteration, init with nodes of highest closeness centrality. This should be a list of integers. \n",
    "node_count_betweenness = simulate_volatile(G, importance_measure = nx.betweenness_centrality, iterate = I, n = N, threshold = T, sample = S)   # number of infected nodes in each iteration, init with nodes of highest betweenness centrality. This should be a list of integers. \n",
    "node_count_pagerank = simulate_volatile(G, importance_measure = nx.pagerank, iterate = I, n = N, threshold = T, sample = S)    # number of infected nodes in each iteration, init with nodes of highest pagerank. This should be a list of integers. \n",
    "\n",
    "x = list(range(I)) \n",
    "\n",
    "plt.plot(x, node_count_random,color = 'r',label='rand')\n",
    "plt.plot(x, node_count_deg,color = 'g',label = 'deg')\n",
    "plt.plot(x, node_count_closeness,color = 'b',label = 'close')\n",
    "plt.plot(x, node_count_betweenness,color = 'c',label = 'between')\n",
    "plt.plot(x, node_count_pagerank,color = 'm',label = 'pagerank')\n",
    "plt.legend()"
   ]
  },
  {
   "cell_type": "code",
   "execution_count": 37,
   "metadata": {
    "deletable": false,
    "nbgrader": {
     "cell_type": "code",
     "checksum": "d8e20aacbc1e898b6e56474ee73fee77",
     "grade": true,
     "grade_id": "cell-023b7a23bda22ee5",
     "locked": false,
     "points": 0,
     "schema_version": 3,
     "solution": true
    }
   },
   "outputs": [
    {
     "name": "stderr",
     "output_type": "stream",
     "text": [
      "100%|██████████| 99/99 [00:00<00:00, 855.32it/s]\n",
      "100%|██████████| 99/99 [00:00<00:00, 1080.14it/s]\n",
      "100%|██████████| 99/99 [00:00<00:00, 749.40it/s]\n",
      "100%|██████████| 99/99 [00:00<00:00, 972.70it/s]\n",
      "100%|██████████| 99/99 [00:00<00:00, 1147.96it/s]\n"
     ]
    },
    {
     "data": {
      "text/plain": [
       "<matplotlib.legend.Legend at 0x7f73b413ba60>"
      ]
     },
     "execution_count": 37,
     "metadata": {},
     "output_type": "execute_result"
    },
    {
     "data": {
      "image/png": "[encoded data removed]",
      "text/plain": [
       "<Figure size 432x288 with 1 Axes>"
      ]
     },
     "metadata": {
      "needs_background": "light"
     },
     "output_type": "display_data"
    }
   ],
   "source": [
    "I=100\n",
    "N=10\n",
    "T = 0.5\n",
    "S = 5\n",
    "\n",
    "# YOUR CODE HERE\n",
    "# raise NotImplementedError()\n",
    "\n",
    "node_count_random = simulate_volatile(G, importance_measure = None, iterate = I, n = N, threshold = T, sample = S)     # number of infected nodes in each iteration, init with randomly selected nodes. This should be a list of integers. \n",
    "node_count_deg = simulate_volatile(G, importance_measure = nx.degree_centrality, iterate = I, n = N, threshold = T, sample = S)        # number of infected nodes in each iteration, init with nodes of highest degree. This should be a list of integers. \n",
    "node_count_closeness= simulate_volatile(G, importance_measure = nx.closeness_centrality, iterate = I, n = N, threshold = T, sample = S)    # number of infected nodes in each iteration, init with nodes of highest closeness centrality. This should be a list of integers. \n",
    "node_count_betweenness = simulate_volatile(G, importance_measure = nx.betweenness_centrality, iterate = I, n = N, threshold = T, sample = S)   # number of infected nodes in each iteration, init with nodes of highest betweenness centrality. This should be a list of integers. \n",
    "node_count_pagerank = simulate_volatile(G, importance_measure = nx.pagerank, iterate = I, n = N, threshold = T, sample = S)    # number of infected nodes in each iteration, init with nodes of highest pagerank. This should be a list of integers. \n",
    "\n",
    "x = list(range(I)) \n",
    "\n",
    "plt.plot(x, node_count_random,color = 'r',label='rand')\n",
    "plt.plot(x, node_count_deg,color = 'g',label = 'deg')\n",
    "plt.plot(x, node_count_closeness,color = 'b',label = 'close')\n",
    "plt.plot(x, node_count_betweenness,color = 'c',label = 'between')\n",
    "plt.plot(x, node_count_pagerank,color = 'm',label = 'pagerank')\n",
    "plt.legend()"
   ]
  },
  {
   "cell_type": "code",
   "execution_count": 38,
   "metadata": {
    "deletable": false,
    "nbgrader": {
     "cell_type": "code",
     "checksum": "9556cd06453c566fd12e13b8e3096214",
     "grade": true,
     "grade_id": "cell-68fe1985a928cf68",
     "locked": false,
     "points": 0,
     "schema_version": 3,
     "solution": true
    }
   },
   "outputs": [
    {
     "name": "stderr",
     "output_type": "stream",
     "text": [
      "100%|██████████| 99/99 [00:00<00:00, 925.53it/s]\n",
      "100%|██████████| 99/99 [00:00<00:00, 1142.95it/s]\n",
      "100%|██████████| 99/99 [00:00<00:00, 928.62it/s]\n",
      "100%|██████████| 99/99 [00:00<00:00, 1047.66it/s]\n",
      "100%|██████████| 99/99 [00:00<00:00, 1169.73it/s]\n"
     ]
    },
    {
     "data": {
      "text/plain": [
       "<matplotlib.legend.Legend at 0x7f73b40d1730>"
      ]
     },
     "execution_count": 38,
     "metadata": {},
     "output_type": "execute_result"
    },
    {
     "data": {
      "image/png": "[encoded data removed]",
      "text/plain": [
       "<Figure size 432x288 with 1 Axes>"
      ]
     },
     "metadata": {
      "needs_background": "light"
     },
     "output_type": "display_data"
    }
   ],
   "source": [
    "I=100\n",
    "N=10\n",
    "T = 0.5\n",
    "S = 100\n",
    "\n",
    "# YOUR CODE HERE\n",
    "# raise NotImplementedError()\n",
    "\n",
    "node_count_random = simulate_volatile(G, importance_measure = None, iterate = I, n = N, threshold = T, sample = S)     # number of infected nodes in each iteration, init with randomly selected nodes. This should be a list of integers. \n",
    "node_count_deg = simulate_volatile(G, importance_measure = nx.degree_centrality, iterate = I, n = N, threshold = T, sample = S)        # number of infected nodes in each iteration, init with nodes of highest degree. This should be a list of integers. \n",
    "node_count_closeness= simulate_volatile(G, importance_measure = nx.closeness_centrality, iterate = I, n = N, threshold = T, sample = S)    # number of infected nodes in each iteration, init with nodes of highest closeness centrality. This should be a list of integers. \n",
    "node_count_betweenness = simulate_volatile(G, importance_measure = nx.betweenness_centrality, iterate = I, n = N, threshold = T, sample = S)   # number of infected nodes in each iteration, init with nodes of highest betweenness centrality. This should be a list of integers. \n",
    "node_count_pagerank = simulate_volatile(G, importance_measure = nx.pagerank, iterate = I, n = N, threshold = T, sample = S)    # number of infected nodes in each iteration, init with nodes of highest pagerank. This should be a list of integers. \n",
    "\n",
    "x = list(range(I)) \n",
    "\n",
    "plt.plot(x, node_count_random,color = 'r',label='rand')\n",
    "plt.plot(x, node_count_deg,color = 'g',label = 'deg')\n",
    "plt.plot(x, node_count_closeness,color = 'b',label = 'close')\n",
    "plt.plot(x, node_count_betweenness,color = 'c',label = 'between')\n",
    "plt.plot(x, node_count_pagerank,color = 'm',label = 'pagerank')\n",
    "plt.legend()"
   ]
  },
  {
   "cell_type": "markdown",
   "metadata": {
    "deletable": false,
    "editable": false,
    "nbgrader": {
     "cell_type": "markdown",
     "checksum": "52e23e29e2ce241461ddbda5578831a1",
     "grade": false,
     "grade_id": "cell-482a586ee3c81b19",
     "locked": true,
     "schema_version": 3,
     "solution": false
    }
   },
   "source": [
    "### Q20. (8 points, Manually graded) Based on your results in the Q19, given the same set of seed nodes and a sample size within $[0,5]$, how does the total number of infected nodes change as you increase the number of sampled neighbors? Why?\n",
    "\n",
    "**Hint**: Note that we using a relatively high $T$ of 0.5. Think about what this implies about the chances that a node becomes infected when using a large vs. a small sample size. "
   ]
  },
  {
   "cell_type": "markdown",
   "metadata": {
    "deletable": false,
    "nbgrader": {
     "cell_type": "markdown",
     "checksum": "a12ddd2be7aa1dc3b1a05beec9c3c900",
     "grade": true,
     "grade_id": "cell-d24fbb9f85385344",
     "locked": false,
     "points": 0,
     "schema_version": 3,
     "solution": true
    }
   },
   "source": [
    "Given the same set of seed nodes and a sample size range from 0 to 5, the total number of infected nodes decreases as the number of sampled neighbors increases.  Given our parameters, when the sample size decreases, the likelihood that the ratio of infected nodes / the total number of sampled nodes is greater than or equal to the given threshold increases, causing more infected nodes in the network.  At sample sizes one and two, you must only have one infected node in your sample size to meet the threshold, at sample sizes three and four, you must have two infected nodes, and at five you must have three infected nodes in your sample size to meet the high threshold. "
   ]
  },
  {
   "cell_type": "markdown",
   "metadata": {
    "deletable": false,
    "editable": false,
    "nbgrader": {
     "cell_type": "markdown",
     "checksum": "da45aebcbb1e20360db9257f8cf15a6d",
     "grade": false,
     "grade_id": "cell-bb012faf1867e298",
     "locked": true,
     "schema_version": 3,
     "solution": false
    }
   },
   "source": [
    "# End"
   ]
  },
  {
   "cell_type": "code",
   "execution_count": null,
   "metadata": {},
   "outputs": [],
   "source": []
  }
 ],
 "metadata": {
  "coursera": {
   "schema_names": [
    "mads_network_analysis_v2_assignment3"
   ]
  },
  "kernelspec": {
   "display_name": "Python 3 (ipykernel)",
   "language": "python",
   "name": "python3"
  },
  "language_info": {
   "codemirror_mode": {
    "name": "ipython",
    "version": 3
   },
   "file_extension": ".py",
   "mimetype": "text/x-python",
   "name": "python",
   "nbconvert_exporter": "python",
   "pygments_lexer": "ipython3",
   "version": "3.8.10"
  }
 },
 "nbformat": 4,
 "nbformat_minor": 4
}
